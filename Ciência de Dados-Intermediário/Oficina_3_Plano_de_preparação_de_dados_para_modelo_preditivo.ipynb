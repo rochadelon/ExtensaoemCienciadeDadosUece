{
  "nbformat": 4,
  "nbformat_minor": 0,
  "metadata": {
    "colab": {
      "provenance": [],
      "authorship_tag": "ABX9TyPuLIn1BcI+nVKz4HOSgmjX",
      "include_colab_link": true
    },
    "kernelspec": {
      "name": "python3",
      "display_name": "Python 3"
    },
    "language_info": {
      "name": "python"
    }
  },
  "cells": [
    {
      "cell_type": "markdown",
      "metadata": {
        "id": "view-in-github",
        "colab_type": "text"
      },
      "source": [
        "<a href=\"https://colab.research.google.com/github/rochadelon/Uece-C-Jovem/blob/Ci%C3%AAncia-de-Dados-Intermedi%C3%A1rio/Oficina_3_Plano_de_prepara%C3%A7%C3%A3o_de_dados_para_modelo_preditivo.ipynb\" target=\"_parent\"><img src=\"https://colab.research.google.com/assets/colab-badge.svg\" alt=\"Open In Colab\"/></a>"
      ]
    },
    {
      "cell_type": "markdown",
      "source": [
        "*   Alan Delon Sousa Rocha\n",
        "*   C-Jovem - Uece\n",
        "*   Ciência de Dados - Intermediário"
      ],
      "metadata": {
        "id": "W2EpF6vHSYkB"
      }
    },
    {
      "cell_type": "markdown",
      "source": [
        "# Oficina 3 - Plano de preparação de dados para modelo preditivo"
      ],
      "metadata": {
        "id": "_0pMwyaASPEY"
      }
    },
    {
      "cell_type": "markdown",
      "source": [
        "**Desafio:**\n",
        "\n",
        "Você é um analista de dados em uma grande empresa de varejo on-line que acaba de concluir uma campanha de marketing direcionada. A empresa coletou diversos dados sobre os clientes, incluindo informações demográficas, comportamento de compra e respostas à campanha. Agora, sua tarefa é preparar esse conjunto de dados para construir um modelo preditivo que ajudará a empresa a segmentar melhor seus clientes em campanhas futuras.\n",
        "\n",
        "O conjunto de dados contém algumas inconsistências, valores faltantes e variáveis categóricas que precisam ser tratadas para garantir que o modelo preditivo seja preciso e eficaz, conforme apresentado na tabela abaixo:"
      ],
      "metadata": {
        "id": "D-4OuRyEK-uH"
      }
    },
    {
      "cell_type": "code",
      "source": [
        "from google.colab import files\n",
        "import pandas as pd\n",
        "from sklearn.preprocessing import OneHotEncoder, LabelEncoder\n",
        "from sklearn.impute import SimpleImputer\n",
        "\n",
        "df = pd.DataFrame ({\n",
        "    \"Cliente ID\": [1, 2, 3, 4, 5, 6, 7, 8, 9, 10],\n",
        "    \"Idade\": [25, 34, 28, 45, 39, None, 50, 23, 29, 40],\n",
        "    \"Gênero\": [\"Feminino\", \"Masculino\", \"Feminino\", \"Masculino\", None, \"Feminino\", \"Masculino\", \"Feminino\", \"Masculino\", \"Feminino\"],\n",
        "    \"Renda Anual (R$)\": [45000, 60000, None, 80000, 50000, 70000, 100000, 30000, None, 85000],\n",
        "    \"Localização\": [\"São Paulo\", \"Rio de Janeiro\", \"São Paulo\", \"Belo Horizonte\", \"Salvador\", \"Porte Alegre\", \"São Paulo\", \"Curitiba\", \"Rio de Janeiro\", \"Belo Horizonte\"],\n",
        "    \"Compras Anteriores\": [3, 5, 2, None, 4, 6, 8, 1, 3, 7],\n",
        "    \"Resposta à Campanha\": [\"Sim\", \"Não\", \"Sim\", \"Não\", \"Sim\", \"Sim\", \"Não\", \"Não\", \"Sim\", \"Não\"]\n",
        "}\n",
        ")\n",
        "\n",
        "\n",
        "print(df)"
      ],
      "metadata": {
        "colab": {
          "base_uri": "https://localhost:8080/"
        },
        "id": "yeBKKPVhtj4B",
        "outputId": "0cd553c2-94ee-4ce6-a5c3-78414bfceb83"
      },
      "execution_count": null,
      "outputs": [
        {
          "output_type": "stream",
          "name": "stdout",
          "text": [
            "   Cliente ID  Idade     Gênero  Renda Anual (R$)     Localização  \\\n",
            "0           1   25.0   Feminino           45000.0       São Paulo   \n",
            "1           2   34.0  Masculino           60000.0  Rio de Janeiro   \n",
            "2           3   28.0   Feminino               NaN       São Paulo   \n",
            "3           4   45.0  Masculino           80000.0  Belo Horizonte   \n",
            "4           5   39.0       None           50000.0        Salvador   \n",
            "5           6    NaN   Feminino           70000.0    Porte Alegre   \n",
            "6           7   50.0  Masculino          100000.0       São Paulo   \n",
            "7           8   23.0   Feminino           30000.0        Curitiba   \n",
            "8           9   29.0  Masculino               NaN  Rio de Janeiro   \n",
            "9          10   40.0   Feminino           85000.0  Belo Horizonte   \n",
            "\n",
            "   Compras Anteriores Resposta à Campanha  \n",
            "0                 3.0                 Sim  \n",
            "1                 5.0                 Não  \n",
            "2                 2.0                 Sim  \n",
            "3                 NaN                 Não  \n",
            "4                 4.0                 Sim  \n",
            "5                 6.0                 Sim  \n",
            "6                 8.0                 Não  \n",
            "7                 1.0                 Não  \n",
            "8                 3.0                 Sim  \n",
            "9                 7.0                 Não  \n"
          ]
        }
      ]
    },
    {
      "cell_type": "markdown",
      "source": [
        "Var: Idade\n",
        "- Técnica: Imputação pela mediana da idade.\n",
        "- Justificativa: A mediana é menos sensível a outliers e reflete a  \n",
        "  tendência central dos dados.\n",
        "- Impacto: Mantém a coerência da distribuição das idades e reduz viés causado por valores extremos."
      ],
      "metadata": {
        "id": "6Lfxl6X-NcML"
      }
    },
    {
      "cell_type": "code",
      "execution_count": null,
      "metadata": {
        "colab": {
          "base_uri": "https://localhost:8080/"
        },
        "id": "yvuT5IUEtgRQ",
        "outputId": "7fac5ee5-37ae-4d78-cd5d-edd11921a540"
      },
      "outputs": [
        {
          "output_type": "stream",
          "name": "stdout",
          "text": [
            "0    25.0\n",
            "1    34.0\n",
            "2    28.0\n",
            "3    45.0\n",
            "4    39.0\n",
            "5    34.0\n",
            "6    50.0\n",
            "7    23.0\n",
            "8    29.0\n",
            "9    40.0\n",
            "Name: Idade, dtype: float64\n"
          ]
        }
      ],
      "source": [
        "idade_imputer = SimpleImputer(strategy='median')\n",
        "df['Idade'] = idade_imputer.fit_transform(df[['Idade']])\n",
        "\n",
        "print(df['Idade'])"
      ]
    },
    {
      "cell_type": "markdown",
      "source": [
        "Var: 'Gênero', lidando com os valores faltantes.\n",
        "- Técnica: Substituir por uma nova categoria chamada \"Desconhecido\".\n",
        "- Justificativa: Não fazer suposições sobre o gênero por meior de media, moda ou regressao, irá evitar a introdução de viés nos dados, além de preservar informações sobre dados faltantes.\n",
        "- Impacto: Garante que o modelo trate a falta de dados de forma explícita.\n",
        "----\n",
        "\n",
        "Var: 'Gênero', lidando com dados categoricos.\n",
        "- Técnica: One-Hot Encoding.\n",
        "-Justificativa: Representar cada categoria como uma coluna binária evita que os modelos interpretem categorias como ordinais quando utilizado o Label Encoding.\n",
        "-Impacto: Garante que os modelos tratem cada gênero como igualmente importantes."
      ],
      "metadata": {
        "id": "1Kp8lB0GNywU"
      }
    },
    {
      "cell_type": "code",
      "source": [
        "df['Gênero'] = df['Gênero'].fillna('Desconhecido')\n",
        "\n",
        "encoder = OneHotEncoder(sparse_output=False, drop='first')\n",
        "genero_encoded = encoder.fit_transform(df[['Gênero']])\n",
        "\n",
        "colunas_codificadas = encoder.get_feature_names_out(['Gênero'])\n",
        "df_codificado = pd.DataFrame(genero_encoded, columns=colunas_codificadas)\n",
        "df = pd.concat([df, df_codificado], axis=1)\n",
        "df = df.drop(columns=['Gênero'])\n",
        "\n",
        "print(df)\n",
        "\n"
      ],
      "metadata": {
        "id": "jqUMyKxYwGKH",
        "colab": {
          "base_uri": "https://localhost:8080/"
        },
        "outputId": "4422d788-38e6-402f-bdae-261926b8cb96"
      },
      "execution_count": null,
      "outputs": [
        {
          "output_type": "stream",
          "name": "stdout",
          "text": [
            "   Cliente ID  Idade  Renda Anual (R$)     Localização  Compras Anteriores  \\\n",
            "0           1   25.0           45000.0       São Paulo                 3.0   \n",
            "1           2   34.0           60000.0  Rio de Janeiro                 5.0   \n",
            "2           3   28.0               NaN       São Paulo                 2.0   \n",
            "3           4   45.0           80000.0  Belo Horizonte                 NaN   \n",
            "4           5   39.0           50000.0        Salvador                 4.0   \n",
            "5           6   34.0           70000.0    Porte Alegre                 6.0   \n",
            "6           7   50.0          100000.0       São Paulo                 8.0   \n",
            "7           8   23.0           30000.0        Curitiba                 1.0   \n",
            "8           9   29.0               NaN  Rio de Janeiro                 3.0   \n",
            "9          10   40.0           85000.0  Belo Horizonte                 7.0   \n",
            "\n",
            "  Resposta à Campanha  Gênero_Feminino  Gênero_Masculino  \n",
            "0                 Sim              1.0               0.0  \n",
            "1                 Não              0.0               1.0  \n",
            "2                 Sim              1.0               0.0  \n",
            "3                 Não              0.0               1.0  \n",
            "4                 Sim              0.0               0.0  \n",
            "5                 Sim              1.0               0.0  \n",
            "6                 Não              0.0               1.0  \n",
            "7                 Não              1.0               0.0  \n",
            "8                 Sim              0.0               1.0  \n",
            "9                 Não              1.0               0.0  \n"
          ]
        }
      ]
    },
    {
      "cell_type": "markdown",
      "source": [
        "Var: Renda Anual, lidando com os valores faltantes.\n",
        "- Técnica: Imputação pela média ou por regressão preditiva.\n",
        "- Média: Têm vantagem por ser simples de aplicar. Outra alternativa é a imputação por regressão preditiva que garante maior precisão, mas a média pode ser usada caso o objetivo seja maior simplicidade.\n",
        "- Impacto: Pode enviesar os dados principalmente por ser mais sensíveis a outlier's."
      ],
      "metadata": {
        "id": "Fm8lBBmTOmQV"
      }
    },
    {
      "cell_type": "code",
      "source": [
        "media = df['Renda Anual (R$)'].mean()\n",
        "df['Renda Anual (R$)'] = df['Renda Anual (R$)'].fillna(media)\n",
        "print(df['Renda Anual (R$)'])"
      ],
      "metadata": {
        "colab": {
          "base_uri": "https://localhost:8080/"
        },
        "id": "vwDNtyvfz7qn",
        "outputId": "3d6ce5bf-21a9-442e-ebc0-7b42bc96e90c"
      },
      "execution_count": null,
      "outputs": [
        {
          "output_type": "stream",
          "name": "stdout",
          "text": [
            "0     45000.0\n",
            "1     60000.0\n",
            "2     65000.0\n",
            "3     80000.0\n",
            "4     50000.0\n",
            "5     70000.0\n",
            "6    100000.0\n",
            "7     30000.0\n",
            "8     65000.0\n",
            "9     85000.0\n",
            "Name: Renda Anual (R$), dtype: float64\n"
          ]
        }
      ]
    },
    {
      "cell_type": "markdown",
      "source": [
        "Var: Compras Anteriores, lidando com os valores faltantes\n",
        "- Técnica: Imputação pela mediana.\n",
        "- Justificativa: Dados discretos como \"número de compras\" frequentemente têm distribuição enviesada, tornando a mediana mais apropriada.\n",
        "- Impacto: Preserva a consistência com o comportamento de compra observado.\n"
      ],
      "metadata": {
        "id": "sTJJR_gHO8sm"
      }
    },
    {
      "cell_type": "code",
      "source": [
        "imputer = SimpleImputer(strategy='median')\n",
        "\n",
        "df['Compras Anteriores'] = imputer.fit_transform(df[['Compras Anteriores']])\n",
        "\n",
        "print(df)"
      ],
      "metadata": {
        "colab": {
          "base_uri": "https://localhost:8080/"
        },
        "id": "CIfqIskc9akF",
        "outputId": "ae517e78-0285-44ca-f92f-df6170822773"
      },
      "execution_count": null,
      "outputs": [
        {
          "output_type": "stream",
          "name": "stdout",
          "text": [
            "   Cliente ID  Idade  Renda Anual (R$)     Localização  Compras Anteriores  \\\n",
            "0           1   25.0           45000.0       São Paulo                 3.0   \n",
            "1           2   34.0           60000.0  Rio de Janeiro                 5.0   \n",
            "2           3   28.0           65000.0       São Paulo                 2.0   \n",
            "3           4   45.0           80000.0  Belo Horizonte                 4.0   \n",
            "4           5   39.0           50000.0        Salvador                 4.0   \n",
            "5           6   34.0           70000.0    Porte Alegre                 6.0   \n",
            "6           7   50.0          100000.0       São Paulo                 8.0   \n",
            "7           8   23.0           30000.0        Curitiba                 1.0   \n",
            "8           9   29.0           65000.0  Rio de Janeiro                 3.0   \n",
            "9          10   40.0           85000.0  Belo Horizonte                 7.0   \n",
            "\n",
            "  Resposta à Campanha  Gênero_Feminino  Gênero_Masculino  \n",
            "0                 Sim              1.0               0.0  \n",
            "1                 Não              0.0               1.0  \n",
            "2                 Sim              1.0               0.0  \n",
            "3                 Não              0.0               1.0  \n",
            "4                 Sim              0.0               0.0  \n",
            "5                 Sim              1.0               0.0  \n",
            "6                 Não              0.0               1.0  \n",
            "7                 Não              1.0               0.0  \n",
            "8                 Sim              0.0               1.0  \n",
            "9                 Não              1.0               0.0  \n"
          ]
        }
      ]
    },
    {
      "cell_type": "markdown",
      "source": [
        "Var: Resposta à Campanha, lidando com os valores\n",
        "- Técnica: Label Encoding.\n",
        "\"Sim\" → 1\n",
        "\"Não\" → 0\n",
        "- Justificativa: Como essa variável é o alvo do modelo preditivo; codificar como binária facilita a modelagem.\n",
        "- Impacto: Facilita o treinamento do modelo, pois transforma a resposta em variável numérica.\n"
      ],
      "metadata": {
        "id": "ywBKnSYUPE4v"
      }
    },
    {
      "cell_type": "code",
      "source": [
        "label_encoder = LabelEncoder()\n",
        "df['Resposta à Campanha'] = label_encoder.fit_transform(df['Resposta à Campanha'])\n",
        "\n",
        "print(df)"
      ],
      "metadata": {
        "colab": {
          "base_uri": "https://localhost:8080/"
        },
        "id": "mz_7Qu8399F4",
        "outputId": "c09427cb-e4d5-4f77-ebda-9f71e773a1f3"
      },
      "execution_count": null,
      "outputs": [
        {
          "output_type": "stream",
          "name": "stdout",
          "text": [
            "   Cliente ID  Idade  Renda Anual (R$)     Localização  Compras Anteriores  \\\n",
            "0           1   25.0           45000.0       São Paulo                 3.0   \n",
            "1           2   34.0           60000.0  Rio de Janeiro                 5.0   \n",
            "2           3   28.0           65000.0       São Paulo                 2.0   \n",
            "3           4   45.0           80000.0  Belo Horizonte                 4.0   \n",
            "4           5   39.0           50000.0        Salvador                 4.0   \n",
            "5           6   34.0           70000.0    Porte Alegre                 6.0   \n",
            "6           7   50.0          100000.0       São Paulo                 8.0   \n",
            "7           8   23.0           30000.0        Curitiba                 1.0   \n",
            "8           9   29.0           65000.0  Rio de Janeiro                 3.0   \n",
            "9          10   40.0           85000.0  Belo Horizonte                 7.0   \n",
            "\n",
            "   Resposta à Campanha  Gênero_Feminino  Gênero_Masculino  \n",
            "0                    1              1.0               0.0  \n",
            "1                    0              0.0               1.0  \n",
            "2                    1              1.0               0.0  \n",
            "3                    0              0.0               1.0  \n",
            "4                    1              0.0               0.0  \n",
            "5                    1              1.0               0.0  \n",
            "6                    0              0.0               1.0  \n",
            "7                    0              1.0               0.0  \n",
            "8                    1              0.0               1.0  \n",
            "9                    0              1.0               0.0  \n"
          ]
        }
      ]
    },
    {
      "cell_type": "markdown",
      "source": [
        "Var: Localização, lidando com a variável categórica\n",
        "\n",
        "- Técnica: One-Hot Encoding.\n",
        "- Justificativa: Localização pode ter impacto significativo no comportamento de compra então utilizar o One-Hot Encoding, em vez de Label Encoding vai permitir tratar todas as regiões como iguais. Assim como, vai evitar a diminuição da variabilidade de dados em comparação com a imputação de valores de estatística descritiva.\n",
        "- Impacto: Permite que o modelo capture as variações regionais sem introduzir hierarquia."
      ],
      "metadata": {
        "id": "XkMA9dbgQDnp"
      }
    },
    {
      "cell_type": "code",
      "source": [
        "encoder = OneHotEncoder(sparse_output=False, drop='first')\n",
        "localizacao_encoded = encoder.fit_transform(df[['Localização']])\n",
        "\n",
        "colunas_codificadas = encoder.get_feature_names_out(['Localização'])\n",
        "\n",
        "df_codificado = pd.DataFrame(localizacao_encoded, columns=colunas_codificadas, index=df.index)\n",
        "df = pd.concat([df.drop(columns=['Localização']), df_codificado], axis=1)\n",
        "\n",
        "print(df)"
      ],
      "metadata": {
        "colab": {
          "base_uri": "https://localhost:8080/"
        },
        "id": "lBtAWOhMQEIS",
        "outputId": "20c15685-4e16-4aad-96bf-4e25025c71c5"
      },
      "execution_count": null,
      "outputs": [
        {
          "output_type": "stream",
          "name": "stdout",
          "text": [
            "   Cliente ID  Idade  Renda Anual (R$)  Compras Anteriores  \\\n",
            "0           1   25.0           45000.0                 3.0   \n",
            "1           2   34.0           60000.0                 5.0   \n",
            "2           3   28.0           65000.0                 2.0   \n",
            "3           4   45.0           80000.0                 4.0   \n",
            "4           5   39.0           50000.0                 4.0   \n",
            "5           6   34.0           70000.0                 6.0   \n",
            "6           7   50.0          100000.0                 8.0   \n",
            "7           8   23.0           30000.0                 1.0   \n",
            "8           9   29.0           65000.0                 3.0   \n",
            "9          10   40.0           85000.0                 7.0   \n",
            "\n",
            "   Resposta à Campanha  Gênero_Feminino  Gênero_Masculino  \\\n",
            "0                    1              1.0               0.0   \n",
            "1                    0              0.0               1.0   \n",
            "2                    1              1.0               0.0   \n",
            "3                    0              0.0               1.0   \n",
            "4                    1              0.0               0.0   \n",
            "5                    1              1.0               0.0   \n",
            "6                    0              0.0               1.0   \n",
            "7                    0              1.0               0.0   \n",
            "8                    1              0.0               1.0   \n",
            "9                    0              1.0               0.0   \n",
            "\n",
            "   Localização_Curitiba  Localização_Porte Alegre  Localização_Rio de Janeiro  \\\n",
            "0                   0.0                       0.0                         0.0   \n",
            "1                   0.0                       0.0                         1.0   \n",
            "2                   0.0                       0.0                         0.0   \n",
            "3                   0.0                       0.0                         0.0   \n",
            "4                   0.0                       0.0                         0.0   \n",
            "5                   0.0                       1.0                         0.0   \n",
            "6                   0.0                       0.0                         0.0   \n",
            "7                   1.0                       0.0                         0.0   \n",
            "8                   0.0                       0.0                         1.0   \n",
            "9                   0.0                       0.0                         0.0   \n",
            "\n",
            "   Localização_Salvador  Localização_São Paulo  \n",
            "0                   0.0                    1.0  \n",
            "1                   0.0                    0.0  \n",
            "2                   0.0                    1.0  \n",
            "3                   0.0                    0.0  \n",
            "4                   1.0                    0.0  \n",
            "5                   0.0                    0.0  \n",
            "6                   0.0                    1.0  \n",
            "7                   0.0                    0.0  \n",
            "8                   0.0                    0.0  \n",
            "9                   0.0                    0.0  \n"
          ]
        }
      ]
    }
  ]
}