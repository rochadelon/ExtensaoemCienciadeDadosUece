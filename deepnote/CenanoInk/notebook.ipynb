{
  "cells": [
    {
      "cell_type": "markdown",
      "metadata": {
        "tags": [],
        "is_collapsed": false,
        "formattedRanges": [],
        "deepnote_app_coordinates": {
          "h": 2,
          "w": 12,
          "x": 0,
          "y": 0
        },
        "cell_id": "96467a3081114cf7b9221fdd89ef9fdb",
        "deepnote_cell_type": "text-cell-h1"
      },
      "source": "# Google Sheets Reader",
      "block_group": "976fa78ad89f4a41aeb299ef22f7fa9d"
    },
    {
      "cell_type": "markdown",
      "metadata": {
        "tags": [],
        "is_collapsed": false,
        "owner_user_id": "50b4d40c-7ac7-4e6b-88ea-b6c70190d54e",
        "formattedRanges": [],
        "cell_id": "033dddcb8b2e41fd8a93df9037713d5f",
        "deepnote_cell_type": "text-cell-h3"
      },
      "source": "### Insert the link to your Google Sheet",
      "block_group": "9cd03380fb2242b79ab0a91ade404d0d"
    },
    {
      "cell_type": "markdown",
      "metadata": {
        "tags": [],
        "deepnote_cell_height": 74,
        "cell_id": "c25bab90aaa34fc4b2b61f07d49a24d6",
        "deepnote_cell_type": "markdown"
      },
      "source": "For example, `https://docs.google.com/spreadsheets/d/1ih4V4CumuIl5ZynobsazNzGiaPrE2V2Dpt13FI22XNU/edit`. Note: the Google Sheet must be publicly accessible such that anyone with a link can read it.",
      "block_group": "3289497b82a74668addf8323dfe76975"
    },
    {
      "cell_type": "code",
      "metadata": {
        "source_hash": null,
        "execution_start": 1666023415758,
        "execution_millis": 43,
        "deepnote_variable_name": "URL",
        "deepnote_variable_value": "",
        "deepnote_to_be_reexecuted": false,
        "cell_id": "976fa19fc4da4f06b55a1ac3b134d9d4",
        "deepnote_cell_type": "input-text"
      },
      "source": "URL = ''",
      "block_group": "1842d0707d5f4c03911df8c598e2d572",
      "execution_count": null,
      "outputs": [],
      "outputs_reference": null
    },
    {
      "cell_type": "code",
      "metadata": {
        "tags": [],
        "source_hash": null,
        "is_code_hidden": false,
        "execution_start": 1666023427528,
        "execution_millis": 1,
        "deepnote_cell_height": 346,
        "deepnote_to_be_reexecuted": false,
        "cell_id": "fe51f2cc70804318856f8be5db43a2bb",
        "deepnote_cell_type": "code"
      },
      "source": "import pandas as pd\nimport re\n\n# This function will convert the url to a download link\ndef convert_gsheets_url(u):\n    try:\n        worksheet_id = u.split('#gid=')[1]\n    except:\n        # Couldn't get worksheet id. Ignore it\n        worksheet_id = None\n    u = re.findall('https://docs.google.com/spreadsheets/d/.*?/',u)[0]\n    u += 'export'\n    u += '?format=csv'\n    if worksheet_id:\n        u += '&gid={}'.format(worksheet_id)\n    return u",
      "block_group": "3f0c48cc420c45049f9c312757a3ad8a",
      "execution_count": null,
      "outputs": [],
      "outputs_reference": null,
      "content_dependencies": null
    },
    {
      "cell_type": "code",
      "metadata": {
        "tags": [],
        "source_hash": null,
        "is_code_hidden": false,
        "execution_start": 1666023429736,
        "execution_millis": 270,
        "deepnote_cell_height": 251,
        "deepnote_to_be_reexecuted": false,
        "deepnote_app_is_code_hidden": true,
        "cell_id": "45aa43fdac424528aa15de58a92ae026",
        "deepnote_cell_type": "code"
      },
      "source": "sample_url = 'https://docs.google.com/spreadsheets/d/1ih4V4CumuIl5ZynobsazNzGiaPrE2V2Dpt13FI22XNU/edit'\ntry:\n    url = convert_gsheets_url(URL)\n    df = pd.read_csv(url)\n    print('Read successfully')\nexcept:\n    print(f\"Could not read any data from the URL you provided.\\nReading from {sample_url} instead.\")\n    url = convert_gsheets_url(sample_url)\n    df = pd.read_csv(url)",
      "block_group": "ef88fa1ced65415ca7944c574a4afae2",
      "execution_count": null,
      "outputs": [
        {
          "name": "stdout",
          "text": "Read successfully\n",
          "output_type": "stream"
        }
      ],
      "outputs_reference": null,
      "content_dependencies": null
    },
    {
      "cell_type": "markdown",
      "metadata": {
        "tags": [],
        "is_collapsed": false,
        "owner_user_id": "c0bf84b7-11ed-4fa3-82dd-a8dec30d9c2e",
        "formattedRanges": [],
        "cell_id": "e26ac484d418498a92be96aa37303375",
        "deepnote_cell_type": "text-cell-p"
      },
      "source": "Here is a sample of the data we were able to find:",
      "block_group": "c7dd139ac1124d8aae72625039768981"
    },
    {
      "cell_type": "code",
      "metadata": {
        "tags": [],
        "source_hash": null,
        "execution_start": 1666023432315,
        "execution_millis": 19,
        "deepnote_cell_height": 610,
        "deepnote_output_heights": [
          321
        ],
        "deepnote_to_be_reexecuted": false,
        "deepnote_app_is_code_hidden": true,
        "cell_id": "f3c8dfa4cd5a45b5b385713ad49a2bb3",
        "deepnote_cell_type": "code"
      },
      "source": "df.head(10)",
      "block_group": "f353cd1e0f17418a80c25d7b612eaa3e",
      "execution_count": null,
      "outputs": [
        {
          "output_type": "execute_result",
          "execution_count": 4,
          "data": {
            "application/vnd.deepnote.dataframe.v3+json": {
              "column_count": 8,
              "row_count": 10,
              "columns": [
                {
                  "name": "president_number",
                  "dtype": "int64",
                  "stats": {
                    "unique_count": 9,
                    "nan_count": 0,
                    "min": "1",
                    "max": "9",
                    "histogram": [
                      {
                        "bin_start": 1,
                        "bin_end": 1.8,
                        "count": 1
                      },
                      {
                        "bin_start": 1.8,
                        "bin_end": 2.6,
                        "count": 1
                      },
                      {
                        "bin_start": 2.6,
                        "bin_end": 3.4000000000000004,
                        "count": 1
                      },
                      {
                        "bin_start": 3.4000000000000004,
                        "bin_end": 4.2,
                        "count": 1
                      },
                      {
                        "bin_start": 4.2,
                        "bin_end": 5,
                        "count": 0
                      },
                      {
                        "bin_start": 5,
                        "bin_end": 5.800000000000001,
                        "count": 1
                      },
                      {
                        "bin_start": 5.800000000000001,
                        "bin_end": 6.6000000000000005,
                        "count": 1
                      },
                      {
                        "bin_start": 6.6000000000000005,
                        "bin_end": 7.4,
                        "count": 2
                      },
                      {
                        "bin_start": 7.4,
                        "bin_end": 8.2,
                        "count": 1
                      },
                      {
                        "bin_start": 8.2,
                        "bin_end": 9,
                        "count": 1
                      }
                    ]
                  }
                },
                {
                  "name": "name",
                  "dtype": "object",
                  "stats": {
                    "unique_count": 10,
                    "nan_count": 0,
                    "categories": [
                      {
                        "name": "Martha Washington",
                        "count": 1
                      },
                      {
                        "name": "Abigail Adams",
                        "count": 1
                      },
                      {
                        "name": "8 others",
                        "count": 8
                      }
                    ]
                  }
                },
                {
                  "name": "birth",
                  "dtype": "object",
                  "stats": {
                    "unique_count": 10,
                    "nan_count": 0,
                    "categories": [
                      {
                        "name": "1731-06-13",
                        "count": 1
                      },
                      {
                        "name": "1744-11-22",
                        "count": 1
                      },
                      {
                        "name": "8 others",
                        "count": 8
                      }
                    ]
                  }
                },
                {
                  "name": "death",
                  "dtype": "object",
                  "stats": {
                    "unique_count": 10,
                    "nan_count": 0,
                    "categories": [
                      {
                        "name": "1802-05-22",
                        "count": 1
                      },
                      {
                        "name": "1818-10-28",
                        "count": 1
                      },
                      {
                        "name": "8 others",
                        "count": 8
                      }
                    ]
                  }
                },
                {
                  "name": "tenure_start",
                  "dtype": "object",
                  "stats": {
                    "unique_count": 10,
                    "nan_count": 0,
                    "categories": [
                      {
                        "name": "1789-04-30",
                        "count": 1
                      },
                      {
                        "name": "1797-03-04",
                        "count": 1
                      },
                      {
                        "name": "8 others",
                        "count": 8
                      }
                    ]
                  }
                },
                {
                  "name": "tenure_end",
                  "dtype": "object",
                  "stats": {
                    "unique_count": 10,
                    "nan_count": 0,
                    "categories": [
                      {
                        "name": "1797-03-04",
                        "count": 1
                      },
                      {
                        "name": "1801-03-04",
                        "count": 1
                      },
                      {
                        "name": "8 others",
                        "count": 8
                      }
                    ]
                  }
                },
                {
                  "name": "president",
                  "dtype": "object",
                  "stats": {
                    "unique_count": 9,
                    "nan_count": 0,
                    "categories": [
                      {
                        "name": "Andrew Jackson",
                        "count": 2
                      },
                      {
                        "name": "George Washington",
                        "count": 1
                      },
                      {
                        "name": "7 others",
                        "count": 7
                      }
                    ]
                  }
                },
                {
                  "name": "president_relationship",
                  "dtype": "object",
                  "stats": {
                    "unique_count": 4,
                    "nan_count": 0,
                    "categories": [
                      {
                        "name": "Husband",
                        "count": 6
                      },
                      {
                        "name": "Father-in-law",
                        "count": 2
                      },
                      {
                        "name": "2 others",
                        "count": 2
                      }
                    ]
                  }
                },
                {
                  "name": "_deepnote_index_column",
                  "dtype": "int64"
                }
              ],
              "rows": [
                {
                  "president_number": "1",
                  "name": "Martha Washington",
                  "birth": "1731-06-13",
                  "death": "1802-05-22",
                  "tenure_start": "1789-04-30",
                  "tenure_end": "1797-03-04",
                  "president": "George Washington",
                  "president_relationship": "Husband",
                  "_deepnote_index_column": "0"
                },
                {
                  "president_number": "2",
                  "name": "Abigail Adams",
                  "birth": "1744-11-22",
                  "death": "1818-10-28",
                  "tenure_start": "1797-03-04",
                  "tenure_end": "1801-03-04",
                  "president": "John Adams",
                  "president_relationship": "Husband",
                  "_deepnote_index_column": "1"
                },
                {
                  "president_number": "3",
                  "name": "Martha Jefferson",
                  "birth": "1772-09-27",
                  "death": "1836-10-10",
                  "tenure_start": "1801-03-04",
                  "tenure_end": "1809-03-04",
                  "president": "Thomas Jefferson",
                  "president_relationship": "Father",
                  "_deepnote_index_column": "2"
                },
                {
                  "president_number": "4",
                  "name": "Dolly Madison",
                  "birth": "1768-05-20",
                  "death": "1849-07-12",
                  "tenure_start": "1809-03-04",
                  "tenure_end": "1817-03-04",
                  "president": "James Madison",
                  "president_relationship": "Husband",
                  "_deepnote_index_column": "3"
                },
                {
                  "president_number": "5",
                  "name": "Elizabeth Monroe",
                  "birth": "1768-06-30",
                  "death": "1830-09-23",
                  "tenure_start": "1817-03-04",
                  "tenure_end": "1825-03-04",
                  "president": "James Monroe",
                  "president_relationship": "Husband",
                  "_deepnote_index_column": "4"
                },
                {
                  "president_number": "6",
                  "name": "Louisa Adams",
                  "birth": "1775-02-12",
                  "death": "1852-05-15",
                  "tenure_start": "1825-03-04",
                  "tenure_end": "1829-03-04",
                  "president": "John Quincy Adams",
                  "president_relationship": "Husband",
                  "_deepnote_index_column": "5"
                },
                {
                  "president_number": "7",
                  "name": "Emily Donelson",
                  "birth": "1807-06-01",
                  "death": "1836-12-19",
                  "tenure_start": "1829-03-04",
                  "tenure_end": "1834-11-26",
                  "president": "Andrew Jackson",
                  "president_relationship": "Uncle",
                  "_deepnote_index_column": "6"
                },
                {
                  "president_number": "7",
                  "name": "Sarah Jackson",
                  "birth": "1803-07-16",
                  "death": "1887-08-23",
                  "tenure_start": "1834-11-26",
                  "tenure_end": "1837-03-04",
                  "president": "Andrew Jackson",
                  "president_relationship": "Father-in-law",
                  "_deepnote_index_column": "7"
                },
                {
                  "president_number": "8",
                  "name": "Sarah Van Buren",
                  "birth": "1818-02-13",
                  "death": "1877-12-29",
                  "tenure_start": "1838-11-27",
                  "tenure_end": "1841-03-04",
                  "president": "Martin Van Buren",
                  "president_relationship": "Father-in-law",
                  "_deepnote_index_column": "8"
                },
                {
                  "president_number": "9",
                  "name": "Anna Harrison",
                  "birth": "1775-07-25",
                  "death": "1864-02-25",
                  "tenure_start": "1841-03-04",
                  "tenure_end": "1841-04-04",
                  "president": "William Henry Harrison",
                  "president_relationship": "Husband",
                  "_deepnote_index_column": "9"
                }
              ]
            },
            "text/plain": "   president_number               name       birth       death tenure_start  \\\n0                 1  Martha Washington  1731-06-13  1802-05-22   1789-04-30   \n1                 2      Abigail Adams  1744-11-22  1818-10-28   1797-03-04   \n2                 3   Martha Jefferson  1772-09-27  1836-10-10   1801-03-04   \n3                 4      Dolly Madison  1768-05-20  1849-07-12   1809-03-04   \n4                 5   Elizabeth Monroe  1768-06-30  1830-09-23   1817-03-04   \n5                 6       Louisa Adams  1775-02-12  1852-05-15   1825-03-04   \n6                 7     Emily Donelson  1807-06-01  1836-12-19   1829-03-04   \n7                 7      Sarah Jackson  1803-07-16  1887-08-23   1834-11-26   \n8                 8    Sarah Van Buren  1818-02-13  1877-12-29   1838-11-27   \n9                 9      Anna Harrison  1775-07-25  1864-02-25   1841-03-04   \n\n   tenure_end               president president_relationship  \n0  1797-03-04       George Washington                Husband  \n1  1801-03-04              John Adams                Husband  \n2  1809-03-04        Thomas Jefferson                 Father  \n3  1817-03-04           James Madison                Husband  \n4  1825-03-04            James Monroe                Husband  \n5  1829-03-04       John Quincy Adams                Husband  \n6  1834-11-26          Andrew Jackson                  Uncle  \n7  1837-03-04          Andrew Jackson          Father-in-law  \n8  1841-03-04        Martin Van Buren          Father-in-law  \n9  1841-04-04  William Henry Harrison                Husband  ",
            "text/html": "<div>\n<style scoped>\n    .dataframe tbody tr th:only-of-type {\n        vertical-align: middle;\n    }\n\n    .dataframe tbody tr th {\n        vertical-align: top;\n    }\n\n    .dataframe thead th {\n        text-align: right;\n    }\n</style>\n<table border=\"1\" class=\"dataframe\">\n  <thead>\n    <tr style=\"text-align: right;\">\n      <th></th>\n      <th>president_number</th>\n      <th>name</th>\n      <th>birth</th>\n      <th>death</th>\n      <th>tenure_start</th>\n      <th>tenure_end</th>\n      <th>president</th>\n      <th>president_relationship</th>\n    </tr>\n  </thead>\n  <tbody>\n    <tr>\n      <th>0</th>\n      <td>1</td>\n      <td>Martha Washington</td>\n      <td>1731-06-13</td>\n      <td>1802-05-22</td>\n      <td>1789-04-30</td>\n      <td>1797-03-04</td>\n      <td>George Washington</td>\n      <td>Husband</td>\n    </tr>\n    <tr>\n      <th>1</th>\n      <td>2</td>\n      <td>Abigail Adams</td>\n      <td>1744-11-22</td>\n      <td>1818-10-28</td>\n      <td>1797-03-04</td>\n      <td>1801-03-04</td>\n      <td>John Adams</td>\n      <td>Husband</td>\n    </tr>\n    <tr>\n      <th>2</th>\n      <td>3</td>\n      <td>Martha Jefferson</td>\n      <td>1772-09-27</td>\n      <td>1836-10-10</td>\n      <td>1801-03-04</td>\n      <td>1809-03-04</td>\n      <td>Thomas Jefferson</td>\n      <td>Father</td>\n    </tr>\n    <tr>\n      <th>3</th>\n      <td>4</td>\n      <td>Dolly Madison</td>\n      <td>1768-05-20</td>\n      <td>1849-07-12</td>\n      <td>1809-03-04</td>\n      <td>1817-03-04</td>\n      <td>James Madison</td>\n      <td>Husband</td>\n    </tr>\n    <tr>\n      <th>4</th>\n      <td>5</td>\n      <td>Elizabeth Monroe</td>\n      <td>1768-06-30</td>\n      <td>1830-09-23</td>\n      <td>1817-03-04</td>\n      <td>1825-03-04</td>\n      <td>James Monroe</td>\n      <td>Husband</td>\n    </tr>\n    <tr>\n      <th>5</th>\n      <td>6</td>\n      <td>Louisa Adams</td>\n      <td>1775-02-12</td>\n      <td>1852-05-15</td>\n      <td>1825-03-04</td>\n      <td>1829-03-04</td>\n      <td>John Quincy Adams</td>\n      <td>Husband</td>\n    </tr>\n    <tr>\n      <th>6</th>\n      <td>7</td>\n      <td>Emily Donelson</td>\n      <td>1807-06-01</td>\n      <td>1836-12-19</td>\n      <td>1829-03-04</td>\n      <td>1834-11-26</td>\n      <td>Andrew Jackson</td>\n      <td>Uncle</td>\n    </tr>\n    <tr>\n      <th>7</th>\n      <td>7</td>\n      <td>Sarah Jackson</td>\n      <td>1803-07-16</td>\n      <td>1887-08-23</td>\n      <td>1834-11-26</td>\n      <td>1837-03-04</td>\n      <td>Andrew Jackson</td>\n      <td>Father-in-law</td>\n    </tr>\n    <tr>\n      <th>8</th>\n      <td>8</td>\n      <td>Sarah Van Buren</td>\n      <td>1818-02-13</td>\n      <td>1877-12-29</td>\n      <td>1838-11-27</td>\n      <td>1841-03-04</td>\n      <td>Martin Van Buren</td>\n      <td>Father-in-law</td>\n    </tr>\n    <tr>\n      <th>9</th>\n      <td>9</td>\n      <td>Anna Harrison</td>\n      <td>1775-07-25</td>\n      <td>1864-02-25</td>\n      <td>1841-03-04</td>\n      <td>1841-04-04</td>\n      <td>William Henry Harrison</td>\n      <td>Husband</td>\n    </tr>\n  </tbody>\n</table>\n</div>"
          },
          "metadata": {}
        }
      ],
      "outputs_reference": null,
      "content_dependencies": null
    },
    {
      "cell_type": "markdown",
      "source": "<a style='text-decoration:none;line-height:16px;display:flex;color:#5B5B62;padding:10px;justify-content:end;' href='https://deepnote.com?utm_source=created-in-deepnote-cell&projectId=d35fdc8b-8543-45dc-ae25-3ba609dd01b9' target=\"_blank\">\n<img alt='Created in deepnote.com' style='display:inline;max-height:16px;margin:0px;margin-right:7.5px;' src='data:image/svg+xml;base64,PD94bWwgdmVyc2lvbj0iMS4wIiBlbmNvZGluZz0iVVRGLTgiPz4KPHN2ZyB3aWR0aD0iODBweCIgaGVpZ2h0PSI4MHB4IiB2aWV3Qm94PSIwIDAgODAgODAiIHZlcnNpb249IjEuMSIgeG1sbnM9Imh0dHA6Ly93d3cudzMub3JnLzIwMDAvc3ZnIiB4bWxuczp4bGluaz0iaHR0cDovL3d3dy53My5vcmcvMTk5OS94bGluayI+CiAgICA8IS0tIEdlbmVyYXRvcjogU2tldGNoIDU0LjEgKDc2NDkwKSAtIGh0dHBzOi8vc2tldGNoYXBwLmNvbSAtLT4KICAgIDx0aXRsZT5Hcm91cCAzPC90aXRsZT4KICAgIDxkZXNjPkNyZWF0ZWQgd2l0aCBTa2V0Y2guPC9kZXNjPgogICAgPGcgaWQ9IkxhbmRpbmciIHN0cm9rZT0ibm9uZSIgc3Ryb2tlLXdpZHRoPSIxIiBmaWxsPSJub25lIiBmaWxsLXJ1bGU9ImV2ZW5vZGQiPgogICAgICAgIDxnIGlkPSJBcnRib2FyZCIgdHJhbnNmb3JtPSJ0cmFuc2xhdGUoLTEyMzUuMDAwMDAwLCAtNzkuMDAwMDAwKSI+CiAgICAgICAgICAgIDxnIGlkPSJHcm91cC0zIiB0cmFuc2Zvcm09InRyYW5zbGF0ZSgxMjM1LjAwMDAwMCwgNzkuMDAwMDAwKSI+CiAgICAgICAgICAgICAgICA8cG9seWdvbiBpZD0iUGF0aC0yMCIgZmlsbD0iIzAyNjVCNCIgcG9pbnRzPSIyLjM3NjIzNzYyIDgwIDM4LjA0NzY2NjcgODAgNTcuODIxNzgyMiA3My44MDU3NTkyIDU3LjgyMTc4MjIgMzIuNzU5MjczOSAzOS4xNDAyMjc4IDMxLjY4MzE2ODMiPjwvcG9seWdvbj4KICAgICAgICAgICAgICAgIDxwYXRoIGQ9Ik0zNS4wMDc3MTgsODAgQzQyLjkwNjIwMDcsNzYuNDU0OTM1OCA0Ny41NjQ5MTY3LDcxLjU0MjI2NzEgNDguOTgzODY2LDY1LjI2MTk5MzkgQzUxLjExMjI4OTksNTUuODQxNTg0MiA0MS42NzcxNzk1LDQ5LjIxMjIyODQgMjUuNjIzOTg0Niw0OS4yMTIyMjg0IEMyNS40ODQ5Mjg5LDQ5LjEyNjg0NDggMjkuODI2MTI5Niw0My4yODM4MjQ4IDM4LjY0NzU4NjksMzEuNjgzMTY4MyBMNzIuODcxMjg3MSwzMi41NTQ0MjUgTDY1LjI4MDk3Myw2Ny42NzYzNDIxIEw1MS4xMTIyODk5LDc3LjM3NjE0NCBMMzUuMDA3NzE4LDgwIFoiIGlkPSJQYXRoLTIyIiBmaWxsPSIjMDAyODY4Ij48L3BhdGg+CiAgICAgICAgICAgICAgICA8cGF0aCBkPSJNMCwzNy43MzA0NDA1IEwyNy4xMTQ1MzcsMC4yNTcxMTE0MzYgQzYyLjM3MTUxMjMsLTEuOTkwNzE3MDEgODAsMTAuNTAwMzkyNyA4MCwzNy43MzA0NDA1IEM4MCw2NC45NjA0ODgyIDY0Ljc3NjUwMzgsNzkuMDUwMzQxNCAzNC4zMjk1MTEzLDgwIEM0Ny4wNTUzNDg5LDc3LjU2NzA4MDggNTMuNDE4MjY3Nyw3MC4zMTM2MTAzIDUzLjQxODI2NzcsNTguMjM5NTg4NSBDNTMuNDE4MjY3Nyw0MC4xMjg1NTU3IDM2LjMwMzk1NDQsMzcuNzMwNDQwNSAyNS4yMjc0MTcsMzcuNzMwNDQwNSBDMTcuODQzMDU4NiwzNy43MzA0NDA1IDkuNDMzOTE5NjYsMzcuNzMwNDQwNSAwLDM3LjczMDQ0MDUgWiIgaWQ9IlBhdGgtMTkiIGZpbGw9IiMzNzkzRUYiPjwvcGF0aD4KICAgICAgICAgICAgPC9nPgogICAgICAgIDwvZz4KICAgIDwvZz4KPC9zdmc+' > </img>\nCreated in <span style='font-weight:600;margin-left:4px;'>Deepnote</span></a>",
      "metadata": {
        "created_in_deepnote_cell": true,
        "deepnote_cell_type": "markdown"
      }
    }
  ],
  "nbformat": 4,
  "nbformat_minor": 0,
  "metadata": {
    "deepnote_persisted_session": {
      "createdAt": "2022-10-17T16:17:24.175Z"
    },
    "deepnote_app_layout": "article",
    "deepnote_notebook_id": "14420989cdf34b00bc3706677784fdd4"
  }
}