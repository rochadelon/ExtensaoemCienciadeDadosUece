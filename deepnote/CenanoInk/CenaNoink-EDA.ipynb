{
  "cells": [
    {
      "cell_type": "code",
      "metadata": {
        "source_hash": "a6c99d8c",
        "execution_start": 1747429501156,
        "execution_millis": 3,
        "execution_context_id": "6834e896-4408-465e-9527-b4f07442f78a",
        "deepnote_app_block_order": 0,
        "deepnote_app_block_visible": true,
        "deepnote_app_block_group_id": null,
        "deepnote_app_is_code_hidden": true,
        "deepnote_app_is_output_hidden": false,
        "cell_id": "60e4b66e462d49a09644cfbdc45010a8",
        "deepnote_cell_type": "code"
      },
      "source": "import pandas as pd\nimport os \nfrom pathlib import Path\n",
      "block_group": "92be24a37baf46b6b49f0232c8c818b8",
      "execution_count": 1,
      "outputs": [],
      "outputs_reference": null,
      "content_dependencies": null
    },
    {
      "cell_type": "code",
      "metadata": {
        "source_hash": "39dc2306",
        "execution_start": 1747670254573,
        "execution_millis": 2432,
        "execution_context_id": "9cceadf7-7cc9-4659-90ce-317e61ff68b9",
        "cell_id": "0a58b195c84b4b2bb03192a46f13be24",
        "deepnote_cell_type": "code"
      },
      "source": "pip install openpyxl",
      "block_group": "37a08a4523294fcb9ef2fb844596aef8",
      "execution_count": 28,
      "outputs": [
        {
          "name": "stdout",
          "text": "Requirement already satisfied: openpyxl in /root/venv/lib/python3.11/site-packages (3.1.5)\nRequirement already satisfied: et-xmlfile in /root/venv/lib/python3.11/site-packages (from openpyxl) (2.0.0)\n\n\u001b[1m[\u001b[0m\u001b[34;49mnotice\u001b[0m\u001b[1;39;49m]\u001b[0m\u001b[39;49m A new release of pip is available: \u001b[0m\u001b[31;49m24.0\u001b[0m\u001b[39;49m -> \u001b[0m\u001b[32;49m25.1.1\u001b[0m\n\u001b[1m[\u001b[0m\u001b[34;49mnotice\u001b[0m\u001b[1;39;49m]\u001b[0m\u001b[39;49m To update, run: \u001b[0m\u001b[32;49mpip install --upgrade pip\u001b[0m\nNote: you may need to restart the kernel to use updated packages.\n",
          "output_type": "stream"
        }
      ],
      "outputs_reference": null,
      "content_dependencies": null
    },
    {
      "cell_type": "code",
      "metadata": {
        "source_hash": "e8c82e1f",
        "execution_start": 1747670270544,
        "execution_millis": 2796,
        "execution_context_id": "9cceadf7-7cc9-4659-90ce-317e61ff68b9",
        "cell_id": "2baea72d9551444385c2dd17f1a36bbf",
        "deepnote_cell_type": "code"
      },
      "source": "pip install xlrd",
      "block_group": "960331513b9f4cea91db0697ec6ef03d",
      "execution_count": 31,
      "outputs": [
        {
          "name": "stdout",
          "text": "Collecting xlrd\n  Downloading xlrd-2.0.1-py2.py3-none-any.whl.metadata (3.4 kB)\nDownloading xlrd-2.0.1-py2.py3-none-any.whl (96 kB)\n\u001b[2K   \u001b[90m━━━━━━━━━━━━━━━━━━━━━━━━━━━━━━━━━━━━━━━━\u001b[0m \u001b[32m96.5/96.5 kB\u001b[0m \u001b[31m10.4 MB/s\u001b[0m eta \u001b[36m0:00:00\u001b[0m\n\u001b[?25hInstalling collected packages: xlrd\nSuccessfully installed xlrd-2.0.1\n\n\u001b[1m[\u001b[0m\u001b[34;49mnotice\u001b[0m\u001b[1;39;49m]\u001b[0m\u001b[39;49m A new release of pip is available: \u001b[0m\u001b[31;49m24.0\u001b[0m\u001b[39;49m -> \u001b[0m\u001b[32;49m25.1.1\u001b[0m\n\u001b[1m[\u001b[0m\u001b[34;49mnotice\u001b[0m\u001b[1;39;49m]\u001b[0m\u001b[39;49m To update, run: \u001b[0m\u001b[32;49mpip install --upgrade pip\u001b[0m\nNote: you may need to restart the kernel to use updated packages.\n",
          "output_type": "stream"
        }
      ],
      "outputs_reference": null,
      "content_dependencies": null
    },
    {
      "cell_type": "code",
      "metadata": {
        "source_hash": "87764696",
        "execution_start": 1747670278635,
        "execution_millis": 1157,
        "execution_context_id": "9cceadf7-7cc9-4659-90ce-317e61ff68b9",
        "deepnote_app_block_order": 1,
        "deepnote_app_block_visible": true,
        "deepnote_app_block_group_id": null,
        "deepnote_app_is_code_hidden": true,
        "deepnote_app_is_output_hidden": false,
        "cell_id": "7ccfdec5d6814146a3bf048c0eb7c9a6",
        "deepnote_cell_type": "code"
      },
      "source": "from pathlib import Path\nimport pandas as pd\n\npath = Path('/work/CenaNoink/')\nnomes_base_arquivos = ['savedrecs30', 'savedrecs31', 'savedrecs32']\nlista_de_dfs = []\n\nif path.is_dir():\n    print(f\"Processando arquivos com base na lista fornecida em: {path}\")\n\n    for nome_base_da_lista in nomes_base_arquivos:\n        arquivo_encontrado_nesta_iteracao = False\n        for item in path.iterdir():\n            if item.is_file() and item.suffix.lower() == '.xls' and item.stem == nome_base_da_lista:\n                print(f\"  Encontrado arquivo Excel: {item.name} (para a entrada '{nome_base_da_lista}' na lista)\")\n                try:\n                    df_individual = pd.read_excel(item)\n                    lista_de_dfs.append(df_individual)\n                    print(f\"    Lido e adicionado à lista: {item.name}\")\n                    arquivo_encontrado_nesta_iteracao = True\n                    break\n                except Exception as e:\n                    print(f\"Erro ao ler o arquivo {item.name}: {e}\")\n                    break\n        \n        if not arquivo_encontrado_nesta_iteracao:\n            print(f\"  Nenhum arquivo .xls correspondente a '{nome_base_da_lista}' foi encontrado no diretório.\")\n\n    if lista_de_dfs:\n        print(\"\\nConcatenando todos os DataFrames lidos...\")\n        df_final = pd.concat(lista_de_dfs, ignore_index=True)\n\n        print(\"\\n--- DataFrame Final Criado ---\")\n        print(\"Primeiras 5 linhas:\")\n        print(df_final.head())\n        print(\"\\nInformações do DataFrame Final:\")\n        df_final.info()\n        print(f\"\\nTotal de linhas no DataFrame final: {len(df_final)}\")\n    else:\n        print(\"\\nNenhum arquivo Excel válido foi lido e adicionado à lista.\")\n\nelse:\n    print(f\"Erro: O caminho inicial '{path}' não existe ou não é um diretório válido.\")",
      "block_group": "c5f5346aed7e4fcc9977687cd7eaff2f",
      "execution_count": 34,
      "outputs": [
        {
          "name": "stdout",
          "text": "Processando arquivos com base na lista fornecida em: /work/CenaNoink\n  Encontrado arquivo Excel: savedrecs30.xls (para a entrada 'savedrecs30' na lista)\n    Lido e adicionado à lista: savedrecs30.xls\n  Encontrado arquivo Excel: savedrecs31.xls (para a entrada 'savedrecs31' na lista)\n    Lido e adicionado à lista: savedrecs31.xls\n  Encontrado arquivo Excel: savedrecs32.xls (para a entrada 'savedrecs32' na lista)\n    Lido e adicionado à lista: savedrecs32.xls\n\nConcatenando todos os DataFrames lidos...\n\n--- DataFrame Final Criado ---\nPrimeiras 5 linhas:\n  Publication Type                                            Authors  \\\n0                J          Hernández-Rodríguez, P; López-Honorato, E   \n1                J                Jae, UH; Park, BG; An, GS; Choi, SC   \n2                J                 Ismail, RA; Zaidan, SA; Kadhim, RM   \n3                J  Jia, ZF; Li, HQ; Zhao, Y; Frazer, L; Qian, BS;...   \n4                J  Jiang, CH; Liu, SB; Lian, QH; Zhao, J; Ding, W...   \n\n   Book Authors  Book Editors  Book Group Authors  \\\n0           NaN           NaN                 NaN   \n1           NaN           NaN                 NaN   \n2           NaN           NaN                 NaN   \n3           NaN           NaN                 NaN   \n4           NaN           NaN                 NaN   \n\n                                   Author Full Names  Book Author Full Names  \\\n0  Hernandez-Rodriguez, Pedro; Lopez-Honorato, Eddie                     NaN   \n1  Hur, Jae Uk; Park, Bong Geun; An, Gye Seok; Ch...                     NaN   \n2  Ismail, Raid A.; Zaidan, Shihab A.; Kadhim, Ra...                     NaN   \n3  Jia, Zhengfeng; Li, Haoqi; Zhao, Yao; Frazer, ...                     NaN   \n4  Jiang, Chunhai; Liu, Shangbiao; Lian, Qinghuan...                     NaN   \n\n  Group Authors                                      Article Title  \\\n0           NaN  Polymer derived SiC environmental barrier coat...   \n1           NaN  Fabrication of a high solid loading carbon bla...   \n2           NaN  Preparation and characterization of aluminum o...   \n3           NaN  Electrical and mechanical properties of poly(d...   \n4           NaN  Nitrogen-doped carbon-coated hierarchical Li4T...   \n\n                             Source Title  ...  \\\n0                  CERAMICS INTERNATIONAL  ...   \n1  JOURNAL OF CERAMIC PROCESSING RESEARCH  ...   \n2                     APPLIED NANOSCIENCE  ...   \n3            JOURNAL OF MATERIALS SCIENCE  ...   \n4                  CERAMICS INTERNATIONAL  ...   \n\n                             Web of Science Index  \\\n0  Science Citation Index Expanded (SCI-EXPANDED)   \n1  Science Citation Index Expanded (SCI-EXPANDED)   \n2  Science Citation Index Expanded (SCI-EXPANDED)   \n3  Science Citation Index Expanded (SCI-EXPANDED)   \n4  Science Citation Index Expanded (SCI-EXPANDED)   \n\n                        Research Areas IDS Number Pubmed Id  \\\n0                    Materials Science      FA0WT       NaN   \n1                    Materials Science      GA2TF       NaN   \n2  Science & Technology - Other Topics      FQ7BO       NaN   \n3                    Materials Science      FA2XY       NaN   \n4                    Materials Science      FA0WT       NaN   \n\n   Open Access Designations  Highly Cited Status  Hot Paper Status  \\\n0                       NaN                  NaN               NaN   \n1                       NaN                  NaN               NaN   \n2                    hybrid                  NaN               NaN   \n3                       NaN                  NaN               NaN   \n4                       NaN                  NaN               NaN   \n\n   Date of Export   UT (Unique WOS ID) Web of Science Record  \n0      2025-04-23  WOS:000405158100087                     0  \n1      2025-04-23  WOS:000428177200012                     0  \n2      2025-04-23  WOS:000418518000014                     0  \n3      2025-04-23  WOS:000405306300041                     0  \n4      2025-04-23  WOS:000405158100096                     0  \n\n[5 rows x 72 columns]\n\nInformações do DataFrame Final:\n<class 'pandas.core.frame.DataFrame'>\nRangeIndex: 3000 entries, 0 to 2999\nData columns (total 72 columns):\n #   Column                      Non-Null Count  Dtype  \n---  ------                      --------------  -----  \n 0   Publication Type            3000 non-null   object \n 1   Authors                     3000 non-null   object \n 2   Book Authors                0 non-null      float64\n 3   Book Editors                0 non-null      float64\n 4   Book Group Authors          0 non-null      float64\n 5   Author Full Names           3000 non-null   object \n 6   Book Author Full Names      0 non-null      float64\n 7   Group Authors               1 non-null      object \n 8   Article Title               3000 non-null   object \n 9   Source Title                3000 non-null   object \n 10  Book Series Title           0 non-null      float64\n 11  Book Series Subtitle        0 non-null      float64\n 12  Language                    3000 non-null   object \n 13  Document Type               3000 non-null   object \n 14  Conference Title            0 non-null      float64\n 15  Conference Date             0 non-null      float64\n 16  Conference Location         0 non-null      float64\n 17  Conference Sponsor          0 non-null      float64\n 18  Conference Host             0 non-null      float64\n 19  Author Keywords             2631 non-null   object \n 20  Keywords Plus               2839 non-null   object \n 21  Abstract                    2987 non-null   object \n 22  Addresses                   2998 non-null   object \n 23  Affiliations                2944 non-null   object \n 24  Reprint Addresses           2998 non-null   object \n 25  Email Addresses             2912 non-null   object \n 26  Researcher Ids              2428 non-null   object \n 27  ORCIDs                      2176 non-null   object \n 28  Funding Orgs                2322 non-null   object \n 29  Funding Name Preferred      2320 non-null   object \n 30  Funding Text                2314 non-null   object \n 31  Cited References            0 non-null      float64\n 32  Cited Reference Count       3000 non-null   int64  \n 33  Times Cited, WoS Core       3000 non-null   int64  \n 34  Times Cited, All Databases  3000 non-null   int64  \n 35  180 Day Usage Count         3000 non-null   int64  \n 36  Since 2013 Usage Count      3000 non-null   int64  \n 37  Publisher                   3000 non-null   object \n 38  Publisher City              3000 non-null   object \n 39  Publisher Address           3000 non-null   object \n 40  ISSN                        2976 non-null   object \n 41  eISSN                       2357 non-null   object \n 42  ISBN                        0 non-null      float64\n 43  Journal Abbreviation        3000 non-null   object \n 44  Journal ISO Abbreviation    3000 non-null   object \n 45  Publication Date            2644 non-null   object \n 46  Publication Year            3000 non-null   int64  \n 47  Volume                      2997 non-null   float64\n 48  Issue                       2488 non-null   object \n 49  Part Number                 31 non-null     object \n 50  Supplement                  19 non-null     float64\n 51  Special Issue               77 non-null     object \n 52  Meeting Abstract            0 non-null      float64\n 53  Start Page                  2780 non-null   object \n 54  End Page                    2780 non-null   object \n 55  Article Number              218 non-null    object \n 56  DOI                         2913 non-null   object \n 57  DOI Link                    2913 non-null   float64\n 58  Book DOI                    0 non-null      float64\n 59  Early Access Date           0 non-null      float64\n 60  Number of Pages             3000 non-null   int64  \n 61  WoS Categories              3000 non-null   object \n 62  Web of Science Index        3000 non-null   object \n 63  Research Areas              3000 non-null   object \n 64  IDS Number                  3000 non-null   object \n 65  Pubmed Id                   614 non-null    float64\n 66  Open Access Designations    540 non-null    object \n 67  Highly Cited Status         0 non-null      float64\n 68  Hot Paper Status            0 non-null      float64\n 69  Date of Export              3000 non-null   object \n 70  UT (Unique WOS ID)          3000 non-null   object \n 71  Web of Science Record       3000 non-null   int64  \ndtypes: float64(22), int64(8), object(42)\nmemory usage: 1.6+ MB\n\nTotal de linhas no DataFrame final: 3000\n",
          "output_type": "stream"
        }
      ],
      "outputs_reference": null,
      "content_dependencies": null
    },
    {
      "cell_type": "code",
      "metadata": {
        "source_hash": "34890938",
        "execution_start": 1747670286994,
        "execution_millis": 1,
        "execution_context_id": "9cceadf7-7cc9-4659-90ce-317e61ff68b9",
        "deepnote_app_block_order": 2,
        "deepnote_app_block_visible": true,
        "deepnote_app_block_group_id": null,
        "deepnote_app_is_code_hidden": true,
        "deepnote_app_is_output_hidden": false,
        "cell_id": "62a7afc2366c402a9b88c8c7b7851f77",
        "deepnote_cell_type": "code"
      },
      "source": "df_final['Publication Type']",
      "block_group": "a04176e553d6478d9dc9d21101ac3c71",
      "execution_count": 37,
      "outputs": [
        {
          "output_type": "execute_result",
          "execution_count": 37,
          "data": {
            "text/plain": "0       J\n1       J\n2       J\n3       J\n4       J\n       ..\n2995    J\n2996    J\n2997    J\n2998    J\n2999    J\nName: Publication Type, Length: 3000, dtype: object"
          },
          "metadata": {}
        }
      ],
      "outputs_reference": null,
      "content_dependencies": null
    },
    {
      "cell_type": "code",
      "metadata": {
        "source_hash": "5d3d2a",
        "execution_start": 1747670296145,
        "execution_millis": 0,
        "execution_context_id": "9cceadf7-7cc9-4659-90ce-317e61ff68b9",
        "deepnote_app_block_order": 3,
        "deepnote_app_block_visible": true,
        "deepnote_app_block_group_id": null,
        "deepnote_app_is_code_hidden": true,
        "deepnote_app_is_output_hidden": false,
        "cell_id": "aa1ec9e66b99435aabad8b14242b21e5",
        "deepnote_cell_type": "code"
      },
      "source": "df_final['Open Access Designations']",
      "block_group": "15f9953d0f1646239fce072602e2f0ce",
      "execution_count": 40,
      "outputs": [
        {
          "output_type": "execute_result",
          "execution_count": 40,
          "data": {
            "text/plain": "0                                          NaN\n1                                          NaN\n2                                       hybrid\n3                                          NaN\n4                                          NaN\n                         ...                  \n2995           Green Accepted, Green Submitted\n2996    Green Submitted, Green Published, gold\n2997                                       NaN\n2998                                       NaN\n2999                                       NaN\nName: Open Access Designations, Length: 3000, dtype: object"
          },
          "metadata": {}
        }
      ],
      "outputs_reference": null,
      "content_dependencies": null
    },
    {
      "cell_type": "code",
      "metadata": {
        "source_hash": "75ee9d4a",
        "execution_start": 1747670310173,
        "execution_millis": 304,
        "execution_context_id": "9cceadf7-7cc9-4659-90ce-317e61ff68b9",
        "deepnote_app_block_order": 4,
        "deepnote_app_block_visible": true,
        "deepnote_app_block_group_id": null,
        "deepnote_app_is_code_hidden": true,
        "deepnote_app_is_output_hidden": false,
        "cell_id": "cd5a5c2d87524ad4b5898b62b18f1e48",
        "deepnote_cell_type": "code"
      },
      "source": "agrupado1 =df_final.groupby(['Document Type']).size()\nagrupado1.plot.barh()",
      "block_group": "83b770073ec146cfa9b299015ea623f4",
      "execution_count": 43,
      "outputs": [
        {
          "output_type": "execute_result",
          "execution_count": 43,
          "data": {
            "text/plain": "<Axes: ylabel='Document Type'>"
          },
          "metadata": {}
        },
        {
          "data": {
            "text/plain": "<Figure size 640x480 with 1 Axes>",
            "image/png": "[encoded data removed]"
          },
          "metadata": {
            "image/png": {
              "width": 589,
              "height": 413
            }
          },
          "output_type": "display_data"
        }
      ],
      "outputs_reference": null,
      "content_dependencies": null
    },
    {
      "cell_type": "code",
      "metadata": {
        "source_hash": "38cf0451",
        "execution_start": 1747670311046,
        "execution_millis": 152,
        "execution_context_id": "9cceadf7-7cc9-4659-90ce-317e61ff68b9",
        "deepnote_app_block_order": 5,
        "deepnote_app_block_visible": true,
        "deepnote_app_block_group_id": null,
        "deepnote_app_is_code_hidden": true,
        "deepnote_app_is_output_hidden": false,
        "cell_id": "4d8e5d7294c44216ba7d51cd9a64d173",
        "deepnote_cell_type": "code"
      },
      "source": "agrupado1 =df_final.groupby(['Open Access Designations']).size()\nagrupado1.plot.barh()",
      "block_group": "c9354914c5744bf38526599cdfb9e69b",
      "execution_count": 44,
      "outputs": [
        {
          "output_type": "execute_result",
          "execution_count": 44,
          "data": {
            "text/plain": "<Axes: ylabel='Open Access Designations'>"
          },
          "metadata": {}
        },
        {
          "data": {
            "text/plain": "<Figure size 640x480 with 1 Axes>",
            "image/png": "[encoded data removed]"
          },
          "metadata": {
            "image/png": {
              "width": 958,
              "height": 414
            }
          },
          "output_type": "display_data"
        }
      ],
      "outputs_reference": null,
      "content_dependencies": null
    },
    {
      "cell_type": "code",
      "metadata": {
        "source_hash": "8fb6b0d1",
        "execution_start": 1747670311525,
        "execution_millis": 0,
        "execution_context_id": "9cceadf7-7cc9-4659-90ce-317e61ff68b9",
        "deepnote_app_block_order": 6,
        "deepnote_app_block_visible": true,
        "deepnote_app_block_group_id": null,
        "deepnote_app_is_code_hidden": true,
        "deepnote_app_is_output_hidden": false,
        "cell_id": "e9db28f0d406461b960e917fcf655cc0",
        "deepnote_cell_type": "code"
      },
      "source": "df_final['Open Access Designations'].unique()",
      "block_group": "b74e02ccc81548fa99ba071bb0e16133",
      "execution_count": 45,
      "outputs": [
        {
          "output_type": "execute_result",
          "execution_count": 45,
          "data": {
            "text/plain": "array([nan, 'hybrid', 'hybrid, Green Published', 'Bronze', 'gold',\n       'Green Published, Bronze', 'Green Published', 'Green Accepted',\n       'Green Published, hybrid', 'Green Submitted',\n       'Green Submitted, gold', 'Green Published, gold, Green Submitted',\n       'gold, Green Published', 'Green Submitted, Bronze',\n       'Green Submitted, hybrid', 'Green Accepted, hybrid',\n       'Green Submitted, Green Accepted', 'Green Accepted, Bronze',\n       'Green Accepted, Green Submitted, hybrid, Green Published',\n       'gold, Green Published, Green Submitted', 'Green Published, gold',\n       'Green Accepted, Green Published, Green Submitted, gold',\n       'gold, Green Submitted, Green Published',\n       'Green Published, Green Submitted, hybrid',\n       'Green Published, hybrid, Green Submitted',\n       'Bronze, Green Accepted', 'Bronze, Green Published',\n       'Green Published, Green Accepted',\n       'Green Submitted, Green Published',\n       'Green Published, Green Accepted, hybrid',\n       'Green Published, hybrid, Green Accepted', 'gold, Green Submitted',\n       'Green Published, Green Submitted',\n       'Green Accepted, Green Published, hybrid',\n       'Green Accepted, Green Submitted, gold',\n       'Green Published, Green Submitted, gold',\n       'Green Submitted, gold, Green Published',\n       'Green Submitted, Green Published, gold',\n       'hybrid, Green Submitted',\n       'Green Published, Green Submitted, Green Accepted',\n       'Green Submitted, Green Published, Green Accepted',\n       'Green Submitted, Green Published, hybrid',\n       'Bronze, Green Published, Green Accepted',\n       'Green Published, gold, Green Accepted, Green Submitted',\n       'Green Accepted, Green Submitted', 'hybrid, Green Accepted'],\n      dtype=object)"
          },
          "metadata": {}
        }
      ],
      "outputs_reference": null,
      "content_dependencies": null
    },
    {
      "cell_type": "code",
      "metadata": {
        "source_hash": "754b755d",
        "execution_start": 1747670311584,
        "execution_millis": 16,
        "execution_context_id": "9cceadf7-7cc9-4659-90ce-317e61ff68b9",
        "deepnote_app_block_order": 7,
        "deepnote_app_block_visible": true,
        "deepnote_app_block_group_id": null,
        "deepnote_app_is_code_hidden": true,
        "deepnote_app_is_output_hidden": false,
        "cell_id": "a6814bc3b2ff46a999f1f3d3c9062cac",
        "deepnote_cell_type": "code"
      },
      "source": "limite = 0.7\nds = df_final.loc[:, df_final.isnull().mean() <= limite]\nds.head()",
      "block_group": "f38197f314244440b8c4ee3b50a6183a",
      "execution_count": 46,
      "outputs": [
        {
          "output_type": "execute_result",
          "execution_count": 46,
          "data": {
            "application/vnd.deepnote.dataframe.v3+json": {
              "column_count": 47,
              "row_count": 5,
              "columns": [
                {
                  "name": "Publication Type",
                  "dtype": "object",
                  "stats": {
                    "unique_count": 1,
                    "nan_count": 0,
                    "categories": [
                      {
                        "name": "J",
                        "count": 5
                      }
                    ]
                  }
                },
                {
                  "name": "Authors",
                  "dtype": "object",
                  "stats": {
                    "unique_count": 5,
                    "nan_count": 0,
                    "categories": [
                      {
                        "name": "Hernández-Rodríguez, P; López-Honorato, E",
                        "count": 1
                      },
                      {
                        "name": "Jae, UH; Park, BG; An, GS; Choi, SC",
                        "count": 1
                      },
                      {
                        "name": "3 others",
                        "count": 3
                      }
                    ]
                  }
                },
                {
                  "name": "Author Full Names",
                  "dtype": "object",
                  "stats": {
                    "unique_count": 5,
                    "nan_count": 0,
                    "categories": [
                      {
                        "name": "Hernandez-Rodriguez, Pedro; Lopez-Honorato, Eddie",
                        "count": 1
                      },
                      {
                        "name": "Hur, Jae Uk; Park, Bong Geun; An, Gye Seok; Choi, Sung-Churl",
                        "count": 1
                      },
                      {
                        "name": "3 others",
                        "count": 3
                      }
                    ]
                  }
                },
                {
                  "name": "Article Title",
                  "dtype": "object",
                  "stats": {
                    "unique_count": 5,
                    "nan_count": 0,
                    "categories": [
                      {
                        "name": "Polymer derived SiC environmental barrier coatings with superwetting properties",
                        "count": 1
                      },
                      {
                        "name": "Fabrication of a high solid loading carbon black slurry and evaluation of its dispersion property",
                        "count": 1
                      },
                      {
                        "name": "3 others",
                        "count": 3
                      }
                    ]
                  }
                },
                {
                  "name": "Source Title",
                  "dtype": "object",
                  "stats": {
                    "unique_count": 4,
                    "nan_count": 0,
                    "categories": [
                      {
                        "name": "CERAMICS INTERNATIONAL",
                        "count": 2
                      },
                      {
                        "name": "JOURNAL OF CERAMIC PROCESSING RESEARCH",
                        "count": 1
                      },
                      {
                        "name": "2 others",
                        "count": 2
                      }
                    ]
                  }
                },
                {
                  "name": "Language",
                  "dtype": "object",
                  "stats": {
                    "unique_count": 1,
                    "nan_count": 0,
                    "categories": [
                      {
                        "name": "English",
                        "count": 5
                      }
                    ]
                  }
                },
                {
                  "name": "Document Type",
                  "dtype": "object",
                  "stats": {
                    "unique_count": 1,
                    "nan_count": 0,
                    "categories": [
                      {
                        "name": "Article",
                        "count": 5
                      }
                    ]
                  }
                },
                {
                  "name": "Author Keywords",
                  "dtype": "object",
                  "stats": {
                    "unique_count": 4,
                    "nan_count": 1,
                    "categories": [
                      {
                        "name": "Polycarbosilane; Silicon carbide; Coating; Filler materials; Ceramic precursor; Hydrophobic surface",
                        "count": 1
                      },
                      {
                        "name": "3 others",
                        "count": 3
                      },
                      {
                        "name": "Missing",
                        "count": 1
                      }
                    ]
                  }
                },
                {
                  "name": "Keywords Plus",
                  "dtype": "object",
                  "stats": {
                    "unique_count": 5,
                    "nan_count": 0,
                    "categories": [
                      {
                        "name": "SILICON-CARBIDE; CARBOTHERMAL REDUCTION; MECHANICAL-PROPERTIES; POLYCARBOSILANE; PYROLYSIS; CORROSION; SURFACES; FILMS; TEMPERATURE; FABRICATION",
                        "count": 1
                      },
                      {
                        "name": "COLLOIDAL ALUMINA PARTICLES; INFILTRATION; COMPOSITES; ELECTRODES; COATINGS",
                        "count": 1
                      },
                      {
                        "name": "3 others",
                        "count": 3
                      }
                    ]
                  }
                },
                {
                  "name": "Abstract",
                  "dtype": "object",
                  "stats": {
                    "unique_count": 5,
                    "nan_count": 0,
                    "categories": [
                      {
                        "name": "Surfaces with superwetting capabilities can be used for corrosion protection, self-cleaning and bio-fouling protection amongst other applications. In this work, we present a method to produce a SiC coating with an almost superhydrophobic behavior exhibiting water contact angles of 145 +/- 3 degrees. Ceramic coatings were produced by the pyrolysis of polycarbosilane as a preceramic precursor of SiC. Aluminum and carbon powders were used as active and passive fillers to compensate for the volume shrinkage of polycarbosilane during pyrolysis. The effects of particle size (Al particles ranging from 0.8 to 10 mu m) and concentration 10-30% wt.) C and Al of both fillers were studied to produce defect-free ceramic coatings. We have observed that the fillers used not only affected the microstructure but also the surface roughness. We show that the addition of carbon fillers can increase the water contact angle of the ceramic from 42 degrees up to 141 degrees. The combination of carbon and aluminum fillers resulted in water contact angles up to 145 degrees.",
                        "count": 1
                      },
                      {
                        "name": "The effect of amphiphilic fatty acids on the dispersion property of carbon black in non-aqueous solvents was studied. Stearic acid and oleic acid were adopted as dispersants to study the stable dispersion mechanism of carbon black particles in a nonaqueous solvent. Because N-methyl-2-pyrrolidone (NMP) has a relatively high dielectric constant among non-aqueous solvents, it was introduced and had a good affinity for fatty acids. Carbon black was mixed into NMP with or without fatty acids at various contents. The dispersion homogeneity of the slurry was improved by affecting the surface energy of the carbon black particles treated with fatty acid. The slurries with stearic acid or oleic acid had different particle size distributions due to the difference in molecular structure of the hydrophobic groups of the two fatty acids. The rheological property of the carbon black slurry was improved according to the additional amount of added fatty acid, but it declined when it above a specific concentration.",
                        "count": 1
                      },
                      {
                        "name": "3 others",
                        "count": 3
                      }
                    ]
                  }
                },
                {
                  "name": "Addresses",
                  "dtype": "object",
                  "stats": {
                    "unique_count": 5,
                    "nan_count": 0,
                    "categories": [
                      {
                        "name": "[Hernandez-Rodriguez, Pedro; Lopez-Honorato, Eddie] CINVESTAV, IPN, Ctr Invest & Estudios Avanzados, Unidad Saltillo, Ave Ind Met 1062, Ramos Arizpe 25900, Coahuila, Mexico",
                        "count": 1
                      },
                      {
                        "name": "[Hur, Jae Uk; Park, Bong Geun; An, Gye Seok; Choi, Sung-Churl] Hanyang Univ, Div Mat Sci & Engn, 222 Wangsimni Ro, Seoul 04763, South Korea; [An, Gye Seok] Korea Inst Ceram Engn & Technol, Engn Ceram Ctr, 3321 Gyeongchung Daero, Sindun Myeon 17303, Icheon, South Korea",
                        "count": 1
                      },
                      {
                        "name": "3 others",
                        "count": 3
                      }
                    ]
                  }
                },
                {
                  "name": "Affiliations",
                  "dtype": "object",
                  "stats": {
                    "unique_count": 5,
                    "nan_count": 0,
                    "categories": [
                      {
                        "name": "Instituto Politecnico Nacional - Mexico; CINVESTAV - Centro de Investigacion y de Estudios Avanzados del Instituto Politecnico Nacional",
                        "count": 1
                      },
                      {
                        "name": "Hanyang University; Korea Institute of Ceramic Engineering & Technology",
                        "count": 1
                      },
                      {
                        "name": "3 others",
                        "count": 3
                      }
                    ]
                  }
                },
                {
                  "name": "Reprint Addresses",
                  "dtype": "object",
                  "stats": {
                    "unique_count": 5,
                    "nan_count": 0,
                    "categories": [
                      {
                        "name": "López-Honorato, E (corresponding author), CINVESTAV, IPN, Ctr Invest & Estudios Avanzados, Unidad Saltillo, Ave Ind Met 1062, Ramos Arizpe 25900, Coahuila, Mexico.",
                        "count": 1
                      },
                      {
                        "name": "An, GS; Choi, SC (corresponding author), Hanyang Univ, Div Mat Sci & Engn, 222 Wangsimni Ro, Seoul 04763, South Korea.;An, GS (corresponding author), Korea Inst Ceram Engn & Technol, Engn Ceram Ctr, 3321 Gyeongchung Daero, Sindun Myeon 17303, Icheon, South Korea.",
                        "count": 1
                      },
                      {
                        "name": "3 others",
                        "count": 3
                      }
                    ]
                  }
                },
                {
                  "name": "Email Addresses",
                  "dtype": "object",
                  "stats": {
                    "unique_count": 5,
                    "nan_count": 0,
                    "categories": [
                      {
                        "name": "eddie.lopez@cinvestav.edu.mx",
                        "count": 1
                      },
                      {
                        "name": "faustmaro@kicet.re.kr; choi0505@hanyang.ac.kr",
                        "count": 1
                      },
                      {
                        "name": "3 others",
                        "count": 3
                      }
                    ]
                  }
                },
                {
                  "name": "Researcher Ids",
                  "dtype": "object",
                  "stats": {
                    "unique_count": 4,
                    "nan_count": 1,
                    "categories": [
                      {
                        "name": "Honorato, Eddie/AAK-4311-2020",
                        "count": 1
                      },
                      {
                        "name": "3 others",
                        "count": 3
                      },
                      {
                        "name": "Missing",
                        "count": 1
                      }
                    ]
                  }
                },
                {
                  "name": "ORCIDs",
                  "dtype": "object",
                  "stats": {
                    "unique_count": 4,
                    "nan_count": 1,
                    "categories": [
                      {
                        "name": "Lopez-Honorato, Eddie/0000-0001-7948-798X",
                        "count": 1
                      },
                      {
                        "name": "3 others",
                        "count": 3
                      },
                      {
                        "name": "Missing",
                        "count": 1
                      }
                    ]
                  }
                },
                {
                  "name": "Funding Orgs",
                  "dtype": "object",
                  "stats": {
                    "unique_count": 3,
                    "nan_count": 2,
                    "categories": [
                      {
                        "name": "CONACYT-Mexico",
                        "count": 1
                      },
                      {
                        "name": "2 others",
                        "count": 2
                      },
                      {
                        "name": "Missing",
                        "count": 2
                      }
                    ]
                  }
                },
                {
                  "name": "Funding Name Preferred",
                  "dtype": "object",
                  "stats": {
                    "unique_count": 3,
                    "nan_count": 2,
                    "categories": [
                      {
                        "name": "CONACYT-Mexico(Consejo Nacional de Ciencia y Tecnologia (CONACyT))",
                        "count": 1
                      },
                      {
                        "name": "2 others",
                        "count": 2
                      },
                      {
                        "name": "Missing",
                        "count": 2
                      }
                    ]
                  }
                },
                {
                  "name": "Funding Text",
                  "dtype": "object",
                  "stats": {
                    "unique_count": 3,
                    "nan_count": 2,
                    "categories": [
                      {
                        "name": "The authors would like to acknowledge CONACYT-Mexico for a Ph.D. Grant awarded to PHR. Authors would also like to thank the National Laboratory of Graphene Materials for the measurements of surface roughness.",
                        "count": 1
                      },
                      {
                        "name": "2 others",
                        "count": 2
                      },
                      {
                        "name": "Missing",
                        "count": 2
                      }
                    ]
                  }
                },
                {
                  "name": "Cited Reference Count",
                  "dtype": "int64",
                  "stats": {
                    "unique_count": 5,
                    "nan_count": 0,
                    "min": "20",
                    "max": "41",
                    "histogram": [
                      {
                        "bin_start": 20,
                        "bin_end": 22.1,
                        "count": 1
                      },
                      {
                        "bin_start": 22.1,
                        "bin_end": 24.2,
                        "count": 0
                      },
                      {
                        "bin_start": 24.2,
                        "bin_end": 26.3,
                        "count": 1
                      },
                      {
                        "bin_start": 26.3,
                        "bin_end": 28.4,
                        "count": 0
                      },
                      {
                        "bin_start": 28.4,
                        "bin_end": 30.5,
                        "count": 0
                      },
                      {
                        "bin_start": 30.5,
                        "bin_end": 32.6,
                        "count": 1
                      },
                      {
                        "bin_start": 32.6,
                        "bin_end": 34.7,
                        "count": 0
                      },
                      {
                        "bin_start": 34.7,
                        "bin_end": 36.8,
                        "count": 0
                      },
                      {
                        "bin_start": 36.8,
                        "bin_end": 38.900000000000006,
                        "count": 0
                      },
                      {
                        "bin_start": 38.900000000000006,
                        "bin_end": 41,
                        "count": 2
                      }
                    ]
                  }
                },
                {
                  "name": "Times Cited, WoS Core",
                  "dtype": "int64",
                  "stats": {
                    "unique_count": 5,
                    "nan_count": 0,
                    "min": "0",
                    "max": "60",
                    "histogram": [
                      {
                        "bin_start": 0,
                        "bin_end": 6,
                        "count": 1
                      },
                      {
                        "bin_start": 6,
                        "bin_end": 12,
                        "count": 0
                      },
                      {
                        "bin_start": 12,
                        "bin_end": 18,
                        "count": 0
                      },
                      {
                        "bin_start": 18,
                        "bin_end": 24,
                        "count": 2
                      },
                      {
                        "bin_start": 24,
                        "bin_end": 30,
                        "count": 0
                      },
                      {
                        "bin_start": 30,
                        "bin_end": 36,
                        "count": 0
                      },
                      {
                        "bin_start": 36,
                        "bin_end": 42,
                        "count": 0
                      },
                      {
                        "bin_start": 42,
                        "bin_end": 48,
                        "count": 0
                      },
                      {
                        "bin_start": 48,
                        "bin_end": 54,
                        "count": 1
                      },
                      {
                        "bin_start": 54,
                        "bin_end": 60,
                        "count": 1
                      }
                    ]
                  }
                },
                {
                  "name": "Times Cited, All Databases",
                  "dtype": "int64",
                  "stats": {
                    "unique_count": 5,
                    "nan_count": 0,
                    "min": "0",
                    "max": "61",
                    "histogram": [
                      {
                        "bin_start": 0,
                        "bin_end": 6.1,
                        "count": 1
                      },
                      {
                        "bin_start": 6.1,
                        "bin_end": 12.2,
                        "count": 0
                      },
                      {
                        "bin_start": 12.2,
                        "bin_end": 18.299999999999997,
                        "count": 0
                      },
                      {
                        "bin_start": 18.299999999999997,
                        "bin_end": 24.4,
                        "count": 1
                      },
                      {
                        "bin_start": 24.4,
                        "bin_end": 30.5,
                        "count": 1
                      },
                      {
                        "bin_start": 30.5,
                        "bin_end": 36.599999999999994,
                        "count": 0
                      },
                      {
                        "bin_start": 36.599999999999994,
                        "bin_end": 42.699999999999996,
                        "count": 0
                      },
                      {
                        "bin_start": 42.699999999999996,
                        "bin_end": 48.8,
                        "count": 0
                      },
                      {
                        "bin_start": 48.8,
                        "bin_end": 54.9,
                        "count": 0
                      },
                      {
                        "bin_start": 54.9,
                        "bin_end": 61,
                        "count": 2
                      }
                    ]
                  }
                },
                {
                  "name": "180 Day Usage Count",
                  "dtype": "int64",
                  "stats": {
                    "unique_count": 2,
                    "nan_count": 0,
                    "min": "0",
                    "max": "1",
                    "histogram": [
                      {
                        "bin_start": 0,
                        "bin_end": 0.1,
                        "count": 1
                      },
                      {
                        "bin_start": 0.1,
                        "bin_end": 0.2,
                        "count": 0
                      },
                      {
                        "bin_start": 0.2,
                        "bin_end": 0.30000000000000004,
                        "count": 0
                      },
                      {
                        "bin_start": 0.30000000000000004,
                        "bin_end": 0.4,
                        "count": 0
                      },
                      {
                        "bin_start": 0.4,
                        "bin_end": 0.5,
                        "count": 0
                      },
                      {
                        "bin_start": 0.5,
                        "bin_end": 0.6000000000000001,
                        "count": 0
                      },
                      {
                        "bin_start": 0.6000000000000001,
                        "bin_end": 0.7000000000000001,
                        "count": 0
                      },
                      {
                        "bin_start": 0.7000000000000001,
                        "bin_end": 0.8,
                        "count": 0
                      },
                      {
                        "bin_start": 0.8,
                        "bin_end": 0.9,
                        "count": 0
                      },
                      {
                        "bin_start": 0.9,
                        "bin_end": 1,
                        "count": 4
                      }
                    ]
                  }
                },
                {
                  "name": "Since 2013 Usage Count",
                  "dtype": "int64",
                  "stats": {
                    "unique_count": 5,
                    "nan_count": 0,
                    "min": "17",
                    "max": "134",
                    "histogram": [
                      {
                        "bin_start": 17,
                        "bin_end": 28.7,
                        "count": 2
                      },
                      {
                        "bin_start": 28.7,
                        "bin_end": 40.4,
                        "count": 0
                      },
                      {
                        "bin_start": 40.4,
                        "bin_end": 52.099999999999994,
                        "count": 0
                      },
                      {
                        "bin_start": 52.099999999999994,
                        "bin_end": 63.8,
                        "count": 0
                      },
                      {
                        "bin_start": 63.8,
                        "bin_end": 75.5,
                        "count": 0
                      },
                      {
                        "bin_start": 75.5,
                        "bin_end": 87.19999999999999,
                        "count": 1
                      },
                      {
                        "bin_start": 87.19999999999999,
                        "bin_end": 98.89999999999999,
                        "count": 0
                      },
                      {
                        "bin_start": 98.89999999999999,
                        "bin_end": 110.6,
                        "count": 1
                      },
                      {
                        "bin_start": 110.6,
                        "bin_end": 122.3,
                        "count": 0
                      },
                      {
                        "bin_start": 122.3,
                        "bin_end": 134,
                        "count": 1
                      }
                    ]
                  }
                },
                {
                  "name": "Publisher",
                  "dtype": "object",
                  "stats": {
                    "unique_count": 4,
                    "nan_count": 0,
                    "categories": [
                      {
                        "name": "ELSEVIER SCI LTD",
                        "count": 2
                      },
                      {
                        "name": "KOREAN ASSOC CRYSTAL GROWTH, INC",
                        "count": 1
                      },
                      {
                        "name": "2 others",
                        "count": 2
                      }
                    ]
                  }
                },
                {
                  "name": "Publisher City",
                  "dtype": "object",
                  "stats": {
                    "unique_count": 4,
                    "nan_count": 0,
                    "categories": [
                      {
                        "name": "OXFORD",
                        "count": 2
                      },
                      {
                        "name": "SEOUL",
                        "count": 1
                      },
                      {
                        "name": "2 others",
                        "count": 2
                      }
                    ]
                  }
                },
                {
                  "name": "Publisher Address",
                  "dtype": "object",
                  "stats": {
                    "unique_count": 4,
                    "nan_count": 0,
                    "categories": [
                      {
                        "name": "THE BOULEVARD, LANGFORD LANE, KIDLINGTON, OXFORD OX5 1GB, OXON, ENGLAND",
                        "count": 2
                      },
                      {
                        "name": "SUNGDONG POST OFFICE, P O BOX 27, SEOUL 133-600, SOUTH KOREA",
                        "count": 1
                      },
                      {
                        "name": "2 others",
                        "count": 2
                      }
                    ]
                  }
                },
                {
                  "name": "ISSN",
                  "dtype": "object",
                  "stats": {
                    "unique_count": 4,
                    "nan_count": 0,
                    "categories": [
                      {
                        "name": "0272-8842",
                        "count": 2
                      },
                      {
                        "name": "1229-9162",
                        "count": 1
                      },
                      {
                        "name": "2 others",
                        "count": 2
                      }
                    ]
                  }
                },
                {
                  "name": "eISSN",
                  "dtype": "object",
                  "stats": {
                    "unique_count": 3,
                    "nan_count": 1,
                    "categories": [
                      {
                        "name": "1873-3956",
                        "count": 2
                      },
                      {
                        "name": "2 others",
                        "count": 2
                      },
                      {
                        "name": "Missing",
                        "count": 1
                      }
                    ]
                  }
                },
                {
                  "name": "Journal Abbreviation",
                  "dtype": "object",
                  "stats": {
                    "unique_count": 4,
                    "nan_count": 0,
                    "categories": [
                      {
                        "name": "CERAM INT",
                        "count": 2
                      },
                      {
                        "name": "J CERAM PROCESS RES",
                        "count": 1
                      },
                      {
                        "name": "2 others",
                        "count": 2
                      }
                    ]
                  }
                },
                {
                  "name": "Journal ISO Abbreviation",
                  "dtype": "object",
                  "stats": {
                    "unique_count": 4,
                    "nan_count": 0,
                    "categories": [
                      {
                        "name": "Ceram. Int.",
                        "count": 2
                      },
                      {
                        "name": "J. Ceram. Process. Res.",
                        "count": 1
                      },
                      {
                        "name": "2 others",
                        "count": 2
                      }
                    ]
                  }
                },
                {
                  "name": "Publication Date",
                  "dtype": "object",
                  "stats": {
                    "unique_count": 2,
                    "nan_count": 0,
                    "categories": [
                      {
                        "name": "OCT",
                        "count": 3
                      },
                      {
                        "name": "OCT 1",
                        "count": 2
                      }
                    ]
                  }
                },
                {
                  "name": "Publication Year",
                  "dtype": "int64",
                  "stats": {
                    "unique_count": 1,
                    "nan_count": 0,
                    "min": "2017",
                    "max": "2017",
                    "histogram": [
                      {
                        "bin_start": 2016.5,
                        "bin_end": 2016.6,
                        "count": 0
                      },
                      {
                        "bin_start": 2016.6,
                        "bin_end": 2016.7,
                        "count": 0
                      },
                      {
                        "bin_start": 2016.7,
                        "bin_end": 2016.8,
                        "count": 0
                      },
                      {
                        "bin_start": 2016.8,
                        "bin_end": 2016.9,
                        "count": 0
                      },
                      {
                        "bin_start": 2016.9,
                        "bin_end": 2017,
                        "count": 0
                      },
                      {
                        "bin_start": 2017,
                        "bin_end": 2017.1,
                        "count": 5
                      },
                      {
                        "bin_start": 2017.1,
                        "bin_end": 2017.2,
                        "count": 0
                      },
                      {
                        "bin_start": 2017.2,
                        "bin_end": 2017.3,
                        "count": 0
                      },
                      {
                        "bin_start": 2017.3,
                        "bin_end": 2017.4,
                        "count": 0
                      },
                      {
                        "bin_start": 2017.4,
                        "bin_end": 2017.5,
                        "count": 0
                      }
                    ]
                  }
                },
                {
                  "name": "Volume",
                  "dtype": "float64",
                  "stats": {
                    "unique_count": 4,
                    "nan_count": 0,
                    "min": "7.0",
                    "max": "52.0",
                    "histogram": [
                      {
                        "bin_start": 7,
                        "bin_end": 11.5,
                        "count": 1
                      },
                      {
                        "bin_start": 11.5,
                        "bin_end": 16,
                        "count": 0
                      },
                      {
                        "bin_start": 16,
                        "bin_end": 20.5,
                        "count": 1
                      },
                      {
                        "bin_start": 20.5,
                        "bin_end": 25,
                        "count": 0
                      },
                      {
                        "bin_start": 25,
                        "bin_end": 29.5,
                        "count": 0
                      },
                      {
                        "bin_start": 29.5,
                        "bin_end": 34,
                        "count": 0
                      },
                      {
                        "bin_start": 34,
                        "bin_end": 38.5,
                        "count": 0
                      },
                      {
                        "bin_start": 38.5,
                        "bin_end": 43,
                        "count": 0
                      },
                      {
                        "bin_start": 43,
                        "bin_end": 47.5,
                        "count": 2
                      },
                      {
                        "bin_start": 47.5,
                        "bin_end": 52,
                        "count": 1
                      }
                    ]
                  }
                },
                {
                  "name": "Issue",
                  "dtype": "object",
                  "stats": {
                    "unique_count": 4,
                    "nan_count": 0,
                    "categories": [
                      {
                        "name": "14",
                        "count": 2
                      },
                      {
                        "name": "10",
                        "count": 1
                      },
                      {
                        "name": "2 others",
                        "count": 2
                      }
                    ]
                  }
                },
                {
                  "name": "Start Page",
                  "dtype": "object",
                  "stats": {
                    "unique_count": 5,
                    "nan_count": 0,
                    "categories": [
                      {
                        "name": "11289.0",
                        "count": 1
                      },
                      {
                        "name": "760.0",
                        "count": 1
                      },
                      {
                        "name": "3 others",
                        "count": 3
                      }
                    ]
                  }
                },
                {
                  "name": "End Page",
                  "dtype": "object",
                  "stats": {
                    "unique_count": 5,
                    "nan_count": 0,
                    "categories": [
                      {
                        "name": "11295",
                        "count": 1
                      },
                      {
                        "name": "765",
                        "count": 1
                      },
                      {
                        "name": "3 others",
                        "count": 3
                      }
                    ]
                  }
                },
                {
                  "name": "DOI",
                  "dtype": "object",
                  "stats": {
                    "unique_count": 4,
                    "nan_count": 1,
                    "categories": [
                      {
                        "name": "10.1016/j.ceramint.2017.05.326",
                        "count": 1
                      },
                      {
                        "name": "3 others",
                        "count": 3
                      },
                      {
                        "name": "Missing",
                        "count": 1
                      }
                    ]
                  }
                },
                {
                  "name": "DOI Link",
                  "dtype": "float64",
                  "stats": {
                    "unique_count": 1,
                    "nan_count": 1,
                    "min": "0.0",
                    "max": "0.0",
                    "histogram": [
                      {
                        "bin_start": -0.5,
                        "bin_end": -0.4,
                        "count": 0
                      },
                      {
                        "bin_start": -0.4,
                        "bin_end": -0.3,
                        "count": 0
                      },
                      {
                        "bin_start": -0.3,
                        "bin_end": -0.19999999999999996,
                        "count": 0
                      },
                      {
                        "bin_start": -0.19999999999999996,
                        "bin_end": -0.09999999999999998,
                        "count": 0
                      },
                      {
                        "bin_start": -0.09999999999999998,
                        "bin_end": 0,
                        "count": 0
                      },
                      {
                        "bin_start": 0,
                        "bin_end": 0.10000000000000009,
                        "count": 4
                      },
                      {
                        "bin_start": 0.10000000000000009,
                        "bin_end": 0.20000000000000007,
                        "count": 0
                      },
                      {
                        "bin_start": 0.20000000000000007,
                        "bin_end": 0.30000000000000004,
                        "count": 0
                      },
                      {
                        "bin_start": 0.30000000000000004,
                        "bin_end": 0.4,
                        "count": 0
                      },
                      {
                        "bin_start": 0.4,
                        "bin_end": 0.5,
                        "count": 0
                      }
                    ]
                  }
                },
                {
                  "name": "Number of Pages",
                  "dtype": "int64",
                  "stats": {
                    "unique_count": 4,
                    "nan_count": 0,
                    "min": "6",
                    "max": "11",
                    "histogram": [
                      {
                        "bin_start": 6,
                        "bin_end": 6.5,
                        "count": 1
                      },
                      {
                        "bin_start": 6.5,
                        "bin_end": 7,
                        "count": 0
                      },
                      {
                        "bin_start": 7,
                        "bin_end": 7.5,
                        "count": 2
                      },
                      {
                        "bin_start": 7.5,
                        "bin_end": 8,
                        "count": 0
                      },
                      {
                        "bin_start": 8,
                        "bin_end": 8.5,
                        "count": 0
                      },
                      {
                        "bin_start": 8.5,
                        "bin_end": 9,
                        "count": 0
                      },
                      {
                        "bin_start": 9,
                        "bin_end": 9.5,
                        "count": 0
                      },
                      {
                        "bin_start": 9.5,
                        "bin_end": 10,
                        "count": 0
                      },
                      {
                        "bin_start": 10,
                        "bin_end": 10.5,
                        "count": 1
                      },
                      {
                        "bin_start": 10.5,
                        "bin_end": 11,
                        "count": 1
                      }
                    ]
                  }
                },
                {
                  "name": "WoS Categories",
                  "dtype": "object",
                  "stats": {
                    "unique_count": 3,
                    "nan_count": 0,
                    "categories": [
                      {
                        "name": "Materials Science, Ceramics",
                        "count": 3
                      },
                      {
                        "name": "Nanoscience & Nanotechnology",
                        "count": 1
                      },
                      {
                        "name": "Materials Science, Multidisciplinary",
                        "count": 1
                      }
                    ]
                  }
                },
                {
                  "name": "Web of Science Index",
                  "dtype": "object",
                  "stats": {
                    "unique_count": 1,
                    "nan_count": 0,
                    "categories": [
                      {
                        "name": "Science Citation Index Expanded (SCI-EXPANDED)",
                        "count": 5
                      }
                    ]
                  }
                },
                {
                  "name": "Research Areas",
                  "dtype": "object",
                  "stats": {
                    "unique_count": 2,
                    "nan_count": 0,
                    "categories": [
                      {
                        "name": "Materials Science",
                        "count": 4
                      },
                      {
                        "name": "Science & Technology - Other Topics",
                        "count": 1
                      }
                    ]
                  }
                },
                {
                  "name": "IDS Number",
                  "dtype": "object",
                  "stats": {
                    "unique_count": 4,
                    "nan_count": 0,
                    "categories": [
                      {
                        "name": "FA0WT",
                        "count": 2
                      },
                      {
                        "name": "GA2TF",
                        "count": 1
                      },
                      {
                        "name": "2 others",
                        "count": 2
                      }
                    ]
                  }
                },
                {
                  "name": "Date of Export",
                  "dtype": "object",
                  "stats": {
                    "unique_count": 1,
                    "nan_count": 0,
                    "categories": [
                      {
                        "name": "2025-04-23",
                        "count": 5
                      }
                    ]
                  }
                },
                {
                  "name": "UT (Unique WOS ID)",
                  "dtype": "object",
                  "stats": {
                    "unique_count": 5,
                    "nan_count": 0,
                    "categories": [
                      {
                        "name": "WOS:000405158100087",
                        "count": 1
                      },
                      {
                        "name": "WOS:000428177200012",
                        "count": 1
                      },
                      {
                        "name": "3 others",
                        "count": 3
                      }
                    ]
                  }
                },
                {
                  "name": "Web of Science Record",
                  "dtype": "int64",
                  "stats": {
                    "unique_count": 1,
                    "nan_count": 0,
                    "min": "0",
                    "max": "0",
                    "histogram": [
                      {
                        "bin_start": -0.5,
                        "bin_end": -0.4,
                        "count": 0
                      },
                      {
                        "bin_start": -0.4,
                        "bin_end": -0.3,
                        "count": 0
                      },
                      {
                        "bin_start": -0.3,
                        "bin_end": -0.19999999999999996,
                        "count": 0
                      },
                      {
                        "bin_start": -0.19999999999999996,
                        "bin_end": -0.09999999999999998,
                        "count": 0
                      },
                      {
                        "bin_start": -0.09999999999999998,
                        "bin_end": 0,
                        "count": 0
                      },
                      {
                        "bin_start": 0,
                        "bin_end": 0.10000000000000009,
                        "count": 5
                      },
                      {
                        "bin_start": 0.10000000000000009,
                        "bin_end": 0.20000000000000007,
                        "count": 0
                      },
                      {
                        "bin_start": 0.20000000000000007,
                        "bin_end": 0.30000000000000004,
                        "count": 0
                      },
                      {
                        "bin_start": 0.30000000000000004,
                        "bin_end": 0.4,
                        "count": 0
                      },
                      {
                        "bin_start": 0.4,
                        "bin_end": 0.5,
                        "count": 0
                      }
                    ]
                  }
                },
                {
                  "name": "_deepnote_index_column",
                  "dtype": "int64"
                }
              ],
              "rows": [
                {
                  "Publication Type": "J",
                  "Authors": "Hernández-Rodríguez, P; López-Honorato, E",
                  "Author Full Names": "Hernandez-Rodriguez, Pedro; Lopez-Honorato, Eddie",
                  "Article Title": "Polymer derived SiC environmental barrier coatings with superwetting properties",
                  "Source Title": "CERAMICS INTERNATIONAL",
                  "Language": "English",
                  "Document Type": "Article",
                  "Author Keywords": "Polycarbosilane; Silicon carbide; Coating; Filler materials; Ceramic precursor; Hydrophobic surface",
                  "Keywords Plus": "SILICON-CARBIDE; CARBOTHERMAL REDUCTION; MECHANICAL-PROPERTIES; POLYCARBOSILANE; PYROLYSIS; CORROSION; SURFACES; FILMS; TEMPERATURE; FABRICATION",
                  "Abstract": "Surfaces with superwetting capabilities can be used for corrosion protection, self-cleaning and bio-fouling protection amongst other applications. In this work, we present a method to produce a SiC coating with an almost superhydrophobic behavior exhibiting water contact angles of 145 +/- 3 degrees. Ceramic coatings were produced by the pyrolysis of polycarbosilane as a preceramic precursor of SiC. Aluminum and carbon powders were used as active and passive fillers to compensate for the volume shrinkage of polycarbosilane during pyrolysis. The effects of particle size (Al particles ranging from 0.8 to 10 mu m) and concentration 10-30% wt.) C and Al of both fillers were studied to produce defect-free ceramic coatings. We have observed that the fillers used not only affected the microstructure but also the surface roughness. We show that the addition of carbon fillers can increase the water contact angle of the ceramic from 42 degrees up to 141 degrees. The combination of carbon and alu…",
                  "Addresses": "[Hernandez-Rodriguez, Pedro; Lopez-Honorato, Eddie] CINVESTAV, IPN, Ctr Invest & Estudios Avanzados, Unidad Saltillo, Ave Ind Met 1062, Ramos Arizpe 25900, Coahuila, Mexico",
                  "Affiliations": "Instituto Politecnico Nacional - Mexico; CINVESTAV - Centro de Investigacion y de Estudios Avanzados del Instituto Politecnico Nacional",
                  "Reprint Addresses": "López-Honorato, E (corresponding author), CINVESTAV, IPN, Ctr Invest & Estudios Avanzados, Unidad Saltillo, Ave Ind Met 1062, Ramos Arizpe 25900, Coahuila, Mexico.",
                  "Email Addresses": "eddie.lopez@cinvestav.edu.mx",
                  "Researcher Ids": "Honorato, Eddie/AAK-4311-2020",
                  "ORCIDs": "Lopez-Honorato, Eddie/0000-0001-7948-798X",
                  "Funding Orgs": "CONACYT-Mexico",
                  "Funding Name Preferred": "CONACYT-Mexico(Consejo Nacional de Ciencia y Tecnologia (CONACyT))",
                  "Funding Text": "The authors would like to acknowledge CONACYT-Mexico for a Ph.D. Grant awarded to PHR. Authors would also like to thank the National Laboratory of Graphene Materials for the measurements of surface roughness.",
                  "Cited Reference Count": 31,
                  "Times Cited, WoS Core": 20,
                  "Times Cited, All Databases": 26,
                  "180 Day Usage Count": 1,
                  "Since 2013 Usage Count": 76,
                  "Publisher": "ELSEVIER SCI LTD",
                  "Publisher City": "OXFORD",
                  "Publisher Address": "THE BOULEVARD, LANGFORD LANE, KIDLINGTON, OXFORD OX5 1GB, OXON, ENGLAND",
                  "ISSN": "0272-8842",
                  "eISSN": "1873-3956",
                  "Journal Abbreviation": "CERAM INT",
                  "Journal ISO Abbreviation": "Ceram. Int.",
                  "Publication Date": "OCT 1",
                  "Publication Year": 2017,
                  "Volume": 43,
                  "Issue": "14",
                  "Start Page": "11289.0",
                  "End Page": "11295",
                  "DOI": "10.1016/j.ceramint.2017.05.326",
                  "DOI Link": 0,
                  "Number of Pages": 7,
                  "WoS Categories": "Materials Science, Ceramics",
                  "Web of Science Index": "Science Citation Index Expanded (SCI-EXPANDED)",
                  "Research Areas": "Materials Science",
                  "IDS Number": "FA0WT",
                  "Date of Export": "2025-04-23",
                  "UT (Unique WOS ID)": "WOS:000405158100087",
                  "Web of Science Record": 0,
                  "_deepnote_index_column": 0
                },
                {
                  "Publication Type": "J",
                  "Authors": "Jae, UH; Park, BG; An, GS; Choi, SC",
                  "Author Full Names": "Hur, Jae Uk; Park, Bong Geun; An, Gye Seok; Choi, Sung-Churl",
                  "Article Title": "Fabrication of a high solid loading carbon black slurry and evaluation of its dispersion property",
                  "Source Title": "JOURNAL OF CERAMIC PROCESSING RESEARCH",
                  "Language": "English",
                  "Document Type": "Article",
                  "Author Keywords": "Carbon black; High solid loading slurry; Dispersion; Rheology; Polar aprotic solvent",
                  "Keywords Plus": "COLLOIDAL ALUMINA PARTICLES; INFILTRATION; COMPOSITES; ELECTRODES; COATINGS",
                  "Abstract": "The effect of amphiphilic fatty acids on the dispersion property of carbon black in non-aqueous solvents was studied. Stearic acid and oleic acid were adopted as dispersants to study the stable dispersion mechanism of carbon black particles in a nonaqueous solvent. Because N-methyl-2-pyrrolidone (NMP) has a relatively high dielectric constant among non-aqueous solvents, it was introduced and had a good affinity for fatty acids. Carbon black was mixed into NMP with or without fatty acids at various contents. The dispersion homogeneity of the slurry was improved by affecting the surface energy of the carbon black particles treated with fatty acid. The slurries with stearic acid or oleic acid had different particle size distributions due to the difference in molecular structure of the hydrophobic groups of the two fatty acids. The rheological property of the carbon black slurry was improved according to the additional amount of added fatty acid, but it declined when it above a specific c…",
                  "Addresses": "[Hur, Jae Uk; Park, Bong Geun; An, Gye Seok; Choi, Sung-Churl] Hanyang Univ, Div Mat Sci & Engn, 222 Wangsimni Ro, Seoul 04763, South Korea; [An, Gye Seok] Korea Inst Ceram Engn & Technol, Engn Ceram Ctr, 3321 Gyeongchung Daero, Sindun Myeon 17303, Icheon, South Korea",
                  "Affiliations": "Hanyang University; Korea Institute of Ceramic Engineering & Technology",
                  "Reprint Addresses": "An, GS; Choi, SC (corresponding author), Hanyang Univ, Div Mat Sci & Engn, 222 Wangsimni Ro, Seoul 04763, South Korea.;An, GS (corresponding author), Korea Inst Ceram Engn & Technol, Engn Ceram Ctr, 3321 Gyeongchung Daero, Sindun Myeon 17303, Icheon, South Korea.",
                  "Email Addresses": "faustmaro@kicet.re.kr; choi0505@hanyang.ac.kr",
                  "Researcher Ids": "nan",
                  "ORCIDs": "nan",
                  "Funding Orgs": "nan",
                  "Funding Name Preferred": "nan",
                  "Funding Text": "nan",
                  "Cited Reference Count": 20,
                  "Times Cited, WoS Core": 0,
                  "Times Cited, All Databases": 0,
                  "180 Day Usage Count": 0,
                  "Since 2013 Usage Count": 19,
                  "Publisher": "KOREAN ASSOC CRYSTAL GROWTH, INC",
                  "Publisher City": "SEOUL",
                  "Publisher Address": "SUNGDONG POST OFFICE, P O BOX 27, SEOUL 133-600, SOUTH KOREA",
                  "ISSN": "1229-9162",
                  "eISSN": "nan",
                  "Journal Abbreviation": "J CERAM PROCESS RES",
                  "Journal ISO Abbreviation": "J. Ceram. Process. Res.",
                  "Publication Date": "OCT",
                  "Publication Year": 2017,
                  "Volume": 18,
                  "Issue": "10",
                  "Start Page": "760.0",
                  "End Page": "765",
                  "DOI": "nan",
                  "DOI Link": "nan",
                  "Number of Pages": 6,
                  "WoS Categories": "Materials Science, Ceramics",
                  "Web of Science Index": "Science Citation Index Expanded (SCI-EXPANDED)",
                  "Research Areas": "Materials Science",
                  "IDS Number": "GA2TF",
                  "Date of Export": "2025-04-23",
                  "UT (Unique WOS ID)": "WOS:000428177200012",
                  "Web of Science Record": 0,
                  "_deepnote_index_column": 1
                },
                {
                  "Publication Type": "J",
                  "Authors": "Ismail, RA; Zaidan, SA; Kadhim, RM",
                  "Author Full Names": "Ismail, Raid A.; Zaidan, Shihab A.; Kadhim, Rafal M.",
                  "Article Title": "Preparation and characterization of aluminum oxide nanoparticles by laser ablation in liquid as passivating and anti-reflection coating for silicon photodiodes",
                  "Source Title": "APPLIED NANOSCIENCE",
                  "Language": "English",
                  "Document Type": "Article",
                  "Author Keywords": "Al2O3; Nanoparticles; Laser ablation; Laser fluence; Ethanol; Silicon photodiode",
                  "Keywords Plus": "THIN-FILMS; OPTICAL-PROPERTIES; SOLAR-CELLS; GAMMA-AL2O3; SIZE",
                  "Abstract": "In this study, we have prepared aluminum oxide (Al2O3 nanoparticles) NPs with size ranging from 50 to 90 nm by laser ablation of aluminum target in ethanol. The effect of laser fluence on the structural, morphological and optical properties of Al2O3 was demonstrated and discussed. X-ray diffraction XRD results confirm that the synthesized Al2O3 NPs are crystalline in nature. The sample prepared at 3.5 J/cm(2)/pulse exhibits single phase of gamma-Al2O3, while the XRD patterns of the nanoparticles synthesized at 5.3 and 7.5 J/cm(2)/pulse show the co-existence of the alpha-Al2O3 and gamma-Al2O3 phases. Nanostructured Al2O3 films have been used as anti-reflecting coating and surface passivation layer to improve the photoresponse characteristics of silicon photodiode. The experimental data showed that the optical energy gap decreases from 5.3 to 5 eV as the laser fluence increases from 3.5 to 7.3 J/cm(2). The lowest optical reflectivity was found for silicon photodiode deposited with a sin…",
                  "Addresses": "[Ismail, Raid A.; Zaidan, Shihab A.; Kadhim, Rafal M.] Univ Technol Baghdad, Dept Appl Sci, Baghdad, Iraq",
                  "Affiliations": "University of Technology- Iraq",
                  "Reprint Addresses": "Ismail, RA (corresponding author), Univ Technol Baghdad, Dept Appl Sci, Baghdad, Iraq.",
                  "Email Addresses": "raidismail@yahoo.com",
                  "Researcher Ids": "A.ismail, Raid/AAB-3569-2021; Zaidan, Shihab/ABB-2085-2021",
                  "ORCIDs": "zaidan, shihab/0000-0002-1864-9719",
                  "Funding Orgs": "nan",
                  "Funding Name Preferred": "nan",
                  "Funding Text": "nan",
                  "Cited Reference Count": 39,
                  "Times Cited, WoS Core": 60,
                  "Times Cited, All Databases": 61,
                  "180 Day Usage Count": 1,
                  "Since 2013 Usage Count": 17,
                  "Publisher": "SPRINGER HEIDELBERG",
                  "Publisher City": "HEIDELBERG",
                  "Publisher Address": "TIERGARTENSTRASSE 17, D-69121 HEIDELBERG, GERMANY",
                  "ISSN": "2190-5509",
                  "eISSN": "2190-5517",
                  "Journal Abbreviation": "APPL NANOSCI",
                  "Journal ISO Abbreviation": "Appl. Nanosci.",
                  "Publication Date": "OCT",
                  "Publication Year": 2017,
                  "Volume": 7,
                  "Issue": "7",
                  "Start Page": "477.0",
                  "End Page": "487",
                  "DOI": "10.1007/s13204-017-0580-0",
                  "DOI Link": 0,
                  "Number of Pages": 11,
                  "WoS Categories": "Nanoscience & Nanotechnology",
                  "Web of Science Index": "Science Citation Index Expanded (SCI-EXPANDED)",
                  "Research Areas": "Science & Technology - Other Topics",
                  "IDS Number": "FQ7BO",
                  "Date of Export": "2025-04-23",
                  "UT (Unique WOS ID)": "WOS:000418518000014",
                  "Web of Science Record": 0,
                  "_deepnote_index_column": 2
                },
                {
                  "Publication Type": "J",
                  "Authors": "Jia, ZF; Li, HQ; Zhao, Y; Frazer, L; Qian, BS; Borguet, E; Ren, F; Dikin, DA",
                  "Author Full Names": "Jia, Zhengfeng; Li, Haoqi; Zhao, Yao; Frazer, Laszlo; Qian, Bosen; Borguet, Eric; Ren, Fei; Dikin, Dmitriy A.",
                  "Article Title": "Electrical and mechanical properties of poly(dopamine)-modified copper/reduced graphene oxide composites",
                  "Source Title": "JOURNAL OF MATERIALS SCIENCE",
                  "Language": "English",
                  "Document Type": "Article",
                  "Author Keywords": "nan",
                  "Keywords Plus": "REDUCTION",
                  "Abstract": "Surface oxidation is frequently encountered in powder metallurgy of metals and alloys, and it leads to a reduction in their electrical conductivities. Therefore, it is highly desired to remove the naturally occurring oxide layer from the particles surface and to prevent its subsequent formation. A new approach was proposed in this study, where copper particles were mixed with graphene oxide (GO) sheets in an aqueous solution containing dopamine (DA) molecules. It was expected that polymerization of the DA molecules on the surface of the copper particle could promote both a reduction of surface oxide layer and the adhesion of GO sheets to the particles surface. The powder system was then washed, heattreated in inert atmosphere and compressed at room temperature to form compacts. Electron microscopy revealed nearly ideal dispersion of GO sheets within the copper matrix. X-ray photoelectron spectroscopy showed a shift from Cu2+ to Cu+ and metallic copper in the coated and heat-treated sa…",
                  "Addresses": "[Jia, Zhengfeng] Liaocheng Univ, Coll Mat Sci & Engn, Liaocheng 252059, Peoples R China; [Jia, Zhengfeng; Li, Haoqi; Zhao, Yao; Qian, Bosen; Ren, Fei; Dikin, Dmitriy A.] Temple Univ, Dept Mech Engn, Philadelphia, PA 19122 USA; [Jia, Zhengfeng] Chinese Acad Sci, Lanzhou Inst Chem Phys, State Key Lab Solid Lubricat, Lanzhou 73000, Peoples R China; [Frazer, Laszlo; Borguet, Eric] Temple Univ, Dept Chem, Philadelphia, PA 19122 USA",
                  "Affiliations": "Liaocheng University; Pennsylvania Commonwealth System of Higher Education (PCSHE); Temple University; Chinese Academy of Sciences; Lanzhou Institute of Chemical Physics, CAS; Pennsylvania Commonwealth System of Higher Education (PCSHE); Temple University",
                  "Reprint Addresses": "Ren, F; Dikin, DA (corresponding author), Temple Univ, Dept Mech Engn, Philadelphia, PA 19122 USA.",
                  "Email Addresses": "renfei@temple.edu; ddikin@temple.edu",
                  "Researcher Ids": "jia, zhengfeng/V-4643-2019; Zhao, Yao/GLT-2848-2022; Dikin, Dmitriy/B-4649-2014; Borguet, Eric/N-6056-2018; Ren, Fei/J-8120-2017",
                  "ORCIDs": "Zhao, Yao/0000-0001-8997-9670; Dikin, Dmitriy/0000-0001-8100-4502; Qian, Bosen/0000-0002-7366-7194; Jia, Zhengfeng/0000-0002-9109-9776; Frazer, Laszlo/0000-0003-3574-8003; Li, Haoqi/0000-0002-9943-329X; Borguet, Eric/0000-0003-0593-952X; Ren, Fei/0000-0002-8868-4536",
                  "Funding Orgs": "Project of Shandong Province Higher Educational Science and Technology Program of China [J15LA60]; Open Project of State Key Laboratory of Solid Lubrication, Lanzhou Institute of Chemical Physics, China [LSL-1504]; Temple University faculty startup fund; Office of Naval Research [N0014-12-1-0777]; College of Engineering; US Department of Energy, Office of Science, Basic Energy Sciences [DE-SC0012575]",
                  "Funding Name Preferred": "Project of Shandong Province Higher Educational Science and Technology Program of China; Open Project of State Key Laboratory of Solid Lubrication, Lanzhou Institute of Chemical Physics, China; Temple University faculty startup fund; Office of Naval Research(United States Department of DefenseUnited States NavyOffice of Naval Research); College of Engineering; US Department of Energy, Office of Science, Basic Energy Sciences(United States Department of Energy (DOE))",
                  "Funding Text": "ZFJ thanks the support of Project of Shandong Province Higher Educational Science and Technology Program of China (No. J15LA60) and Open Project of State Key Laboratory of Solid Lubrication, Lanzhou Institute of Chemical Physics, China (LSL-1504). FR would like to acknowledge financial support from the Temple University faculty startup fund. The SEM imaging was performed in the CoE-NIC facility at Temple University, which is based on DoD DURIP Award N0014-12-1-0777 from the Office of Naval Research and is sponsored by the College of Engineering. EB and LF acknowledge support as part of the Center for the Computational Design of Functional Layered Materials, an Energy Frontier Research Center funded by the US Department of Energy, Office of Science, Basic Energy Sciences under Award#DE-SC0012575.",
                  "Cited Reference Count": 26,
                  "Times Cited, WoS Core": 53,
                  "Times Cited, All Databases": 56,
                  "180 Day Usage Count": 1,
                  "Since 2013 Usage Count": 134,
                  "Publisher": "SPRINGER",
                  "Publisher City": "NEW YORK",
                  "Publisher Address": "233 SPRING ST, NEW YORK, NY 10013 USA",
                  "ISSN": "0022-2461",
                  "eISSN": "1573-4803",
                  "Journal Abbreviation": "J MATER SCI",
                  "Journal ISO Abbreviation": "J. Mater. Sci.",
                  "Publication Date": "OCT",
                  "Publication Year": 2017,
                  "Volume": 52,
                  "Issue": "19",
                  "Start Page": "11620.0",
                  "End Page": "11629",
                  "DOI": "10.1007/s10853-017-1307-z",
                  "DOI Link": 0,
                  "Number of Pages": 10,
                  "WoS Categories": "Materials Science, Multidisciplinary",
                  "Web of Science Index": "Science Citation Index Expanded (SCI-EXPANDED)",
                  "Research Areas": "Materials Science",
                  "IDS Number": "FA2XY",
                  "Date of Export": "2025-04-23",
                  "UT (Unique WOS ID)": "WOS:000405306300041",
                  "Web of Science Record": 0,
                  "_deepnote_index_column": 3
                },
                {
                  "Publication Type": "J",
                  "Authors": "Jiang, CH; Liu, SB; Lian, QH; Zhao, J; Ding, WQ; Yu, ZY; Huang, RZ; Zou, ZM",
                  "Author Full Names": "Jiang, Chunhai; Liu, Shangbiao; Lian, Qinghuang; Zhao, Jing; Ding, Weiqiang; Yu, Zhiyang; Huang, Renzhong; Zou, Zhimin",
                  "Article Title": "Nitrogen-doped carbon-coated hierarchical Li4Ti5O12-TiO2 hybrid microspheres as excellent high rate anode of Li-ion battery",
                  "Source Title": "CERAMICS INTERNATIONAL",
                  "Language": "English",
                  "Document Type": "Article",
                  "Author Keywords": "Li4Ti5O12; Li-ion batteries; Dual phase anode; Carbon coating; Rate capability",
                  "Keywords Plus": "HIGH-RATE PERFORMANCE; RATE LITHIUM STORAGE; ANATASE TIO2; COMPOSITE; ELECTRODE; PHASE; NANOCRYSTALS",
                  "Abstract": "Nitrogen-doped carbon-coated Li4Ti5O12-TiO2 (LTO-TO) hybrid microspheres were prepared by heat treating the dry mixture of urea and chemically lithiated dandelion-like TiO2 microspheres in a stainless steel autoclave at 550 degrees C for 5 h. The hybrid materials were tested as anode of Li-ion batteries. As compared to the pristine sample, the N-doped carbon-coated LTO-TO microspheres exhibited higher specific capacity at both low and high current rates. Discharge capacities of 184 and 123 mAh g(-1) were obtained at 0.2 C and 20 C, respectively. Moreover, the LTO-TO/C electrode showed excellent cycle performance, with a discharge capacity of 121.3 mAh g(-1) remained after 300 cycles at 5 C, corresponding to an average capacity degradation rate of 0.073% per cycle. These high specific capacity, excellent rate capability and cycle performance demonstrated the high potentiality of the N-doped carbon-coated LTO-TO microspheres as anode material of both energy storage type and power-type L…",
                  "Addresses": "[Jiang, Chunhai; Liu, Shangbiao; Lian, Qinghuang; Zhao, Jing; Ding, Weiqiang; Yu, Zhiyang; Zou, Zhimin] Xiamen Univ Technol, Sch Mat Sci & Engn, Inst Adv Energy Mat, Fujian Prov Key Lab Funct Mat & Applicat, 600 Ligong Rd, Xiamen 361024, Peoples R China; [Zhao, Jing; Huang, Renzhong] Shenyang Normal Univ, Coll Phys Sci & Technol, 253 North Huanghe St, Shenyang 110034, Peoples R China",
                  "Affiliations": "Xiamen University of Technology; Shenyang Normal University",
                  "Reprint Addresses": "Jiang, CH; Zou, ZM (corresponding author), Xiamen Univ Technol, Sch Mat Sci & Engn, Inst Adv Energy Mat, Fujian Prov Key Lab Funct Mat & Applicat, 600 Ligong Rd, Xiamen 361024, Peoples R China.",
                  "Email Addresses": "chjiang@xmut.edu.cn; zmzou@xmut.edu.cn",
                  "Researcher Ids": "Ding, Weiqiang/J-5372-2017",
                  "ORCIDs": "Jiang, Chunhai/0000-0002-7349-0149; ZOU, Zhimin/0000-0002-4568-515X",
                  "Funding Orgs": "Fujian Province; Natural Science Foundation [2016J01746, 2016H0038]; XMUT; start-up funds [E2016005, E2015027]; Fujian Provincial Training Programs of Innovation and Entrepreneurship for Undergraduates",
                  "Funding Name Preferred": "Fujian Province; Natural Science Foundation(National Natural Science Foundation of China (NSFC)); XMUT; start-up funds; Fujian Provincial Training Programs of Innovation and Entrepreneurship for Undergraduates",
                  "Funding Text": "Financial supports from Fujian Province with Natural Science Foundation projects (2016J01746 and 2016H0038) and from XMUT with the start-up funds (E2016005 and E2015027) were cordially acknowledged. S.B. Liu and Q.H. Lian thank the financial support from Fujian Provincial Training Programs of Innovation and Entrepreneurship for Undergraduates.",
                  "Cited Reference Count": 41,
                  "Times Cited, WoS Core": 21,
                  "Times Cited, All Databases": 22,
                  "180 Day Usage Count": 1,
                  "Since 2013 Usage Count": 100,
                  "Publisher": "ELSEVIER SCI LTD",
                  "Publisher City": "OXFORD",
                  "Publisher Address": "THE BOULEVARD, LANGFORD LANE, KIDLINGTON, OXFORD OX5 1GB, OXON, ENGLAND",
                  "ISSN": "0272-8842",
                  "eISSN": "1873-3956",
                  "Journal Abbreviation": "CERAM INT",
                  "Journal ISO Abbreviation": "Ceram. Int.",
                  "Publication Date": "OCT 1",
                  "Publication Year": 2017,
                  "Volume": 43,
                  "Issue": "14",
                  "Start Page": "11354.0",
                  "End Page": "11360",
                  "DOI": "10.1016/j.ceramint.2017.05.341",
                  "DOI Link": 0,
                  "Number of Pages": 7,
                  "WoS Categories": "Materials Science, Ceramics",
                  "Web of Science Index": "Science Citation Index Expanded (SCI-EXPANDED)",
                  "Research Areas": "Materials Science",
                  "IDS Number": "FA0WT",
                  "Date of Export": "2025-04-23",
                  "UT (Unique WOS ID)": "WOS:000405158100096",
                  "Web of Science Record": 0,
                  "_deepnote_index_column": 4
                }
              ],
              "type": "dataframe"
            },
            "text/plain": "  Publication Type                                            Authors  \\\n0                J          Hernández-Rodríguez, P; López-Honorato, E   \n1                J                Jae, UH; Park, BG; An, GS; Choi, SC   \n2                J                 Ismail, RA; Zaidan, SA; Kadhim, RM   \n3                J  Jia, ZF; Li, HQ; Zhao, Y; Frazer, L; Qian, BS;...   \n4                J  Jiang, CH; Liu, SB; Lian, QH; Zhao, J; Ding, W...   \n\n                                   Author Full Names  \\\n0  Hernandez-Rodriguez, Pedro; Lopez-Honorato, Eddie   \n1  Hur, Jae Uk; Park, Bong Geun; An, Gye Seok; Ch...   \n2  Ismail, Raid A.; Zaidan, Shihab A.; Kadhim, Ra...   \n3  Jia, Zhengfeng; Li, Haoqi; Zhao, Yao; Frazer, ...   \n4  Jiang, Chunhai; Liu, Shangbiao; Lian, Qinghuan...   \n\n                                       Article Title  \\\n0  Polymer derived SiC environmental barrier coat...   \n1  Fabrication of a high solid loading carbon bla...   \n2  Preparation and characterization of aluminum o...   \n3  Electrical and mechanical properties of poly(d...   \n4  Nitrogen-doped carbon-coated hierarchical Li4T...   \n\n                             Source Title Language Document Type  \\\n0                  CERAMICS INTERNATIONAL  English       Article   \n1  JOURNAL OF CERAMIC PROCESSING RESEARCH  English       Article   \n2                     APPLIED NANOSCIENCE  English       Article   \n3            JOURNAL OF MATERIALS SCIENCE  English       Article   \n4                  CERAMICS INTERNATIONAL  English       Article   \n\n                                     Author Keywords  \\\n0  Polycarbosilane; Silicon carbide; Coating; Fil...   \n1  Carbon black; High solid loading slurry; Dispe...   \n2  Al2O3; Nanoparticles; Laser ablation; Laser fl...   \n3                                                NaN   \n4  Li4Ti5O12; Li-ion batteries; Dual phase anode;...   \n\n                                       Keywords Plus  \\\n0  SILICON-CARBIDE; CARBOTHERMAL REDUCTION; MECHA...   \n1  COLLOIDAL ALUMINA PARTICLES; INFILTRATION; COM...   \n2  THIN-FILMS; OPTICAL-PROPERTIES; SOLAR-CELLS; G...   \n3                                          REDUCTION   \n4  HIGH-RATE PERFORMANCE; RATE LITHIUM STORAGE; A...   \n\n                                            Abstract  ...  \\\n0  Surfaces with superwetting capabilities can be...  ...   \n1  The effect of amphiphilic fatty acids on the d...  ...   \n2  In this study, we have prepared aluminum oxide...  ...   \n3  Surface oxidation is frequently encountered in...  ...   \n4  Nitrogen-doped carbon-coated Li4Ti5O12-TiO2 (L...  ...   \n\n                              DOI DOI Link Number of Pages  \\\n0  10.1016/j.ceramint.2017.05.326      0.0               7   \n1                             NaN      NaN               6   \n2       10.1007/s13204-017-0580-0      0.0              11   \n3       10.1007/s10853-017-1307-z      0.0              10   \n4  10.1016/j.ceramint.2017.05.341      0.0               7   \n\n                         WoS Categories  \\\n0           Materials Science, Ceramics   \n1           Materials Science, Ceramics   \n2          Nanoscience & Nanotechnology   \n3  Materials Science, Multidisciplinary   \n4           Materials Science, Ceramics   \n\n                             Web of Science Index  \\\n0  Science Citation Index Expanded (SCI-EXPANDED)   \n1  Science Citation Index Expanded (SCI-EXPANDED)   \n2  Science Citation Index Expanded (SCI-EXPANDED)   \n3  Science Citation Index Expanded (SCI-EXPANDED)   \n4  Science Citation Index Expanded (SCI-EXPANDED)   \n\n                        Research Areas IDS Number Date of Export  \\\n0                    Materials Science      FA0WT     2025-04-23   \n1                    Materials Science      GA2TF     2025-04-23   \n2  Science & Technology - Other Topics      FQ7BO     2025-04-23   \n3                    Materials Science      FA2XY     2025-04-23   \n4                    Materials Science      FA0WT     2025-04-23   \n\n    UT (Unique WOS ID)  Web of Science Record  \n0  WOS:000405158100087                      0  \n1  WOS:000428177200012                      0  \n2  WOS:000418518000014                      0  \n3  WOS:000405306300041                      0  \n4  WOS:000405158100096                      0  \n\n[5 rows x 47 columns]",
            "text/html": "<div>\n<style scoped>\n    .dataframe tbody tr th:only-of-type {\n        vertical-align: middle;\n    }\n\n    .dataframe tbody tr th {\n        vertical-align: top;\n    }\n\n    .dataframe thead th {\n        text-align: right;\n    }\n</style>\n<table border=\"1\" class=\"dataframe\">\n  <thead>\n    <tr style=\"text-align: right;\">\n      <th></th>\n      <th>Publication Type</th>\n      <th>Authors</th>\n      <th>Author Full Names</th>\n      <th>Article Title</th>\n      <th>Source Title</th>\n      <th>Language</th>\n      <th>Document Type</th>\n      <th>Author Keywords</th>\n      <th>Keywords Plus</th>\n      <th>Abstract</th>\n      <th>...</th>\n      <th>DOI</th>\n      <th>DOI Link</th>\n      <th>Number of Pages</th>\n      <th>WoS Categories</th>\n      <th>Web of Science Index</th>\n      <th>Research Areas</th>\n      <th>IDS Number</th>\n      <th>Date of Export</th>\n      <th>UT (Unique WOS ID)</th>\n      <th>Web of Science Record</th>\n    </tr>\n  </thead>\n  <tbody>\n    <tr>\n      <th>0</th>\n      <td>J</td>\n      <td>Hernández-Rodríguez, P; López-Honorato, E</td>\n      <td>Hernandez-Rodriguez, Pedro; Lopez-Honorato, Eddie</td>\n      <td>Polymer derived SiC environmental barrier coat...</td>\n      <td>CERAMICS INTERNATIONAL</td>\n      <td>English</td>\n      <td>Article</td>\n      <td>Polycarbosilane; Silicon carbide; Coating; Fil...</td>\n      <td>SILICON-CARBIDE; CARBOTHERMAL REDUCTION; MECHA...</td>\n      <td>Surfaces with superwetting capabilities can be...</td>\n      <td>...</td>\n      <td>10.1016/j.ceramint.2017.05.326</td>\n      <td>0.0</td>\n      <td>7</td>\n      <td>Materials Science, Ceramics</td>\n      <td>Science Citation Index Expanded (SCI-EXPANDED)</td>\n      <td>Materials Science</td>\n      <td>FA0WT</td>\n      <td>2025-04-23</td>\n      <td>WOS:000405158100087</td>\n      <td>0</td>\n    </tr>\n    <tr>\n      <th>1</th>\n      <td>J</td>\n      <td>Jae, UH; Park, BG; An, GS; Choi, SC</td>\n      <td>Hur, Jae Uk; Park, Bong Geun; An, Gye Seok; Ch...</td>\n      <td>Fabrication of a high solid loading carbon bla...</td>\n      <td>JOURNAL OF CERAMIC PROCESSING RESEARCH</td>\n      <td>English</td>\n      <td>Article</td>\n      <td>Carbon black; High solid loading slurry; Dispe...</td>\n      <td>COLLOIDAL ALUMINA PARTICLES; INFILTRATION; COM...</td>\n      <td>The effect of amphiphilic fatty acids on the d...</td>\n      <td>...</td>\n      <td>NaN</td>\n      <td>NaN</td>\n      <td>6</td>\n      <td>Materials Science, Ceramics</td>\n      <td>Science Citation Index Expanded (SCI-EXPANDED)</td>\n      <td>Materials Science</td>\n      <td>GA2TF</td>\n      <td>2025-04-23</td>\n      <td>WOS:000428177200012</td>\n      <td>0</td>\n    </tr>\n    <tr>\n      <th>2</th>\n      <td>J</td>\n      <td>Ismail, RA; Zaidan, SA; Kadhim, RM</td>\n      <td>Ismail, Raid A.; Zaidan, Shihab A.; Kadhim, Ra...</td>\n      <td>Preparation and characterization of aluminum o...</td>\n      <td>APPLIED NANOSCIENCE</td>\n      <td>English</td>\n      <td>Article</td>\n      <td>Al2O3; Nanoparticles; Laser ablation; Laser fl...</td>\n      <td>THIN-FILMS; OPTICAL-PROPERTIES; SOLAR-CELLS; G...</td>\n      <td>In this study, we have prepared aluminum oxide...</td>\n      <td>...</td>\n      <td>10.1007/s13204-017-0580-0</td>\n      <td>0.0</td>\n      <td>11</td>\n      <td>Nanoscience &amp; Nanotechnology</td>\n      <td>Science Citation Index Expanded (SCI-EXPANDED)</td>\n      <td>Science &amp; Technology - Other Topics</td>\n      <td>FQ7BO</td>\n      <td>2025-04-23</td>\n      <td>WOS:000418518000014</td>\n      <td>0</td>\n    </tr>\n    <tr>\n      <th>3</th>\n      <td>J</td>\n      <td>Jia, ZF; Li, HQ; Zhao, Y; Frazer, L; Qian, BS;...</td>\n      <td>Jia, Zhengfeng; Li, Haoqi; Zhao, Yao; Frazer, ...</td>\n      <td>Electrical and mechanical properties of poly(d...</td>\n      <td>JOURNAL OF MATERIALS SCIENCE</td>\n      <td>English</td>\n      <td>Article</td>\n      <td>NaN</td>\n      <td>REDUCTION</td>\n      <td>Surface oxidation is frequently encountered in...</td>\n      <td>...</td>\n      <td>10.1007/s10853-017-1307-z</td>\n      <td>0.0</td>\n      <td>10</td>\n      <td>Materials Science, Multidisciplinary</td>\n      <td>Science Citation Index Expanded (SCI-EXPANDED)</td>\n      <td>Materials Science</td>\n      <td>FA2XY</td>\n      <td>2025-04-23</td>\n      <td>WOS:000405306300041</td>\n      <td>0</td>\n    </tr>\n    <tr>\n      <th>4</th>\n      <td>J</td>\n      <td>Jiang, CH; Liu, SB; Lian, QH; Zhao, J; Ding, W...</td>\n      <td>Jiang, Chunhai; Liu, Shangbiao; Lian, Qinghuan...</td>\n      <td>Nitrogen-doped carbon-coated hierarchical Li4T...</td>\n      <td>CERAMICS INTERNATIONAL</td>\n      <td>English</td>\n      <td>Article</td>\n      <td>Li4Ti5O12; Li-ion batteries; Dual phase anode;...</td>\n      <td>HIGH-RATE PERFORMANCE; RATE LITHIUM STORAGE; A...</td>\n      <td>Nitrogen-doped carbon-coated Li4Ti5O12-TiO2 (L...</td>\n      <td>...</td>\n      <td>10.1016/j.ceramint.2017.05.341</td>\n      <td>0.0</td>\n      <td>7</td>\n      <td>Materials Science, Ceramics</td>\n      <td>Science Citation Index Expanded (SCI-EXPANDED)</td>\n      <td>Materials Science</td>\n      <td>FA0WT</td>\n      <td>2025-04-23</td>\n      <td>WOS:000405158100096</td>\n      <td>0</td>\n    </tr>\n  </tbody>\n</table>\n<p>5 rows × 47 columns</p>\n</div>"
          },
          "metadata": {}
        }
      ],
      "outputs_reference": null,
      "content_dependencies": null
    },
    {
      "cell_type": "code",
      "metadata": {
        "source_hash": "dbffb5ef",
        "execution_start": 1747670330155,
        "execution_millis": 0,
        "execution_context_id": "9cceadf7-7cc9-4659-90ce-317e61ff68b9",
        "deepnote_app_block_order": 8,
        "deepnote_app_block_visible": true,
        "deepnote_app_block_group_id": null,
        "deepnote_app_is_code_hidden": true,
        "deepnote_app_is_output_hidden": false,
        "cell_id": "fd0c575fcc8b4bedaa7dbceb1e7dbc6f",
        "deepnote_cell_type": "code"
      },
      "source": "termos = ['nano', 'paint', 'coating', 'film', 'finish']\npadrao = '|'.join(termos)",
      "block_group": "0e7bf0628bf2485ab24a2173325db395",
      "execution_count": 50,
      "outputs": [],
      "outputs_reference": null,
      "content_dependencies": null
    },
    {
      "cell_type": "code",
      "metadata": {
        "source_hash": "d265115c",
        "execution_start": 1747670333370,
        "execution_millis": 87,
        "execution_context_id": "9cceadf7-7cc9-4659-90ce-317e61ff68b9",
        "deepnote_app_block_order": 9,
        "deepnote_app_block_visible": true,
        "deepnote_app_block_group_id": null,
        "deepnote_app_is_code_hidden": true,
        "deepnote_app_is_output_hidden": false,
        "cell_id": "ffa01715c3c041ceb8efceeb84966ef7",
        "deepnote_cell_type": "code"
      },
      "source": "filtro = ds['Article Title'].str.contains(padrao, case=False, na=False) | \\\n         ds['Abstract'].str.contains(padrao, case=False, na=False)",
      "block_group": "45ed016a1a6b40d29bbfd0727383e47c",
      "execution_count": 53,
      "outputs": [],
      "outputs_reference": null,
      "content_dependencies": null
    },
    {
      "cell_type": "code",
      "metadata": {
        "source_hash": "7311ea98",
        "execution_start": 1747670337687,
        "execution_millis": 5,
        "execution_context_id": "9cceadf7-7cc9-4659-90ce-317e61ff68b9",
        "deepnote_app_block_order": 10,
        "deepnote_app_block_visible": true,
        "deepnote_app_block_group_id": null,
        "deepnote_app_is_code_hidden": true,
        "deepnote_app_is_output_hidden": false,
        "cell_id": "eb4b32748a9d4e1c963c12e6ba1cf761",
        "deepnote_cell_type": "code"
      },
      "source": "df_final_filtrado = df_final[filtro]",
      "block_group": "20020546793f4c90997cc0fa8e63375d",
      "execution_count": 56,
      "outputs": [],
      "outputs_reference": null,
      "content_dependencies": null
    },
    {
      "cell_type": "code",
      "metadata": {
        "source_hash": "8c38cd24",
        "execution_start": 1747670341274,
        "execution_millis": 626,
        "execution_context_id": "9cceadf7-7cc9-4659-90ce-317e61ff68b9",
        "deepnote_app_block_order": 11,
        "deepnote_app_block_visible": true,
        "deepnote_app_block_group_id": null,
        "deepnote_app_is_code_hidden": true,
        "deepnote_app_is_output_hidden": false,
        "cell_id": "8b8eb75011f0466dbffec4439e67126b",
        "deepnote_cell_type": "code"
      },
      "source": "df_final_filtrado.to_csv('artigos_filtrados1.csv', index=False)",
      "block_group": "3235a6a673bc4860bd7429f977bf67ce",
      "execution_count": 59,
      "outputs": [],
      "outputs_reference": null,
      "content_dependencies": null
    },
    {
      "cell_type": "code",
      "metadata": {
        "source_hash": "b5588811",
        "execution_start": 1747670346031,
        "execution_millis": 360,
        "execution_context_id": "9cceadf7-7cc9-4659-90ce-317e61ff68b9",
        "deepnote_app_block_order": 12,
        "deepnote_app_block_visible": true,
        "deepnote_app_block_group_id": null,
        "deepnote_app_is_code_hidden": true,
        "deepnote_app_is_output_hidden": false,
        "cell_id": "a3ce255a73124dc49928b3bca8f07bf5",
        "deepnote_cell_type": "code"
      },
      "source": "at = pd.read_csv('artigos_filtrados1.csv')\nat",
      "block_group": "dfe6f6f3c5eb47ac801e9562041b03ea",
      "execution_count": 62,
      "outputs": [
        {
          "output_type": "execute_result",
          "execution_count": 62,
          "data": {
            "application/vnd.deepnote.dataframe.v3+json": {
              "column_count": 72,
              "row_count": 2760,
              "columns": [
                {
                  "name": "Publication Type",
                  "dtype": "object",
                  "stats": {
                    "unique_count": 1,
                    "nan_count": 0,
                    "categories": [
                      {
                        "name": "J",
                        "count": 2760
                      }
                    ]
                  }
                },
                {
                  "name": "Authors",
                  "dtype": "object",
                  "stats": {
                    "unique_count": 2734,
                    "nan_count": 0,
                    "categories": [
                      {
                        "name": "Li, GR; Yang, GJ; Li, CX; Li, CJ",
                        "count": 3
                      },
                      {
                        "name": "Kuzin, VV; Fedorov, MY; Volosova, MA",
                        "count": 3
                      },
                      {
                        "name": "2732 others",
                        "count": 2754
                      }
                    ]
                  }
                },
                {
                  "name": "Book Authors",
                  "dtype": "float64",
                  "stats": {
                    "unique_count": 0,
                    "nan_count": 2760,
                    "min": null,
                    "max": null,
                    "histogram": [
                      {
                        "bin_start": 0,
                        "bin_end": 0.1,
                        "count": 0
                      },
                      {
                        "bin_start": 0.1,
                        "bin_end": 0.2,
                        "count": 0
                      },
                      {
                        "bin_start": 0.2,
                        "bin_end": 0.30000000000000004,
                        "count": 0
                      },
                      {
                        "bin_start": 0.30000000000000004,
                        "bin_end": 0.4,
                        "count": 0
                      },
                      {
                        "bin_start": 0.4,
                        "bin_end": 0.5,
                        "count": 0
                      },
                      {
                        "bin_start": 0.5,
                        "bin_end": 0.6000000000000001,
                        "count": 0
                      },
                      {
                        "bin_start": 0.6000000000000001,
                        "bin_end": 0.7000000000000001,
                        "count": 0
                      },
                      {
                        "bin_start": 0.7000000000000001,
                        "bin_end": 0.8,
                        "count": 0
                      },
                      {
                        "bin_start": 0.8,
                        "bin_end": 0.9,
                        "count": 0
                      },
                      {
                        "bin_start": 0.9,
                        "bin_end": 1,
                        "count": 0
                      }
                    ]
                  }
                },
                {
                  "name": "Book Editors",
                  "dtype": "float64",
                  "stats": {
                    "unique_count": 0,
                    "nan_count": 2760,
                    "min": null,
                    "max": null,
                    "histogram": [
                      {
                        "bin_start": 0,
                        "bin_end": 0.1,
                        "count": 0
                      },
                      {
                        "bin_start": 0.1,
                        "bin_end": 0.2,
                        "count": 0
                      },
                      {
                        "bin_start": 0.2,
                        "bin_end": 0.30000000000000004,
                        "count": 0
                      },
                      {
                        "bin_start": 0.30000000000000004,
                        "bin_end": 0.4,
                        "count": 0
                      },
                      {
                        "bin_start": 0.4,
                        "bin_end": 0.5,
                        "count": 0
                      },
                      {
                        "bin_start": 0.5,
                        "bin_end": 0.6000000000000001,
                        "count": 0
                      },
                      {
                        "bin_start": 0.6000000000000001,
                        "bin_end": 0.7000000000000001,
                        "count": 0
                      },
                      {
                        "bin_start": 0.7000000000000001,
                        "bin_end": 0.8,
                        "count": 0
                      },
                      {
                        "bin_start": 0.8,
                        "bin_end": 0.9,
                        "count": 0
                      },
                      {
                        "bin_start": 0.9,
                        "bin_end": 1,
                        "count": 0
                      }
                    ]
                  }
                },
                {
                  "name": "Book Group Authors",
                  "dtype": "float64",
                  "stats": {
                    "unique_count": 0,
                    "nan_count": 2760,
                    "min": null,
                    "max": null,
                    "histogram": [
                      {
                        "bin_start": 0,
                        "bin_end": 0.1,
                        "count": 0
                      },
                      {
                        "bin_start": 0.1,
                        "bin_end": 0.2,
                        "count": 0
                      },
                      {
                        "bin_start": 0.2,
                        "bin_end": 0.30000000000000004,
                        "count": 0
                      },
                      {
                        "bin_start": 0.30000000000000004,
                        "bin_end": 0.4,
                        "count": 0
                      },
                      {
                        "bin_start": 0.4,
                        "bin_end": 0.5,
                        "count": 0
                      },
                      {
                        "bin_start": 0.5,
                        "bin_end": 0.6000000000000001,
                        "count": 0
                      },
                      {
                        "bin_start": 0.6000000000000001,
                        "bin_end": 0.7000000000000001,
                        "count": 0
                      },
                      {
                        "bin_start": 0.7000000000000001,
                        "bin_end": 0.8,
                        "count": 0
                      },
                      {
                        "bin_start": 0.8,
                        "bin_end": 0.9,
                        "count": 0
                      },
                      {
                        "bin_start": 0.9,
                        "bin_end": 1,
                        "count": 0
                      }
                    ]
                  }
                },
                {
                  "name": "Author Full Names",
                  "dtype": "object",
                  "stats": {
                    "unique_count": 2737,
                    "nan_count": 0,
                    "categories": [
                      {
                        "name": "Li, Guang-Rong; Yang, Guan-Jun; Li, Cheng-Xin; Li, Chang-Jiu",
                        "count": 3
                      },
                      {
                        "name": "Kuzin, V. V.; Fedorov, M. Yu.; Volosova, M. A.",
                        "count": 3
                      },
                      {
                        "name": "2735 others",
                        "count": 2754
                      }
                    ]
                  }
                },
                {
                  "name": "Book Author Full Names",
                  "dtype": "float64",
                  "stats": {
                    "unique_count": 0,
                    "nan_count": 2760,
                    "min": null,
                    "max": null,
                    "histogram": [
                      {
                        "bin_start": 0,
                        "bin_end": 0.1,
                        "count": 0
                      },
                      {
                        "bin_start": 0.1,
                        "bin_end": 0.2,
                        "count": 0
                      },
                      {
                        "bin_start": 0.2,
                        "bin_end": 0.30000000000000004,
                        "count": 0
                      },
                      {
                        "bin_start": 0.30000000000000004,
                        "bin_end": 0.4,
                        "count": 0
                      },
                      {
                        "bin_start": 0.4,
                        "bin_end": 0.5,
                        "count": 0
                      },
                      {
                        "bin_start": 0.5,
                        "bin_end": 0.6000000000000001,
                        "count": 0
                      },
                      {
                        "bin_start": 0.6000000000000001,
                        "bin_end": 0.7000000000000001,
                        "count": 0
                      },
                      {
                        "bin_start": 0.7000000000000001,
                        "bin_end": 0.8,
                        "count": 0
                      },
                      {
                        "bin_start": 0.8,
                        "bin_end": 0.9,
                        "count": 0
                      },
                      {
                        "bin_start": 0.9,
                        "bin_end": 1,
                        "count": 0
                      }
                    ]
                  }
                },
                {
                  "name": "Group Authors",
                  "dtype": "object",
                  "stats": {
                    "unique_count": 1,
                    "nan_count": 2759,
                    "categories": [
                      {
                        "name": "PLAN; SEARCH",
                        "count": 1
                      },
                      {
                        "name": "Missing",
                        "count": 2759
                      }
                    ]
                  }
                },
                {
                  "name": "Article Title",
                  "dtype": "object",
                  "stats": {
                    "unique_count": 2760,
                    "nan_count": 0,
                    "categories": [
                      {
                        "name": "Polymer derived SiC environmental barrier coatings with superwetting properties",
                        "count": 1
                      },
                      {
                        "name": "Preparation and characterization of aluminum oxide nanoparticles by laser ablation in liquid as passivating and anti-reflection coating for silicon photodiodes",
                        "count": 1
                      },
                      {
                        "name": "2758 others",
                        "count": 2758
                      }
                    ]
                  }
                },
                {
                  "name": "Source Title",
                  "dtype": "object",
                  "stats": {
                    "unique_count": 236,
                    "nan_count": 0,
                    "categories": [
                      {
                        "name": "ACS APPLIED MATERIALS & INTERFACES",
                        "count": 528
                      },
                      {
                        "name": "CERAMICS INTERNATIONAL",
                        "count": 296
                      },
                      {
                        "name": "234 others",
                        "count": 1936
                      }
                    ]
                  }
                },
                {
                  "name": "Book Series Title",
                  "dtype": "float64",
                  "stats": {
                    "unique_count": 0,
                    "nan_count": 2760,
                    "min": null,
                    "max": null,
                    "histogram": [
                      {
                        "bin_start": 0,
                        "bin_end": 0.1,
                        "count": 0
                      },
                      {
                        "bin_start": 0.1,
                        "bin_end": 0.2,
                        "count": 0
                      },
                      {
                        "bin_start": 0.2,
                        "bin_end": 0.30000000000000004,
                        "count": 0
                      },
                      {
                        "bin_start": 0.30000000000000004,
                        "bin_end": 0.4,
                        "count": 0
                      },
                      {
                        "bin_start": 0.4,
                        "bin_end": 0.5,
                        "count": 0
                      },
                      {
                        "bin_start": 0.5,
                        "bin_end": 0.6000000000000001,
                        "count": 0
                      },
                      {
                        "bin_start": 0.6000000000000001,
                        "bin_end": 0.7000000000000001,
                        "count": 0
                      },
                      {
                        "bin_start": 0.7000000000000001,
                        "bin_end": 0.8,
                        "count": 0
                      },
                      {
                        "bin_start": 0.8,
                        "bin_end": 0.9,
                        "count": 0
                      },
                      {
                        "bin_start": 0.9,
                        "bin_end": 1,
                        "count": 0
                      }
                    ]
                  }
                },
                {
                  "name": "Book Series Subtitle",
                  "dtype": "float64",
                  "stats": {
                    "unique_count": 0,
                    "nan_count": 2760,
                    "min": null,
                    "max": null,
                    "histogram": [
                      {
                        "bin_start": 0,
                        "bin_end": 0.1,
                        "count": 0
                      },
                      {
                        "bin_start": 0.1,
                        "bin_end": 0.2,
                        "count": 0
                      },
                      {
                        "bin_start": 0.2,
                        "bin_end": 0.30000000000000004,
                        "count": 0
                      },
                      {
                        "bin_start": 0.30000000000000004,
                        "bin_end": 0.4,
                        "count": 0
                      },
                      {
                        "bin_start": 0.4,
                        "bin_end": 0.5,
                        "count": 0
                      },
                      {
                        "bin_start": 0.5,
                        "bin_end": 0.6000000000000001,
                        "count": 0
                      },
                      {
                        "bin_start": 0.6000000000000001,
                        "bin_end": 0.7000000000000001,
                        "count": 0
                      },
                      {
                        "bin_start": 0.7000000000000001,
                        "bin_end": 0.8,
                        "count": 0
                      },
                      {
                        "bin_start": 0.8,
                        "bin_end": 0.9,
                        "count": 0
                      },
                      {
                        "bin_start": 0.9,
                        "bin_end": 1,
                        "count": 0
                      }
                    ]
                  }
                },
                {
                  "name": "Language",
                  "dtype": "object",
                  "stats": {
                    "unique_count": 1,
                    "nan_count": 0,
                    "categories": [
                      {
                        "name": "English",
                        "count": 2760
                      }
                    ]
                  }
                },
                {
                  "name": "Document Type",
                  "dtype": "object",
                  "stats": {
                    "unique_count": 1,
                    "nan_count": 0,
                    "categories": [
                      {
                        "name": "Article",
                        "count": 2760
                      }
                    ]
                  }
                },
                {
                  "name": "Conference Title",
                  "dtype": "float64",
                  "stats": {
                    "unique_count": 0,
                    "nan_count": 2760,
                    "min": null,
                    "max": null,
                    "histogram": [
                      {
                        "bin_start": 0,
                        "bin_end": 0.1,
                        "count": 0
                      },
                      {
                        "bin_start": 0.1,
                        "bin_end": 0.2,
                        "count": 0
                      },
                      {
                        "bin_start": 0.2,
                        "bin_end": 0.30000000000000004,
                        "count": 0
                      },
                      {
                        "bin_start": 0.30000000000000004,
                        "bin_end": 0.4,
                        "count": 0
                      },
                      {
                        "bin_start": 0.4,
                        "bin_end": 0.5,
                        "count": 0
                      },
                      {
                        "bin_start": 0.5,
                        "bin_end": 0.6000000000000001,
                        "count": 0
                      },
                      {
                        "bin_start": 0.6000000000000001,
                        "bin_end": 0.7000000000000001,
                        "count": 0
                      },
                      {
                        "bin_start": 0.7000000000000001,
                        "bin_end": 0.8,
                        "count": 0
                      },
                      {
                        "bin_start": 0.8,
                        "bin_end": 0.9,
                        "count": 0
                      },
                      {
                        "bin_start": 0.9,
                        "bin_end": 1,
                        "count": 0
                      }
                    ]
                  }
                },
                {
                  "name": "Conference Date",
                  "dtype": "float64",
                  "stats": {
                    "unique_count": 0,
                    "nan_count": 2760,
                    "min": null,
                    "max": null,
                    "histogram": [
                      {
                        "bin_start": 0,
                        "bin_end": 0.1,
                        "count": 0
                      },
                      {
                        "bin_start": 0.1,
                        "bin_end": 0.2,
                        "count": 0
                      },
                      {
                        "bin_start": 0.2,
                        "bin_end": 0.30000000000000004,
                        "count": 0
                      },
                      {
                        "bin_start": 0.30000000000000004,
                        "bin_end": 0.4,
                        "count": 0
                      },
                      {
                        "bin_start": 0.4,
                        "bin_end": 0.5,
                        "count": 0
                      },
                      {
                        "bin_start": 0.5,
                        "bin_end": 0.6000000000000001,
                        "count": 0
                      },
                      {
                        "bin_start": 0.6000000000000001,
                        "bin_end": 0.7000000000000001,
                        "count": 0
                      },
                      {
                        "bin_start": 0.7000000000000001,
                        "bin_end": 0.8,
                        "count": 0
                      },
                      {
                        "bin_start": 0.8,
                        "bin_end": 0.9,
                        "count": 0
                      },
                      {
                        "bin_start": 0.9,
                        "bin_end": 1,
                        "count": 0
                      }
                    ]
                  }
                },
                {
                  "name": "Conference Location",
                  "dtype": "float64",
                  "stats": {
                    "unique_count": 0,
                    "nan_count": 2760,
                    "min": null,
                    "max": null,
                    "histogram": [
                      {
                        "bin_start": 0,
                        "bin_end": 0.1,
                        "count": 0
                      },
                      {
                        "bin_start": 0.1,
                        "bin_end": 0.2,
                        "count": 0
                      },
                      {
                        "bin_start": 0.2,
                        "bin_end": 0.30000000000000004,
                        "count": 0
                      },
                      {
                        "bin_start": 0.30000000000000004,
                        "bin_end": 0.4,
                        "count": 0
                      },
                      {
                        "bin_start": 0.4,
                        "bin_end": 0.5,
                        "count": 0
                      },
                      {
                        "bin_start": 0.5,
                        "bin_end": 0.6000000000000001,
                        "count": 0
                      },
                      {
                        "bin_start": 0.6000000000000001,
                        "bin_end": 0.7000000000000001,
                        "count": 0
                      },
                      {
                        "bin_start": 0.7000000000000001,
                        "bin_end": 0.8,
                        "count": 0
                      },
                      {
                        "bin_start": 0.8,
                        "bin_end": 0.9,
                        "count": 0
                      },
                      {
                        "bin_start": 0.9,
                        "bin_end": 1,
                        "count": 0
                      }
                    ]
                  }
                },
                {
                  "name": "Conference Sponsor",
                  "dtype": "float64",
                  "stats": {
                    "unique_count": 0,
                    "nan_count": 2760,
                    "min": null,
                    "max": null,
                    "histogram": [
                      {
                        "bin_start": 0,
                        "bin_end": 0.1,
                        "count": 0
                      },
                      {
                        "bin_start": 0.1,
                        "bin_end": 0.2,
                        "count": 0
                      },
                      {
                        "bin_start": 0.2,
                        "bin_end": 0.30000000000000004,
                        "count": 0
                      },
                      {
                        "bin_start": 0.30000000000000004,
                        "bin_end": 0.4,
                        "count": 0
                      },
                      {
                        "bin_start": 0.4,
                        "bin_end": 0.5,
                        "count": 0
                      },
                      {
                        "bin_start": 0.5,
                        "bin_end": 0.6000000000000001,
                        "count": 0
                      },
                      {
                        "bin_start": 0.6000000000000001,
                        "bin_end": 0.7000000000000001,
                        "count": 0
                      },
                      {
                        "bin_start": 0.7000000000000001,
                        "bin_end": 0.8,
                        "count": 0
                      },
                      {
                        "bin_start": 0.8,
                        "bin_end": 0.9,
                        "count": 0
                      },
                      {
                        "bin_start": 0.9,
                        "bin_end": 1,
                        "count": 0
                      }
                    ]
                  }
                },
                {
                  "name": "Conference Host",
                  "dtype": "float64",
                  "stats": {
                    "unique_count": 0,
                    "nan_count": 2760,
                    "min": null,
                    "max": null,
                    "histogram": [
                      {
                        "bin_start": 0,
                        "bin_end": 0.1,
                        "count": 0
                      },
                      {
                        "bin_start": 0.1,
                        "bin_end": 0.2,
                        "count": 0
                      },
                      {
                        "bin_start": 0.2,
                        "bin_end": 0.30000000000000004,
                        "count": 0
                      },
                      {
                        "bin_start": 0.30000000000000004,
                        "bin_end": 0.4,
                        "count": 0
                      },
                      {
                        "bin_start": 0.4,
                        "bin_end": 0.5,
                        "count": 0
                      },
                      {
                        "bin_start": 0.5,
                        "bin_end": 0.6000000000000001,
                        "count": 0
                      },
                      {
                        "bin_start": 0.6000000000000001,
                        "bin_end": 0.7000000000000001,
                        "count": 0
                      },
                      {
                        "bin_start": 0.7000000000000001,
                        "bin_end": 0.8,
                        "count": 0
                      },
                      {
                        "bin_start": 0.8,
                        "bin_end": 0.9,
                        "count": 0
                      },
                      {
                        "bin_start": 0.9,
                        "bin_end": 1,
                        "count": 0
                      }
                    ]
                  }
                },
                {
                  "name": "Author Keywords",
                  "dtype": "object",
                  "stats": {
                    "unique_count": 2423,
                    "nan_count": 336,
                    "categories": [
                      {
                        "name": "Powders: solid state reaction; Interfaces; Diffusion; Si3N4",
                        "count": 2
                      },
                      {
                        "name": "2422 others",
                        "count": 2422
                      },
                      {
                        "name": "Missing",
                        "count": 336
                      }
                    ]
                  }
                },
                {
                  "name": "Keywords Plus",
                  "dtype": "object",
                  "stats": {
                    "unique_count": 2588,
                    "nan_count": 156,
                    "categories": [
                      {
                        "name": "COATINGS",
                        "count": 3
                      },
                      {
                        "name": "2587 others",
                        "count": 2601
                      },
                      {
                        "name": "Missing",
                        "count": 156
                      }
                    ]
                  }
                },
                {
                  "name": "Abstract",
                  "dtype": "object",
                  "stats": {
                    "unique_count": 2750,
                    "nan_count": 10,
                    "categories": [
                      {
                        "name": "Surfaces with superwetting capabilities can be used for corrosion protection, self-cleaning and bio-fouling protection amongst other applications. In this work, we present a method to produce a SiC coating with an almost superhydrophobic behavior exhibiting water contact angles of 145 +/- 3 degrees. Ceramic coatings were produced by the pyrolysis of polycarbosilane as a preceramic precursor of SiC. Aluminum and carbon powders were used as active and passive fillers to compensate for the volume shrinkage of polycarbosilane during pyrolysis. The effects of particle size (Al particles ranging from 0.8 to 10 mu m) and concentration 10-30% wt.) C and Al of both fillers were studied to produce defect-free ceramic coatings. We have observed that the fillers used not only affected the microstructure but also the surface roughness. We show that the addition of carbon fillers can increase the water contact angle of the ceramic from 42 degrees up to 141 degrees. The combination of carbon and aluminum fillers resulted in water contact angles up to 145 degrees.",
                        "count": 1
                      },
                      {
                        "name": "2749 others",
                        "count": 2749
                      },
                      {
                        "name": "Missing",
                        "count": 10
                      }
                    ]
                  }
                },
                {
                  "name": "Addresses",
                  "dtype": "object",
                  "stats": {
                    "unique_count": 2748,
                    "nan_count": 2,
                    "categories": [
                      {
                        "name": "[Kuzin, V. V.; Fedorov, M. Yu.; Volosova, M. A.] FGBOU VO Moscow State Technol Univ Stankin, Moscow, Russia",
                        "count": 3
                      },
                      {
                        "name": "2747 others",
                        "count": 2755
                      },
                      {
                        "name": "Missing",
                        "count": 2
                      }
                    ]
                  }
                },
                {
                  "name": "Affiliations",
                  "dtype": "object",
                  "stats": {
                    "unique_count": 2189,
                    "nan_count": 53,
                    "categories": [
                      {
                        "name": "Northwestern Polytechnical University",
                        "count": 32
                      },
                      {
                        "name": "2188 others",
                        "count": 2675
                      },
                      {
                        "name": "Missing",
                        "count": 53
                      }
                    ]
                  }
                },
                {
                  "name": "Reprint Addresses",
                  "dtype": "object",
                  "stats": {
                    "unique_count": 2665,
                    "nan_count": 2,
                    "categories": [
                      {
                        "name": "Kuzin, VV (corresponding author), FGBOU VO Moscow State Technol Univ Stankin, Moscow, Russia.",
                        "count": 6
                      },
                      {
                        "name": "2664 others",
                        "count": 2752
                      },
                      {
                        "name": "Missing",
                        "count": 2
                      }
                    ]
                  }
                },
                {
                  "name": "Email Addresses",
                  "dtype": "object",
                  "stats": {
                    "unique_count": 2478,
                    "nan_count": 82,
                    "categories": [
                      {
                        "name": "ygj@mail.xjtu.edu.cn",
                        "count": 11
                      },
                      {
                        "name": "2477 others",
                        "count": 2667
                      },
                      {
                        "name": "Missing",
                        "count": 82
                      }
                    ]
                  }
                },
                {
                  "name": "Researcher Ids",
                  "dtype": "object",
                  "stats": {
                    "unique_count": 2139,
                    "nan_count": 529,
                    "categories": [
                      {
                        "name": "Liu, Siyu/GYV-4856-2022",
                        "count": 5
                      },
                      {
                        "name": "2138 others",
                        "count": 2226
                      },
                      {
                        "name": "Missing",
                        "count": 529
                      }
                    ]
                  }
                },
                {
                  "name": "ORCIDs",
                  "dtype": "object",
                  "stats": {
                    "unique_count": 1900,
                    "nan_count": 759,
                    "categories": [
                      {
                        "name": "Li, Chang-Jiu/0000-0001-9814-064X",
                        "count": 12
                      },
                      {
                        "name": "1899 others",
                        "count": 1989
                      },
                      {
                        "name": "Missing",
                        "count": 759
                      }
                    ]
                  }
                },
                {
                  "name": "Funding Orgs",
                  "dtype": "object",
                  "stats": {
                    "unique_count": 2090,
                    "nan_count": 619,
                    "categories": [
                      {
                        "name": "Jiangsu Province Science and Technology Support Program (Industry) [BE2014818]",
                        "count": 7
                      },
                      {
                        "name": "2089 others",
                        "count": 2134
                      },
                      {
                        "name": "Missing",
                        "count": 619
                      }
                    ]
                  }
                },
                {
                  "name": "Funding Name Preferred",
                  "dtype": "object",
                  "stats": {
                    "unique_count": 1900,
                    "nan_count": 621,
                    "categories": [
                      {
                        "name": "National Natural Science Foundation of China(National Natural Science Foundation of China (NSFC))",
                        "count": 50
                      },
                      {
                        "name": "1899 others",
                        "count": 2089
                      },
                      {
                        "name": "Missing",
                        "count": 621
                      }
                    ]
                  }
                },
                {
                  "name": "Funding Text",
                  "dtype": "object",
                  "stats": {
                    "unique_count": 2115,
                    "nan_count": 627,
                    "categories": [
                      {
                        "name": "Financial support for this research by the Jiangsu Province Science and Technology Support Program (Industry) (BE2014818) is gratefully acknowledged.",
                        "count": 5
                      },
                      {
                        "name": "2114 others",
                        "count": 2128
                      },
                      {
                        "name": "Missing",
                        "count": 627
                      }
                    ]
                  }
                },
                {
                  "name": "Cited References",
                  "dtype": "float64",
                  "stats": {
                    "unique_count": 0,
                    "nan_count": 2760,
                    "min": null,
                    "max": null,
                    "histogram": [
                      {
                        "bin_start": 0,
                        "bin_end": 0.1,
                        "count": 0
                      },
                      {
                        "bin_start": 0.1,
                        "bin_end": 0.2,
                        "count": 0
                      },
                      {
                        "bin_start": 0.2,
                        "bin_end": 0.30000000000000004,
                        "count": 0
                      },
                      {
                        "bin_start": 0.30000000000000004,
                        "bin_end": 0.4,
                        "count": 0
                      },
                      {
                        "bin_start": 0.4,
                        "bin_end": 0.5,
                        "count": 0
                      },
                      {
                        "bin_start": 0.5,
                        "bin_end": 0.6000000000000001,
                        "count": 0
                      },
                      {
                        "bin_start": 0.6000000000000001,
                        "bin_end": 0.7000000000000001,
                        "count": 0
                      },
                      {
                        "bin_start": 0.7000000000000001,
                        "bin_end": 0.8,
                        "count": 0
                      },
                      {
                        "bin_start": 0.8,
                        "bin_end": 0.9,
                        "count": 0
                      },
                      {
                        "bin_start": 0.9,
                        "bin_end": 1,
                        "count": 0
                      }
                    ]
                  }
                },
                {
                  "name": "Cited Reference Count",
                  "dtype": "int64",
                  "stats": {
                    "unique_count": 101,
                    "nan_count": 0,
                    "min": "0",
                    "max": "711",
                    "histogram": [
                      {
                        "bin_start": 0,
                        "bin_end": 71.1,
                        "count": 2710
                      },
                      {
                        "bin_start": 71.1,
                        "bin_end": 142.2,
                        "count": 45
                      },
                      {
                        "bin_start": 142.2,
                        "bin_end": 213.29999999999998,
                        "count": 2
                      },
                      {
                        "bin_start": 213.29999999999998,
                        "bin_end": 284.4,
                        "count": 1
                      },
                      {
                        "bin_start": 284.4,
                        "bin_end": 355.5,
                        "count": 0
                      },
                      {
                        "bin_start": 355.5,
                        "bin_end": 426.59999999999997,
                        "count": 1
                      },
                      {
                        "bin_start": 426.59999999999997,
                        "bin_end": 497.69999999999993,
                        "count": 0
                      },
                      {
                        "bin_start": 497.69999999999993,
                        "bin_end": 568.8,
                        "count": 0
                      },
                      {
                        "bin_start": 568.8,
                        "bin_end": 639.9,
                        "count": 0
                      },
                      {
                        "bin_start": 639.9,
                        "bin_end": 711,
                        "count": 1
                      }
                    ]
                  }
                },
                {
                  "name": "Times Cited, WoS Core",
                  "dtype": "int64",
                  "stats": {
                    "unique_count": 179,
                    "nan_count": 0,
                    "min": "0",
                    "max": "462",
                    "histogram": [
                      {
                        "bin_start": 0,
                        "bin_end": 46.2,
                        "count": 2335
                      },
                      {
                        "bin_start": 46.2,
                        "bin_end": 92.4,
                        "count": 272
                      },
                      {
                        "bin_start": 92.4,
                        "bin_end": 138.60000000000002,
                        "count": 90
                      },
                      {
                        "bin_start": 138.60000000000002,
                        "bin_end": 184.8,
                        "count": 37
                      },
                      {
                        "bin_start": 184.8,
                        "bin_end": 231,
                        "count": 10
                      },
                      {
                        "bin_start": 231,
                        "bin_end": 277.20000000000005,
                        "count": 9
                      },
                      {
                        "bin_start": 277.20000000000005,
                        "bin_end": 323.40000000000003,
                        "count": 2
                      },
                      {
                        "bin_start": 323.40000000000003,
                        "bin_end": 369.6,
                        "count": 1
                      },
                      {
                        "bin_start": 369.6,
                        "bin_end": 415.8,
                        "count": 2
                      },
                      {
                        "bin_start": 415.8,
                        "bin_end": 462,
                        "count": 2
                      }
                    ]
                  }
                },
                {
                  "name": "Times Cited, All Databases",
                  "dtype": "int64",
                  "stats": {
                    "unique_count": 187,
                    "nan_count": 0,
                    "min": "0",
                    "max": "477",
                    "histogram": [
                      {
                        "bin_start": 0,
                        "bin_end": 47.7,
                        "count": 2309
                      },
                      {
                        "bin_start": 47.7,
                        "bin_end": 95.4,
                        "count": 294
                      },
                      {
                        "bin_start": 95.4,
                        "bin_end": 143.10000000000002,
                        "count": 90
                      },
                      {
                        "bin_start": 143.10000000000002,
                        "bin_end": 190.8,
                        "count": 38
                      },
                      {
                        "bin_start": 190.8,
                        "bin_end": 238.5,
                        "count": 11
                      },
                      {
                        "bin_start": 238.5,
                        "bin_end": 286.20000000000005,
                        "count": 10
                      },
                      {
                        "bin_start": 286.20000000000005,
                        "bin_end": 333.90000000000003,
                        "count": 3
                      },
                      {
                        "bin_start": 333.90000000000003,
                        "bin_end": 381.6,
                        "count": 1
                      },
                      {
                        "bin_start": 381.6,
                        "bin_end": 429.3,
                        "count": 2
                      },
                      {
                        "bin_start": 429.3,
                        "bin_end": 477,
                        "count": 2
                      }
                    ]
                  }
                },
                {
                  "name": "180 Day Usage Count",
                  "dtype": "int64",
                  "stats": {
                    "unique_count": 32,
                    "nan_count": 0,
                    "min": "0",
                    "max": "43",
                    "histogram": [
                      {
                        "bin_start": 0,
                        "bin_end": 4.3,
                        "count": 2409
                      },
                      {
                        "bin_start": 4.3,
                        "bin_end": 8.6,
                        "count": 217
                      },
                      {
                        "bin_start": 8.6,
                        "bin_end": 12.899999999999999,
                        "count": 78
                      },
                      {
                        "bin_start": 12.899999999999999,
                        "bin_end": 17.2,
                        "count": 32
                      },
                      {
                        "bin_start": 17.2,
                        "bin_end": 21.5,
                        "count": 9
                      },
                      {
                        "bin_start": 21.5,
                        "bin_end": 25.799999999999997,
                        "count": 5
                      },
                      {
                        "bin_start": 25.799999999999997,
                        "bin_end": 30.099999999999998,
                        "count": 2
                      },
                      {
                        "bin_start": 30.099999999999998,
                        "bin_end": 34.4,
                        "count": 5
                      },
                      {
                        "bin_start": 34.4,
                        "bin_end": 38.699999999999996,
                        "count": 1
                      },
                      {
                        "bin_start": 38.699999999999996,
                        "bin_end": 43,
                        "count": 2
                      }
                    ]
                  }
                },
                {
                  "name": "Since 2013 Usage Count",
                  "dtype": "int64"
                },
                {
                  "name": "Publisher",
                  "dtype": "object"
                },
                {
                  "name": "Publisher City",
                  "dtype": "object"
                },
                {
                  "name": "Publisher Address",
                  "dtype": "object"
                },
                {
                  "name": "ISSN",
                  "dtype": "object"
                },
                {
                  "name": "eISSN",
                  "dtype": "object"
                },
                {
                  "name": "ISBN",
                  "dtype": "float64"
                },
                {
                  "name": "Journal Abbreviation",
                  "dtype": "object"
                },
                {
                  "name": "Journal ISO Abbreviation",
                  "dtype": "object"
                },
                {
                  "name": "Publication Date",
                  "dtype": "object"
                },
                {
                  "name": "Publication Year",
                  "dtype": "int64"
                },
                {
                  "name": "Volume",
                  "dtype": "float64"
                },
                {
                  "name": "Issue",
                  "dtype": "object"
                },
                {
                  "name": "Part Number",
                  "dtype": "object"
                },
                {
                  "name": "Supplement",
                  "dtype": "float64"
                },
                {
                  "name": "Special Issue",
                  "dtype": "object"
                },
                {
                  "name": "Meeting Abstract",
                  "dtype": "float64"
                },
                {
                  "name": "Start Page",
                  "dtype": "object"
                },
                {
                  "name": "End Page",
                  "dtype": "object"
                },
                {
                  "name": "Article Number",
                  "dtype": "object"
                },
                {
                  "name": "DOI",
                  "dtype": "object"
                },
                {
                  "name": "DOI Link",
                  "dtype": "float64"
                },
                {
                  "name": "Book DOI",
                  "dtype": "float64"
                },
                {
                  "name": "Early Access Date",
                  "dtype": "float64"
                },
                {
                  "name": "Number of Pages",
                  "dtype": "int64"
                },
                {
                  "name": "WoS Categories",
                  "dtype": "object"
                },
                {
                  "name": "Web of Science Index",
                  "dtype": "object"
                },
                {
                  "name": "Research Areas",
                  "dtype": "object"
                },
                {
                  "name": "IDS Number",
                  "dtype": "object"
                },
                {
                  "name": "Pubmed Id",
                  "dtype": "float64"
                },
                {
                  "name": "Open Access Designations",
                  "dtype": "object"
                },
                {
                  "name": "Highly Cited Status",
                  "dtype": "float64"
                },
                {
                  "name": "Hot Paper Status",
                  "dtype": "float64"
                },
                {
                  "name": "Date of Export",
                  "dtype": "object"
                },
                {
                  "name": "UT (Unique WOS ID)",
                  "dtype": "object"
                },
                {
                  "name": "Web of Science Record",
                  "dtype": "int64"
                },
                {
                  "name": "_deepnote_index_column",
                  "dtype": "int64"
                }
              ],
              "rows": [
                {
                  "Publication Type": "J",
                  "Authors": "Hernández-Rodríguez, P; López-Honorato, E",
                  "Book Authors": "nan",
                  "Book Editors": "nan",
                  "Book Group Authors": "nan",
                  "Author Full Names": "Hernandez-Rodriguez, Pedro; Lopez-Honorato, Eddie",
                  "Book Author Full Names": "nan",
                  "Group Authors": "nan",
                  "Article Title": "Polymer derived SiC environmental barrier coatings with superwetting properties",
                  "Source Title": "CERAMICS INTERNATIONAL",
                  "Book Series Title": "nan",
                  "Book Series Subtitle": "nan",
                  "Language": "English",
                  "Document Type": "Article",
                  "Conference Title": "nan",
                  "Conference Date": "nan",
                  "Conference Location": "nan",
                  "Conference Sponsor": "nan",
                  "Conference Host": "nan",
                  "Author Keywords": "Polycarbosilane; Silicon carbide; Coating; Filler materials; Ceramic precursor; Hydrophobic surface",
                  "Keywords Plus": "SILICON-CARBIDE; CARBOTHERMAL REDUCTION; MECHANICAL-PROPERTIES; POLYCARBOSILANE; PYROLYSIS; CORROSION; SURFACES; FILMS; TEMPERATURE; FABRICATION",
                  "Abstract": "Surfaces with superwetting capabilities can be used for corrosion protection, self-cleaning and bio-fouling protection amongst other applications. In this work, we present a method to produce a SiC coating with an almost superhydrophobic behavior exhibiting water contact angles of 145 +/- 3 degrees. Ceramic coatings were produced by the pyrolysis of polycarbosilane as a preceramic precursor of SiC. Aluminum and carbon powders were used as active and passive fillers to compensate for the volume shrinkage of polycarbosilane during pyrolysis. The effects of particle size (Al particles ranging from 0.8 to 10 mu m) and concentration 10-30% wt.) C and Al of both fillers were studied to produce defect-free ceramic coatings. We have observed that the fillers used not only affected the microstructure but also the surface roughness. We show that the addition of carbon fillers can increase the water contact angle of the ceramic from 42 degrees up to 141 degrees. The combination of carbon and alu…",
                  "Addresses": "[Hernandez-Rodriguez, Pedro; Lopez-Honorato, Eddie] CINVESTAV, IPN, Ctr Invest & Estudios Avanzados, Unidad Saltillo, Ave Ind Met 1062, Ramos Arizpe 25900, Coahuila, Mexico",
                  "Affiliations": "Instituto Politecnico Nacional - Mexico; CINVESTAV - Centro de Investigacion y de Estudios Avanzados del Instituto Politecnico Nacional",
                  "Reprint Addresses": "López-Honorato, E (corresponding author), CINVESTAV, IPN, Ctr Invest & Estudios Avanzados, Unidad Saltillo, Ave Ind Met 1062, Ramos Arizpe 25900, Coahuila, Mexico.",
                  "Email Addresses": "eddie.lopez@cinvestav.edu.mx",
                  "Researcher Ids": "Honorato, Eddie/AAK-4311-2020",
                  "ORCIDs": "Lopez-Honorato, Eddie/0000-0001-7948-798X",
                  "Funding Orgs": "CONACYT-Mexico",
                  "Funding Name Preferred": "CONACYT-Mexico(Consejo Nacional de Ciencia y Tecnologia (CONACyT))",
                  "Funding Text": "The authors would like to acknowledge CONACYT-Mexico for a Ph.D. Grant awarded to PHR. Authors would also like to thank the National Laboratory of Graphene Materials for the measurements of surface roughness.",
                  "Cited References": "nan",
                  "Cited Reference Count": 31,
                  "Times Cited, WoS Core": 20,
                  "Times Cited, All Databases": 26,
                  "180 Day Usage Count": 1,
                  "Since 2013 Usage Count": 76,
                  "Publisher": "ELSEVIER SCI LTD",
                  "Publisher City": "OXFORD",
                  "Publisher Address": "THE BOULEVARD, LANGFORD LANE, KIDLINGTON, OXFORD OX5 1GB, OXON, ENGLAND",
                  "ISSN": "0272-8842",
                  "eISSN": "1873-3956",
                  "ISBN": "nan",
                  "Journal Abbreviation": "CERAM INT",
                  "Journal ISO Abbreviation": "Ceram. Int.",
                  "Publication Date": "OCT 1",
                  "Publication Year": 2017,
                  "Volume": 43,
                  "Issue": "14",
                  "Part Number": "nan",
                  "Supplement": "nan",
                  "Special Issue": "nan",
                  "Meeting Abstract": "nan",
                  "Start Page": "11289.0",
                  "End Page": "11295",
                  "Article Number": "nan",
                  "DOI": "10.1016/j.ceramint.2017.05.326",
                  "DOI Link": 0,
                  "Book DOI": "nan",
                  "Early Access Date": "nan",
                  "Number of Pages": 7,
                  "WoS Categories": "Materials Science, Ceramics",
                  "Web of Science Index": "Science Citation Index Expanded (SCI-EXPANDED)",
                  "Research Areas": "Materials Science",
                  "IDS Number": "FA0WT",
                  "Pubmed Id": "nan",
                  "Open Access Designations": "nan",
                  "Highly Cited Status": "nan",
                  "Hot Paper Status": "nan",
                  "Date of Export": "2025-04-23",
                  "UT (Unique WOS ID)": "WOS:000405158100087",
                  "Web of Science Record": 0,
                  "_deepnote_index_column": 0
                },
                {
                  "Publication Type": "J",
                  "Authors": "Ismail, RA; Zaidan, SA; Kadhim, RM",
                  "Book Authors": "nan",
                  "Book Editors": "nan",
                  "Book Group Authors": "nan",
                  "Author Full Names": "Ismail, Raid A.; Zaidan, Shihab A.; Kadhim, Rafal M.",
                  "Book Author Full Names": "nan",
                  "Group Authors": "nan",
                  "Article Title": "Preparation and characterization of aluminum oxide nanoparticles by laser ablation in liquid as passivating and anti-reflection coating for silicon photodiodes",
                  "Source Title": "APPLIED NANOSCIENCE",
                  "Book Series Title": "nan",
                  "Book Series Subtitle": "nan",
                  "Language": "English",
                  "Document Type": "Article",
                  "Conference Title": "nan",
                  "Conference Date": "nan",
                  "Conference Location": "nan",
                  "Conference Sponsor": "nan",
                  "Conference Host": "nan",
                  "Author Keywords": "Al2O3; Nanoparticles; Laser ablation; Laser fluence; Ethanol; Silicon photodiode",
                  "Keywords Plus": "THIN-FILMS; OPTICAL-PROPERTIES; SOLAR-CELLS; GAMMA-AL2O3; SIZE",
                  "Abstract": "In this study, we have prepared aluminum oxide (Al2O3 nanoparticles) NPs with size ranging from 50 to 90 nm by laser ablation of aluminum target in ethanol. The effect of laser fluence on the structural, morphological and optical properties of Al2O3 was demonstrated and discussed. X-ray diffraction XRD results confirm that the synthesized Al2O3 NPs are crystalline in nature. The sample prepared at 3.5 J/cm(2)/pulse exhibits single phase of gamma-Al2O3, while the XRD patterns of the nanoparticles synthesized at 5.3 and 7.5 J/cm(2)/pulse show the co-existence of the alpha-Al2O3 and gamma-Al2O3 phases. Nanostructured Al2O3 films have been used as anti-reflecting coating and surface passivation layer to improve the photoresponse characteristics of silicon photodiode. The experimental data showed that the optical energy gap decreases from 5.3 to 5 eV as the laser fluence increases from 3.5 to 7.3 J/cm(2). The lowest optical reflectivity was found for silicon photodiode deposited with a sin…",
                  "Addresses": "[Ismail, Raid A.; Zaidan, Shihab A.; Kadhim, Rafal M.] Univ Technol Baghdad, Dept Appl Sci, Baghdad, Iraq",
                  "Affiliations": "University of Technology- Iraq",
                  "Reprint Addresses": "Ismail, RA (corresponding author), Univ Technol Baghdad, Dept Appl Sci, Baghdad, Iraq.",
                  "Email Addresses": "raidismail@yahoo.com",
                  "Researcher Ids": "A.ismail, Raid/AAB-3569-2021; Zaidan, Shihab/ABB-2085-2021",
                  "ORCIDs": "zaidan, shihab/0000-0002-1864-9719",
                  "Funding Orgs": "nan",
                  "Funding Name Preferred": "nan",
                  "Funding Text": "nan",
                  "Cited References": "nan",
                  "Cited Reference Count": 39,
                  "Times Cited, WoS Core": 60,
                  "Times Cited, All Databases": 61,
                  "180 Day Usage Count": 1,
                  "Since 2013 Usage Count": 17,
                  "Publisher": "SPRINGER HEIDELBERG",
                  "Publisher City": "HEIDELBERG",
                  "Publisher Address": "TIERGARTENSTRASSE 17, D-69121 HEIDELBERG, GERMANY",
                  "ISSN": "2190-5509",
                  "eISSN": "2190-5517",
                  "ISBN": "nan",
                  "Journal Abbreviation": "APPL NANOSCI",
                  "Journal ISO Abbreviation": "Appl. Nanosci.",
                  "Publication Date": "OCT",
                  "Publication Year": 2017,
                  "Volume": 7,
                  "Issue": "7",
                  "Part Number": "nan",
                  "Supplement": "nan",
                  "Special Issue": "nan",
                  "Meeting Abstract": "nan",
                  "Start Page": "477.0",
                  "End Page": "487",
                  "Article Number": "nan",
                  "DOI": "10.1007/s13204-017-0580-0",
                  "DOI Link": 0,
                  "Book DOI": "nan",
                  "Early Access Date": "nan",
                  "Number of Pages": 11,
                  "WoS Categories": "Nanoscience & Nanotechnology",
                  "Web of Science Index": "Science Citation Index Expanded (SCI-EXPANDED)",
                  "Research Areas": "Science & Technology - Other Topics",
                  "IDS Number": "FQ7BO",
                  "Pubmed Id": "nan",
                  "Open Access Designations": "hybrid",
                  "Highly Cited Status": "nan",
                  "Hot Paper Status": "nan",
                  "Date of Export": "2025-04-23",
                  "UT (Unique WOS ID)": "WOS:000418518000014",
                  "Web of Science Record": 0,
                  "_deepnote_index_column": 1
                },
                {
                  "Publication Type": "J",
                  "Authors": "Jia, ZF; Li, HQ; Zhao, Y; Frazer, L; Qian, BS; Borguet, E; Ren, F; Dikin, DA",
                  "Book Authors": "nan",
                  "Book Editors": "nan",
                  "Book Group Authors": "nan",
                  "Author Full Names": "Jia, Zhengfeng; Li, Haoqi; Zhao, Yao; Frazer, Laszlo; Qian, Bosen; Borguet, Eric; Ren, Fei; Dikin, Dmitriy A.",
                  "Book Author Full Names": "nan",
                  "Group Authors": "nan",
                  "Article Title": "Electrical and mechanical properties of poly(dopamine)-modified copper/reduced graphene oxide composites",
                  "Source Title": "JOURNAL OF MATERIALS SCIENCE",
                  "Book Series Title": "nan",
                  "Book Series Subtitle": "nan",
                  "Language": "English",
                  "Document Type": "Article",
                  "Conference Title": "nan",
                  "Conference Date": "nan",
                  "Conference Location": "nan",
                  "Conference Sponsor": "nan",
                  "Conference Host": "nan",
                  "Author Keywords": "nan",
                  "Keywords Plus": "REDUCTION",
                  "Abstract": "Surface oxidation is frequently encountered in powder metallurgy of metals and alloys, and it leads to a reduction in their electrical conductivities. Therefore, it is highly desired to remove the naturally occurring oxide layer from the particles surface and to prevent its subsequent formation. A new approach was proposed in this study, where copper particles were mixed with graphene oxide (GO) sheets in an aqueous solution containing dopamine (DA) molecules. It was expected that polymerization of the DA molecules on the surface of the copper particle could promote both a reduction of surface oxide layer and the adhesion of GO sheets to the particles surface. The powder system was then washed, heattreated in inert atmosphere and compressed at room temperature to form compacts. Electron microscopy revealed nearly ideal dispersion of GO sheets within the copper matrix. X-ray photoelectron spectroscopy showed a shift from Cu2+ to Cu+ and metallic copper in the coated and heat-treated sa…",
                  "Addresses": "[Jia, Zhengfeng] Liaocheng Univ, Coll Mat Sci & Engn, Liaocheng 252059, Peoples R China; [Jia, Zhengfeng; Li, Haoqi; Zhao, Yao; Qian, Bosen; Ren, Fei; Dikin, Dmitriy A.] Temple Univ, Dept Mech Engn, Philadelphia, PA 19122 USA; [Jia, Zhengfeng] Chinese Acad Sci, Lanzhou Inst Chem Phys, State Key Lab Solid Lubricat, Lanzhou 73000, Peoples R China; [Frazer, Laszlo; Borguet, Eric] Temple Univ, Dept Chem, Philadelphia, PA 19122 USA",
                  "Affiliations": "Liaocheng University; Pennsylvania Commonwealth System of Higher Education (PCSHE); Temple University; Chinese Academy of Sciences; Lanzhou Institute of Chemical Physics, CAS; Pennsylvania Commonwealth System of Higher Education (PCSHE); Temple University",
                  "Reprint Addresses": "Ren, F; Dikin, DA (corresponding author), Temple Univ, Dept Mech Engn, Philadelphia, PA 19122 USA.",
                  "Email Addresses": "renfei@temple.edu; ddikin@temple.edu",
                  "Researcher Ids": "jia, zhengfeng/V-4643-2019; Zhao, Yao/GLT-2848-2022; Dikin, Dmitriy/B-4649-2014; Borguet, Eric/N-6056-2018; Ren, Fei/J-8120-2017",
                  "ORCIDs": "Zhao, Yao/0000-0001-8997-9670; Dikin, Dmitriy/0000-0001-8100-4502; Qian, Bosen/0000-0002-7366-7194; Jia, Zhengfeng/0000-0002-9109-9776; Frazer, Laszlo/0000-0003-3574-8003; Li, Haoqi/0000-0002-9943-329X; Borguet, Eric/0000-0003-0593-952X; Ren, Fei/0000-0002-8868-4536",
                  "Funding Orgs": "Project of Shandong Province Higher Educational Science and Technology Program of China [J15LA60]; Open Project of State Key Laboratory of Solid Lubrication, Lanzhou Institute of Chemical Physics, China [LSL-1504]; Temple University faculty startup fund; Office of Naval Research [N0014-12-1-0777]; College of Engineering; US Department of Energy, Office of Science, Basic Energy Sciences [DE-SC0012575]",
                  "Funding Name Preferred": "Project of Shandong Province Higher Educational Science and Technology Program of China; Open Project of State Key Laboratory of Solid Lubrication, Lanzhou Institute of Chemical Physics, China; Temple University faculty startup fund; Office of Naval Research(United States Department of DefenseUnited States NavyOffice of Naval Research); College of Engineering; US Department of Energy, Office of Science, Basic Energy Sciences(United States Department of Energy (DOE))",
                  "Funding Text": "ZFJ thanks the support of Project of Shandong Province Higher Educational Science and Technology Program of China (No. J15LA60) and Open Project of State Key Laboratory of Solid Lubrication, Lanzhou Institute of Chemical Physics, China (LSL-1504). FR would like to acknowledge financial support from the Temple University faculty startup fund. The SEM imaging was performed in the CoE-NIC facility at Temple University, which is based on DoD DURIP Award N0014-12-1-0777 from the Office of Naval Research and is sponsored by the College of Engineering. EB and LF acknowledge support as part of the Center for the Computational Design of Functional Layered Materials, an Energy Frontier Research Center funded by the US Department of Energy, Office of Science, Basic Energy Sciences under Award#DE-SC0012575.",
                  "Cited References": "nan",
                  "Cited Reference Count": 26,
                  "Times Cited, WoS Core": 53,
                  "Times Cited, All Databases": 56,
                  "180 Day Usage Count": 1,
                  "Since 2013 Usage Count": 134,
                  "Publisher": "SPRINGER",
                  "Publisher City": "NEW YORK",
                  "Publisher Address": "233 SPRING ST, NEW YORK, NY 10013 USA",
                  "ISSN": "0022-2461",
                  "eISSN": "1573-4803",
                  "ISBN": "nan",
                  "Journal Abbreviation": "J MATER SCI",
                  "Journal ISO Abbreviation": "J. Mater. Sci.",
                  "Publication Date": "OCT",
                  "Publication Year": 2017,
                  "Volume": 52,
                  "Issue": "19",
                  "Part Number": "nan",
                  "Supplement": "nan",
                  "Special Issue": "nan",
                  "Meeting Abstract": "nan",
                  "Start Page": "11620.0",
                  "End Page": "11629",
                  "Article Number": "nan",
                  "DOI": "10.1007/s10853-017-1307-z",
                  "DOI Link": 0,
                  "Book DOI": "nan",
                  "Early Access Date": "nan",
                  "Number of Pages": 10,
                  "WoS Categories": "Materials Science, Multidisciplinary",
                  "Web of Science Index": "Science Citation Index Expanded (SCI-EXPANDED)",
                  "Research Areas": "Materials Science",
                  "IDS Number": "FA2XY",
                  "Pubmed Id": "nan",
                  "Open Access Designations": "nan",
                  "Highly Cited Status": "nan",
                  "Hot Paper Status": "nan",
                  "Date of Export": "2025-04-23",
                  "UT (Unique WOS ID)": "WOS:000405306300041",
                  "Web of Science Record": 0,
                  "_deepnote_index_column": 2
                },
                {
                  "Publication Type": "J",
                  "Authors": "Kalantari, E; Naghib, SM; Naimi-Jamal, MR; Mozafari, M",
                  "Book Authors": "nan",
                  "Book Editors": "nan",
                  "Book Group Authors": "nan",
                  "Author Full Names": "Kalantari, Erfan; Naghib, Seyed Morteza; Naimi-Jamal, M. Reza; Mozafari, Masoud",
                  "Book Author Full Names": "nan",
                  "Group Authors": "nan",
                  "Article Title": "Green solvent-based sol-gel synthesis of monticellite nanoparticles: a rapid and efficient approach",
                  "Source Title": "JOURNAL OF SOL-GEL SCIENCE AND TECHNOLOGY",
                  "Book Series Title": "nan",
                  "Book Series Subtitle": "nan",
                  "Language": "English",
                  "Document Type": "Article",
                  "Conference Title": "nan",
                  "Conference Date": "nan",
                  "Conference Location": "nan",
                  "Conference Sponsor": "nan",
                  "Conference Host": "nan",
                  "Author Keywords": "Monticellite nanoparticles; Sol-gel method; Ethanol; Chloride ions; Crystal structure",
                  "Keywords Plus": "BIOMEDICAL APPLICATIONS; POROUS CERAMICS; MAGNESIUM; GLASS; NANOCRYSTALS; HYDROXYAPATITE; AKERMANITE; ABILITY; SALTS; ZINC",
                  "Abstract": "In this research, high-pure monticellite ceramic (CaMgSiO4) nanoparticles were synthesized via a novel sol-gel method using ethanol and chloride ions for the acceleration of polycondensation process. The gel obtained from metal alkoxide and metal salts precursors dried at 100A degrees C; then, the dried-gel calcined at different temperatures to monitor the structural development of the final samples. The effect of various heat-treatment temperatures on the x-ray diffraction patterns, followed by the calculations from scherrer's equation, showed that the grain size of the synthesized samples at 1200A degrees C was around 28 nm. Based on dynamic light scattering spectroscopy, the size of most of the particles was similar to 85 nm. Williamson-Hall formula was also used to calculate the lattice strain of the samples. According to the results, by changing the heat-treatment temperature, lattice strain/stress, lattice parameters and grain size have meaningfully changed. The proposed synthes…",
                  "Addresses": "[Kalantari, Erfan; Naghib, Seyed Morteza] Iran Univ Sci & Technol, Sch New Technol, Nanotechnol Dept, Tehran, Iran; [Kalantari, Erfan; Naimi-Jamal, M. Reza] Iran Univ Sci & Technol, Dept Chem, Res Lab Green Organ Synth & Polymers, Tehran, Iran; [Mozafari, Masoud] Mat & Energy Res Ctr, Nanotechnol & Adv Mat Dept, Bioengn Res Grp, Tehran, Iran",
                  "Affiliations": "Iran University Science & Technology; Iran University Science & Technology; Materials & Energy Research Center (MERC)",
                  "Reprint Addresses": "Kalantari, E; Naghib, SM (corresponding author), Iran Univ Sci & Technol, Sch New Technol, Nanotechnol Dept, Tehran, Iran.;Kalantari, E (corresponding author), Iran Univ Sci & Technol, Dept Chem, Res Lab Green Organ Synth & Polymers, Tehran, Iran.",
                  "Email Addresses": "kalantari.erfan@yahoo.com; naghib@iust.ac.ir",
                  "Researcher Ids": "Naghib, Seyed/S-8817-2018; Kalantari, Erfan/N-7437-2018; Naimi-Jamal, Mohammad Reza/C-2914-2009; Mozafari, Masoud/I-3061-2013",
                  "ORCIDs": "Kalantari, Erfan/0000-0001-8553-8405; Naimi-Jamal, Mohammad Reza/0000-0002-8305-7234; Mozafari, Masoud/0000-0002-0232-352X; Naghib, Seyed Morteza/0000-0003-4612-030X",
                  "Funding Orgs": "Iran University of Science and Technology (Department of Nanotechnology and Chemistry)",
                  "Funding Name Preferred": "Iran University of Science and Technology (Department of Nanotechnology and Chemistry)",
                  "Funding Text": "This research was supported by Iran University of Science and Technology (Department of Nanotechnology and Chemistry). The authors would like to gratefully acknowledge Mr. Milad Khalili from Iran University of Science and Technology (IUST) for his contribution to this research.",
                  "Cited References": "nan",
                  "Cited Reference Count": 35,
                  "Times Cited, WoS Core": 27,
                  "Times Cited, All Databases": 27,
                  "180 Day Usage Count": 0,
                  "Since 2013 Usage Count": 15,
                  "Publisher": "SPRINGER",
                  "Publisher City": "DORDRECHT",
                  "Publisher Address": "VAN GODEWIJCKSTRAAT 30, 3311 GZ DORDRECHT, NETHERLANDS",
                  "ISSN": "0928-0707",
                  "eISSN": "1573-4846",
                  "ISBN": "nan",
                  "Journal Abbreviation": "J SOL-GEL SCI TECHN",
                  "Journal ISO Abbreviation": "J. Sol-Gel Sci. Technol.",
                  "Publication Date": "OCT",
                  "Publication Year": 2017,
                  "Volume": 84,
                  "Issue": "1",
                  "Part Number": "nan",
                  "Supplement": "nan",
                  "Special Issue": "nan",
                  "Meeting Abstract": "nan",
                  "Start Page": "87.0",
                  "End Page": "95",
                  "Article Number": "nan",
                  "DOI": "10.1007/s10971-017-4461-5",
                  "DOI Link": 0,
                  "Book DOI": "nan",
                  "Early Access Date": "nan",
                  "Number of Pages": 9,
                  "WoS Categories": "Materials Science, Ceramics",
                  "Web of Science Index": "Science Citation Index Expanded (SCI-EXPANDED)",
                  "Research Areas": "Materials Science",
                  "IDS Number": "FH7CZ",
                  "Pubmed Id": "nan",
                  "Open Access Designations": "nan",
                  "Highly Cited Status": "nan",
                  "Hot Paper Status": "nan",
                  "Date of Export": "2025-04-23",
                  "UT (Unique WOS ID)": "WOS:000411341300011",
                  "Web of Science Record": 0,
                  "_deepnote_index_column": 3
                },
                {
                  "Publication Type": "J",
                  "Authors": "Karunaratne, MSA; Jepson, MAE; Simms, NJ; Nicholls, JR; Thomson, RC",
                  "Book Authors": "nan",
                  "Book Editors": "nan",
                  "Book Group Authors": "nan",
                  "Author Full Names": "Karunaratne, M. S. A.; Jepson, M. A. E.; Simms, N. J.; Nicholls, J. R.; Thomson, R. C.",
                  "Book Author Full Names": "nan",
                  "Group Authors": "nan",
                  "Article Title": "Modelling of microstructural evolution in multi-layered overlay coatings",
                  "Source Title": "JOURNAL OF MATERIALS SCIENCE",
                  "Book Series Title": "nan",
                  "Book Series Subtitle": "nan",
                  "Language": "English",
                  "Document Type": "Article",
                  "Conference Title": "nan",
                  "Conference Date": "nan",
                  "Conference Location": "nan",
                  "Conference Sponsor": "nan",
                  "Conference Host": "nan",
                  "Author Keywords": "nan",
                  "Keywords Plus": "NI; DIFFUSION; INTERDIFFUSION; NICKEL; PHASE; PERFORMANCE; CHROMIUM; RE; TI",
                  "Abstract": "Functionally graded, multi-layered coatings are designed to provide corrosion protection over a range of operating conditions typically found in industrial gas turbines. A model incorporating diffusion, equilibrium thermodynamics and oxidation has been developed to simulate the microstructural evolution within a multi-layered coating system. The phase and concentration profiles predicted by the model have been compared with an experimental multi-layered system containing an Al-rich outer layer, a Cr-enriched middle layer and an MCrAlY-type inner layer deposited on a superalloy substrate. The concentration distribution and many microstructural features observed experimentally can be predicted by the model. The model is expected to be useful for assessing the microstructural evolution of multilayer coated systems which can be potentially used on industrial gas turbine aerofoils.",
                  "Addresses": "[Karunaratne, M. S. A.; Jepson, M. A. E.; Thomson, R. C.] Loughborough Univ, Dept Mat, Loughborough LE11 3TU, Leics, England; [Simms, N. J.; Nicholls, J. R.] Cranfield Univ, Power Engn Ctr, Cranfield MK43 0AL, Beds, England",
                  "Affiliations": "Loughborough University; Cranfield University",
                  "Reprint Addresses": "Karunaratne, MSA (corresponding author), Loughborough Univ, Dept Mat, Loughborough LE11 3TU, Leics, England.",
                  "Email Addresses": "M.Karunaratne@lboro.ac.uk",
                  "Researcher Ids": "Jepson, Mark/G-5252-2013; Simms, Nigel/P-9637-2015; Thomson, Rachel/B-4217-2011; Karunaratne, Mudith/J-2280-2017",
                  "ORCIDs": "Karunaratne, Mudith/0000-0003-4646-5316; Nicholls, John/0000-0002-0295-2609",
                  "Funding Orgs": "Supergen initiative [GR/S86334/01, EP/F029748]; EPSRC [EP/F029748/1] Funding Source: UKRI",
                  "Funding Name Preferred": "Supergen initiative; EPSRC(UK Research & Innovation (UKRI)Engineering & Physical Sciences Research Council (EPSRC))",
                  "Funding Text": "We would like to acknowledge the support of the Energy Programme, which is a Research Councils UK cross council initiative led by EPSRC and contributed to by ESRC, NERC, BBSRC and STFC, and specifically the Supergen initiative (Grants GR/S86334/01 and EP/F029748) and the following companies: Alstom Power Ltd., Corus, E.ON, National Physical Laboratory, QinetiQ, Rolls-Royce plc, RWE npower, Sermatech Ltd. and Siemens Industrial Turbomachinery Ltd. for their valuable contributions to the project. The authors would also like to thank the Loughborough Materials Characterisation Centre for provision of the facilities used for the experimental analysis of the samples.",
                  "Cited References": "nan",
                  "Cited Reference Count": 33,
                  "Times Cited, WoS Core": 3,
                  "Times Cited, All Databases": 3,
                  "180 Day Usage Count": 0,
                  "Since 2013 Usage Count": 18,
                  "Publisher": "SPRINGER",
                  "Publisher City": "NEW YORK",
                  "Publisher Address": "ONE NEW YORK PLAZA, SUITE 4600, NEW YORK, NY, UNITED STATES",
                  "ISSN": "0022-2461",
                  "eISSN": "1573-4803",
                  "ISBN": "nan",
                  "Journal Abbreviation": "J MATER SCI",
                  "Journal ISO Abbreviation": "J. Mater. Sci.",
                  "Publication Date": "OCT",
                  "Publication Year": 2017,
                  "Volume": 52,
                  "Issue": "20",
                  "Part Number": "nan",
                  "Supplement": "nan",
                  "Special Issue": "nan",
                  "Meeting Abstract": "nan",
                  "Start Page": "12279.0",
                  "End Page": "12294",
                  "Article Number": "nan",
                  "DOI": "10.1007/s10853-017-1365-2",
                  "DOI Link": 0,
                  "Book DOI": "nan",
                  "Early Access Date": "nan",
                  "Number of Pages": 16,
                  "WoS Categories": "Materials Science, Multidisciplinary",
                  "Web of Science Index": "Science Citation Index Expanded (SCI-EXPANDED)",
                  "Research Areas": "Materials Science",
                  "IDS Number": "FB8LX",
                  "Pubmed Id": 32025049,
                  "Open Access Designations": "hybrid, Green Published",
                  "Highly Cited Status": "nan",
                  "Hot Paper Status": "nan",
                  "Date of Export": "2025-04-23",
                  "UT (Unique WOS ID)": "WOS:000406391600038",
                  "Web of Science Record": 0,
                  "_deepnote_index_column": 4
                },
                {
                  "Publication Type": "J",
                  "Authors": "Katagiri, K; Narahara, M; Sako, K; Inumaru, K",
                  "Book Authors": "nan",
                  "Book Editors": "nan",
                  "Book Group Authors": "nan",
                  "Author Full Names": "Katagiri, Kiyofumi; Narahara, Masaya; Sako, Kaori; Inumaru, Kei",
                  "Book Author Full Names": "nan",
                  "Group Authors": "nan",
                  "Article Title": "SiO2 shell formation mechanism and enlargement on hydrophobized nanoparticles via a reverse microemulsion process",
                  "Source Title": "JOURNAL OF SOL-GEL SCIENCE AND TECHNOLOGY",
                  "Book Series Title": "nan",
                  "Book Series Subtitle": "nan",
                  "Language": "English",
                  "Document Type": "Article",
                  "Conference Title": "nan",
                  "Conference Date": "nan",
                  "Conference Location": "nan",
                  "Conference Sponsor": "nan",
                  "Conference Host": "nan",
                  "Author Keywords": "Core-shell particle; SiO2 coating; Oleate-modified nanoparticle; Reverse microemulsion; Dynamic light scattering",
                  "Keywords Plus": "SINGLE QUANTUM DOTS; MAGNETIC NANOPARTICLES; SILICA SPHERES; DRUG-DELIVERY; INORGANIC NANOPARTICLES; OXIDE NANOPARTICLES; HYBRID; POLYELECTROLYTES; CLUSTERS; FE3O4",
                  "Abstract": "The formation mechanism of SiO2 shells on oleate-modified inorganic nanoparticles by a reverse microemulsion method was investigated by dynamic light scattering measurements. Changes in the hydrodynamic diameter upon addition of the nonionic surfactant, Igepal CO-520, and ammonia water revealed that the surfactant-exchange and aqueous layer formation took place at the surface of the inorganic nanoparticles. The aqueous layer functioned as a reaction site for SiO2 shell formation. The proposed mechanism explains how core-shell particles having a single core are obtained. Additionally, the limitation of a maximum core-shell particle size obtained by this process can also be explained by the proposed mechanism. SiO2 shell growth was further examined by consideration of this mechanism. Incremental addition of Igepal CO-520 and ammonia was observed to facilitate the expansion of a reverse microemulsion layer surrounding the Fe3O4 nanoparticles and the continuing growth of the SiO2 shell. F…",
                  "Addresses": "[Katagiri, Kiyofumi; Narahara, Masaya; Sako, Kaori; Inumaru, Kei] Hiroshima Univ, Grad Sch Engn, Dept Appl Chem, 1-4-1 Kagamiyama, Higashihiroshima 7398527, Japan",
                  "Affiliations": "Hiroshima University",
                  "Reprint Addresses": "Katagiri, K (corresponding author), Hiroshima Univ, Grad Sch Engn, Dept Appl Chem, 1-4-1 Kagamiyama, Higashihiroshima 7398527, Japan.",
                  "Email Addresses": "kktgr@hiroshima-u.ac.jp",
                  "Researcher Ids": "Inumaru, Kei/J-9292-2015; Katagiri, Kiyofumi/D-8515-2012",
                  "ORCIDs": "Inumaru, Kei/0000-0001-6876-3854; Katagiri, Kiyofumi/0000-0002-9548-9835",
                  "Funding Orgs": "JSPS KAKENHI [JP16K14388, JP17H03392, JP17H05483]; JST ACT-C, Japan [JPMJCR12Y2]; Center for Functional Nano Oxide at Hiroshima University",
                  "Funding Name Preferred": "JSPS KAKENHI(Ministry of Education, Culture, Sports, Science and Technology, Japan (MEXT)Japan Society for the Promotion of ScienceGrants-in-Aid for Scientific Research (KAKENHI)); JST ACT-C, Japan; Center for Functional Nano Oxide at Hiroshima University",
                  "Funding Text": "This work was supported by JSPS KAKENHI Grant Number JP16K14388, JP17H03392, JP17H05483. This work was partly supported by JST ACT-C Grant Number JPMJCR12Y2, Japan, and by the Center for Functional Nano Oxide at Hiroshima University.",
                  "Cited References": "nan",
                  "Cited Reference Count": 42,
                  "Times Cited, WoS Core": 12,
                  "Times Cited, All Databases": 14,
                  "180 Day Usage Count": 4,
                  "Since 2013 Usage Count": 79,
                  "Publisher": "SPRINGER",
                  "Publisher City": "DORDRECHT",
                  "Publisher Address": "VAN GODEWIJCKSTRAAT 30, 3311 GZ DORDRECHT, NETHERLANDS",
                  "ISSN": "0928-0707",
                  "eISSN": "1573-4846",
                  "ISBN": "nan",
                  "Journal Abbreviation": "J SOL-GEL SCI TECHN",
                  "Journal ISO Abbreviation": "J. Sol-Gel Sci. Technol.",
                  "Publication Date": "OCT",
                  "Publication Year": 2017,
                  "Volume": 84,
                  "Issue": "1",
                  "Part Number": "nan",
                  "Supplement": "nan",
                  "Special Issue": "nan",
                  "Meeting Abstract": "nan",
                  "Start Page": "110.0",
                  "End Page": "117",
                  "Article Number": "nan",
                  "DOI": "10.1007/s10971-017-4479-8",
                  "DOI Link": 0,
                  "Book DOI": "nan",
                  "Early Access Date": "nan",
                  "Number of Pages": 8,
                  "WoS Categories": "Materials Science, Ceramics",
                  "Web of Science Index": "Science Citation Index Expanded (SCI-EXPANDED)",
                  "Research Areas": "Materials Science",
                  "IDS Number": "FH7CZ",
                  "Pubmed Id": "nan",
                  "Open Access Designations": "nan",
                  "Highly Cited Status": "nan",
                  "Hot Paper Status": "nan",
                  "Date of Export": "2025-04-23",
                  "UT (Unique WOS ID)": "WOS:000411341300014",
                  "Web of Science Record": 0,
                  "_deepnote_index_column": 5
                },
                {
                  "Publication Type": "J",
                  "Authors": "Kelley, LS",
                  "Book Authors": "nan",
                  "Book Editors": "nan",
                  "Book Group Authors": "nan",
                  "Author Full Names": "Kelley, Lois S.",
                  "Book Author Full Names": "nan",
                  "Group Authors": "nan",
                  "Article Title": "Transfiguring Light and Symphonic Blooming: A Wabi Sabi Story of Humanbecoming and Human Caring",
                  "Source Title": "NURSING SCIENCE QUARTERLY",
                  "Book Series Title": "nan",
                  "Book Series Subtitle": "nan",
                  "Language": "English",
                  "Document Type": "Article",
                  "Conference Title": "nan",
                  "Conference Date": "nan",
                  "Conference Location": "nan",
                  "Conference Sponsor": "nan",
                  "Conference Host": "nan",
                  "Author Keywords": "art-knowledge; humanbecoming; human caring; nursing theory",
                  "Keywords Plus": "nan",
                  "Abstract": "Transfiguring Light and Symphonic Blooming is word-art to describe the flowering of the humanbecoming and human caring schools of thought over time. A Wabi Sabi story journey was created to turn the tide in a world where the building of a unique body of knowledge for nursing has fallen into disfavor with nursing itself. Using nature-aligned paintings and a Japanese story-art aesthetic with poetry, the beauty of falling away to unitary essentials and holding the value of both-and in unitary consciousness was illuminated. Co-creating art-knowledge may transfigure nursing theory development and its acceptance with cosmic tree-rooted arches.",
                  "Addresses": "[Kelley, Lois S.] Texas A&M Univ, Nursing, Corpus Christi, TX 78412 USA",
                  "Affiliations": "Texas A&M University System",
                  "Reprint Addresses": "Kelley, LS (corresponding author), Texas A&M Univ, Nursing, Corpus Christi, TX 78412 USA.",
                  "Email Addresses": "nan",
                  "Researcher Ids": "nan",
                  "ORCIDs": "nan",
                  "Funding Orgs": "nan",
                  "Funding Name Preferred": "nan",
                  "Funding Text": "nan",
                  "Cited References": "nan",
                  "Cited Reference Count": 22,
                  "Times Cited, WoS Core": 0,
                  "Times Cited, All Databases": 0,
                  "180 Day Usage Count": 0,
                  "Since 2013 Usage Count": 4,
                  "Publisher": "SAGE PUBLICATIONS INC",
                  "Publisher City": "THOUSAND OAKS",
                  "Publisher Address": "2455 TELLER RD, THOUSAND OAKS, CA 91320 USA",
                  "ISSN": "0894-3184",
                  "eISSN": "1552-7409",
                  "ISBN": "nan",
                  "Journal Abbreviation": "NURS SCI QUART",
                  "Journal ISO Abbreviation": "Nurs. Sci. Q.",
                  "Publication Date": "OCT",
                  "Publication Year": 2017,
                  "Volume": 30,
                  "Issue": "4",
                  "Part Number": "nan",
                  "Supplement": "nan",
                  "Special Issue": "nan",
                  "Meeting Abstract": "nan",
                  "Start Page": "324.0",
                  "End Page": "329",
                  "Article Number": "nan",
                  "DOI": "10.1177/0894318417724457",
                  "DOI Link": 0,
                  "Book DOI": "nan",
                  "Early Access Date": "nan",
                  "Number of Pages": 6,
                  "WoS Categories": "Nursing",
                  "Web of Science Index": "Science Citation Index Expanded (SCI-EXPANDED); Social Science Citation Index (SSCI)",
                  "Research Areas": "Nursing",
                  "IDS Number": "FM8MS",
                  "Pubmed Id": 28934034,
                  "Open Access Designations": "nan",
                  "Highly Cited Status": "nan",
                  "Hot Paper Status": "nan",
                  "Date of Export": "2025-04-23",
                  "UT (Unique WOS ID)": "WOS:000415343400010",
                  "Web of Science Record": 0,
                  "_deepnote_index_column": 6
                },
                {
                  "Publication Type": "J",
                  "Authors": "Khanali, O; Rajabi, M; Baghshahi, S",
                  "Book Authors": "nan",
                  "Book Editors": "nan",
                  "Book Group Authors": "nan",
                  "Author Full Names": "Khanali, Omid; Rajabi, Masoud; Baghshahi, Saeid",
                  "Book Author Full Names": "nan",
                  "Group Authors": "nan",
                  "Article Title": "Effect of non-aqueous solvents on deposition properties in electrophoretic deposition process of yttria stabilized zirconia nano-powders",
                  "Source Title": "JOURNAL OF CERAMIC PROCESSING RESEARCH",
                  "Book Series Title": "nan",
                  "Book Series Subtitle": "nan",
                  "Language": "English",
                  "Document Type": "Article",
                  "Conference Title": "nan",
                  "Conference Date": "nan",
                  "Conference Location": "nan",
                  "Conference Sponsor": "nan",
                  "Conference Host": "nan",
                  "Author Keywords": "Electrophoretic deposition; YSZ film; Non-aqueous solvents; Suspension stability",
                  "Keywords Plus": "COATINGS; KINETICS; CELLS; SUSPENSIONS; MECHANISMS; PARTICLES; CERAMICS; FILMS; FIELD; EPD",
                  "Abstract": "In this paper, yttria-stabilized zirconia (YSZ) was coated on Fecrralloy as thermal barrier coatings (TBC) using electrophoretic deposition (EPD) by various non-aqueous solvents. The solvents in the suspensions were varied in order to optimize kind of solvent and experimental conditions to achieve smooth and crack-free YSZ coatings. The effects of EPD parameters variations including solvents, sedimentation height, zeta potential, particle size, pH, deposition weight have been studied. Moreover, SEM and micro-hardness tests have been used to evaluate hardness and morphology of the samples. In comparison of the coatings created by various solvents, it was found that the use of acetyl-acetone with 0.4 g/l I-2 produces a uniform, smooth and crack free surfaces. Also the use of this solvent led to stable state, narrow particle size distributions and higher zeta potential in suspension in compare with the other solvents. The experimental results revealed that stability of suspensions were r…",
                  "Addresses": "[Khanali, Omid; Rajabi, Masoud; Baghshahi, Saeid] IKIU, Fac Technol & Engn, Dept Mat Sci & Engn, Qazvin, Iran",
                  "Affiliations": "Imam Khomeini International University",
                  "Reprint Addresses": "Rajabi, M (corresponding author), IKIU, Fac Technol & Engn, Dept Mat Sci & Engn, Qazvin, Iran.",
                  "Email Addresses": "m.rajabi@eng.ikiu.ac.ir",
                  "Researcher Ids": "khanali, omid/JWO-5400-2024; Baghshahi, Saeid/D-5831-2019",
                  "ORCIDs": "Baghshahi, Saeid/0000-0001-5504-9846",
                  "Funding Orgs": "nan",
                  "Funding Name Preferred": "nan",
                  "Funding Text": "nan",
                  "Cited References": "nan",
                  "Cited Reference Count": 28,
                  "Times Cited, WoS Core": 6,
                  "Times Cited, All Databases": 7,
                  "180 Day Usage Count": 1,
                  "Since 2013 Usage Count": 11,
                  "Publisher": "KOREAN ASSOC CRYSTAL GROWTH, INC",
                  "Publisher City": "SEOUL",
                  "Publisher Address": "SUNGDONG POST OFFICE, P O BOX 27, SEOUL 133-600, SOUTH KOREA",
                  "ISSN": "1229-9162",
                  "eISSN": "nan",
                  "ISBN": "nan",
                  "Journal Abbreviation": "J CERAM PROCESS RES",
                  "Journal ISO Abbreviation": "J. Ceram. Process. Res.",
                  "Publication Date": "OCT",
                  "Publication Year": 2017,
                  "Volume": 18,
                  "Issue": "10",
                  "Part Number": "nan",
                  "Supplement": "nan",
                  "Special Issue": "nan",
                  "Meeting Abstract": "nan",
                  "Start Page": "735.0",
                  "End Page": "742",
                  "Article Number": "nan",
                  "DOI": "nan",
                  "DOI Link": "nan",
                  "Book DOI": "nan",
                  "Early Access Date": "nan",
                  "Number of Pages": 8,
                  "WoS Categories": "Materials Science, Ceramics",
                  "Web of Science Index": "Science Citation Index Expanded (SCI-EXPANDED)",
                  "Research Areas": "Materials Science",
                  "IDS Number": "GA2TF",
                  "Pubmed Id": "nan",
                  "Open Access Designations": "nan",
                  "Highly Cited Status": "nan",
                  "Hot Paper Status": "nan",
                  "Date of Export": "2025-04-23",
                  "UT (Unique WOS ID)": "WOS:000428177200008",
                  "Web of Science Record": 0,
                  "_deepnote_index_column": 7
                },
                {
                  "Publication Type": "J",
                  "Authors": "Kolodziej, J; Jasniok, M",
                  "Book Authors": "nan",
                  "Book Editors": "nan",
                  "Book Group Authors": "nan",
                  "Author Full Names": "Kolodziej, Jacek; Jasniok, Mariusz",
                  "Book Author Full Names": "nan",
                  "Group Authors": "nan",
                  "Article Title": "Polarization tests concerning chloride impact on protective zinc coatings applied on reinforcing steel in curing concrete",
                  "Source Title": "OCHRONA PRZED KOROZJA",
                  "Book Series Title": "nan",
                  "Book Series Subtitle": "nan",
                  "Language": "English",
                  "Document Type": "Article",
                  "Conference Title": "nan",
                  "Conference Date": "nan",
                  "Conference Location": "nan",
                  "Conference Sponsor": "nan",
                  "Conference Host": "nan",
                  "Author Keywords": "concrete structures; reinforcing steel; corrosion; chlorides; zinc coating; potentiodynamic measurements; corrosion current density",
                  "Keywords Plus": "CORROSION BEHAVIOR; GALVANIZED STEEL; BARS",
                  "Abstract": "We analysed chloride impact on steel rebars with protective zinc coatings and compared them with rebars without any protective coatings. The rebars were tested in concrete with chloride content of 2% cement weight and in reference concrete without chlorides. Polarization tests were conducted in the potentiodynamic mode in the three-electrode system, where the working electrode was the rebar made of ribbed steel of grade RB500, placed in concrete. The tests began two weeks after placing specimens in concrete. They were continued in one- and two-week intervals. The test results showed that at the early maturity age of concrete, quite intensive electrochemical processes took place on the zinc coat surface regardless of chloride presence. When concrete was fully matured, that is, after 28 days according to the standard, electrode processes significantly slowed down and then stabilised.",
                  "Addresses": "[Kolodziej, Jacek] Silesian Tech Univ, Dept Bldg Struct, Gliwice, Poland; [Jasniok, Mariusz] Silesian Tech Univ, Gliwice, Poland",
                  "Affiliations": "Silesian University of Technology; Silesian University of Technology",
                  "Reprint Addresses": "Kolodziej, J (corresponding author), Silesian Tech Univ, Dept Bldg Struct, Gliwice, Poland.",
                  "Email Addresses": "jacek.kolodziej@polsl.pl; mariusz.jasniok@polsl.pl",
                  "Researcher Ids": "Jasniok, Mariusz/J-7643-2012",
                  "ORCIDs": "Jasniok, Mariusz/0000-0002-7628-0710",
                  "Funding Orgs": "nan",
                  "Funding Name Preferred": "nan",
                  "Funding Text": "nan",
                  "Cited References": "nan",
                  "Cited Reference Count": 23,
                  "Times Cited, WoS Core": 2,
                  "Times Cited, All Databases": 2,
                  "180 Day Usage Count": 0,
                  "Since 2013 Usage Count": 3,
                  "Publisher": "WYDAWNICTWO SIGMA-N O T SP Z O O",
                  "Publisher City": "WARSAW",
                  "Publisher Address": "UL RATUSZOWA 11, PO BOX 1004, 00-950 WARSAW, POLAND",
                  "ISSN": "0473-7733",
                  "eISSN": "2449-9501",
                  "ISBN": "nan",
                  "Journal Abbreviation": "OCHR PRZED KOROZ",
                  "Journal ISO Abbreviation": "Ochr. Przed Koroz.",
                  "Publication Date": "OCT",
                  "Publication Year": 2017,
                  "Volume": 60,
                  "Issue": "10",
                  "Part Number": "nan",
                  "Supplement": "nan",
                  "Special Issue": "nan",
                  "Meeting Abstract": "nan",
                  "Start Page": "330.0",
                  "End Page": "334",
                  "Article Number": "nan",
                  "DOI": "10.15199/40.2017.10.1",
                  "DOI Link": 0,
                  "Book DOI": "nan",
                  "Early Access Date": "nan",
                  "Number of Pages": 5,
                  "WoS Categories": "Materials Science, Multidisciplinary",
                  "Web of Science Index": "Emerging Sources Citation Index (ESCI)",
                  "Research Areas": "Materials Science",
                  "IDS Number": "GJ8NW",
                  "Pubmed Id": "nan",
                  "Open Access Designations": "nan",
                  "Highly Cited Status": "nan",
                  "Hot Paper Status": "nan",
                  "Date of Export": "2025-04-23",
                  "UT (Unique WOS ID)": "WOS:000435647700001",
                  "Web of Science Record": 0,
                  "_deepnote_index_column": 8
                },
                {
                  "Publication Type": "J",
                  "Authors": "Krishnan, S; Van der Walt, H; Venkatesh, V; Sundaresan, VB",
                  "Book Authors": "nan",
                  "Book Editors": "nan",
                  "Book Group Authors": "nan",
                  "Author Full Names": "Krishnan, Srivatsava; Van der Walt, Hugo; Venkatesh, Vijay; Sundaresan, Vishnu Baba",
                  "Book Author Full Names": "nan",
                  "Group Authors": "nan",
                  "Article Title": "Dynamic characterization of elastico-mechanoluminescence towards structural health monitoring",
                  "Source Title": "JOURNAL OF INTELLIGENT MATERIAL SYSTEMS AND STRUCTURES",
                  "Book Series Title": "nan",
                  "Book Series Subtitle": "nan",
                  "Language": "English",
                  "Document Type": "Article",
                  "Conference Title": "nan",
                  "Conference Date": "nan",
                  "Conference Location": "nan",
                  "Conference Sponsor": "nan",
                  "Conference Host": "nan",
                  "Author Keywords": "Elastico-mechanoluminescence; mechanoluminescence; triboluminescence; structural health monitoring; stress visualization; stress sensing; ZnS:Cu",
                  "Keywords Plus": "ZNS; LIGHT",
                  "Abstract": "Light emission from zinc sulfide phosphors during elastic loading (elastico-mechanoluminescence, or EML) is characterized for application in structural health monitoring. Micron-sized EML particles are dispersed in an elastomeric matrix for characterization experiments. Numerical models and experimental investigations are combined to arrive at a correlation between EML emission intensity and average stress acting on phosphor particles. A maximum luminance of 25 cd/m 2 is observed from composites with a 6.25:3 phosphor-matrix weight ratio. This intensely bright EML emission is visible under indoor lighting and is attributed to efficient interfacial stress transfer between the matrix and particles facilitated by a moisture-resistant coating. EML emission is captured over 2.5 million actuation cycles and a correlation between the structural health of the elastomer and the measured EML intensity is made. A significant drop in EML emission is observed right before the onset of structural f…",
                  "Addresses": "[Krishnan, Srivatsava; Van der Walt, Hugo; Venkatesh, Vijay; Sundaresan, Vishnu Baba] Ohio State Univ, Dept Mech & Aerosp Engn, E528 Scott Lab,201 W 19th Ave, Columbus, OH 43210 USA",
                  "Affiliations": "University System of Ohio; Ohio State University",
                  "Reprint Addresses": "Sundaresan, VB (corresponding author), Ohio State Univ, Dept Mech & Aerosp Engn, E528 Scott Lab,201 W 19th Ave, Columbus, OH 43210 USA.",
                  "Email Addresses": "sundaresan.19@osu.edu",
                  "Researcher Ids": "Venkatesh, Vijay/ABA-2050-2021; Sundaresan, Vishnu-Baba/D-3226-2009",
                  "ORCIDs": "Sundaresan, Vishnu-Baba/0000-0003-4101-9288; Venkatesh, Vijay/0000-0002-4578-2435",
                  "Funding Orgs": "Honda RD Americas Ltd.; NSF-I/UCRC Smart Vehicle Concept Center; Directorate For Engineering; Div Of Industrial Innovation & Partnersh [1238286] Funding Source: National Science Foundation",
                  "Funding Name Preferred": "Honda RD Americas Ltd.; NSF-I/UCRC Smart Vehicle Concept Center; Directorate For Engineering; Div Of Industrial Innovation & Partnersh(National Science Foundation (NSF)NSF - Directorate for Engineering (ENG))",
                  "Funding Text": "The author(s) disclosed receipt of the following financial support for the research, authorship, and/or publication of this article: The author(s) would like to acknowledge and thank Honda R&D Americas Ltd. and the NSF-I/UCRC Smart Vehicle Concept Center for financial support.",
                  "Cited References": "nan",
                  "Cited Reference Count": 22,
                  "Times Cited, WoS Core": 23,
                  "Times Cited, All Databases": 30,
                  "180 Day Usage Count": 0,
                  "Since 2013 Usage Count": 59,
                  "Publisher": "SAGE PUBLICATIONS LTD",
                  "Publisher City": "LONDON",
                  "Publisher Address": "1 OLIVERS YARD, 55 CITY ROAD, LONDON EC1Y 1SP, ENGLAND",
                  "ISSN": "1045-389X",
                  "eISSN": "1530-8138",
                  "ISBN": "nan",
                  "Journal Abbreviation": "J INTEL MAT SYST STR",
                  "Journal ISO Abbreviation": "J. Intell. Mater. Syst. Struct.",
                  "Publication Date": "OCT",
                  "Publication Year": 2017,
                  "Volume": 28,
                  "Issue": "17",
                  "Part Number": "nan",
                  "Supplement": "nan",
                  "Special Issue": "nan",
                  "Meeting Abstract": "nan",
                  "Start Page": "2458.0",
                  "End Page": "2464",
                  "Article Number": "nan",
                  "DOI": "10.1177/1045389X17689939",
                  "DOI Link": 0,
                  "Book DOI": "nan",
                  "Early Access Date": "nan",
                  "Number of Pages": 7,
                  "WoS Categories": "Materials Science, Multidisciplinary",
                  "Web of Science Index": "Science Citation Index Expanded (SCI-EXPANDED)",
                  "Research Areas": "Materials Science",
                  "IDS Number": "FL3PB",
                  "Pubmed Id": "nan",
                  "Open Access Designations": "nan",
                  "Highly Cited Status": "nan",
                  "Hot Paper Status": "nan",
                  "Date of Export": "2025-04-23",
                  "UT (Unique WOS ID)": "WOS:000414134300014",
                  "Web of Science Record": 0,
                  "_deepnote_index_column": 9
                }
              ],
              "type": "dataframe"
            },
            "text/plain": "     Publication Type                                            Authors  \\\n0                   J          Hernández-Rodríguez, P; López-Honorato, E   \n1                   J                 Ismail, RA; Zaidan, SA; Kadhim, RM   \n2                   J  Jia, ZF; Li, HQ; Zhao, Y; Frazer, L; Qian, BS;...   \n3                   J  Kalantari, E; Naghib, SM; Naimi-Jamal, MR; Moz...   \n4                   J  Karunaratne, MSA; Jepson, MAE; Simms, NJ; Nich...   \n...               ...                                                ...   \n2755                J  Tang, SJ; Vilmann, AS; Saftoiu, A; Wang, WM; S...   \n2756                J  Shioga, PHT; Binder, C; Hammes, G; Klein, AN; ...   \n2757                J      Tian, ZL; Zheng, LY; Li, ZJ; Li, JL; Wang, JY   \n2758                J                                Triki, A; Arnold, V   \n2759                J  Tsai, DC; Chang, ZC; Kuo, BH; Liu, YC; Chen, E...   \n\n      Book Authors  Book Editors  Book Group Authors  \\\n0              NaN           NaN                 NaN   \n1              NaN           NaN                 NaN   \n2              NaN           NaN                 NaN   \n3              NaN           NaN                 NaN   \n4              NaN           NaN                 NaN   \n...            ...           ...                 ...   \n2755           NaN           NaN                 NaN   \n2756           NaN           NaN                 NaN   \n2757           NaN           NaN                 NaN   \n2758           NaN           NaN                 NaN   \n2759           NaN           NaN                 NaN   \n\n                                      Author Full Names  \\\n0     Hernandez-Rodriguez, Pedro; Lopez-Honorato, Eddie   \n1     Ismail, Raid A.; Zaidan, Shihab A.; Kadhim, Ra...   \n2     Jia, Zhengfeng; Li, Haoqi; Zhao, Yao; Frazer, ...   \n3     Kalantari, Erfan; Naghib, Seyed Morteza; Naimi...   \n4     Karunaratne, M. S. A.; Jepson, M. A. E.; Simms...   \n...                                                 ...   \n2755  Tang, Shou-jiang; Vilmann, Andreas S.; Saftoiu...   \n2756  Teshima Shioga, Pedro Henrique; Binder, Cristi...   \n2757  Tian, Zhilin; Zheng, Liya; Li, Zhaojin; Li, Ji...   \n2758                         Triki, Anis; Arnold, Vicky   \n2759  Tsai, Du-Cheng; Chang, Zue-Chin; Kuo, Bing-Hau...   \n\n      Book Author Full Names Group Authors  \\\n0                        NaN           NaN   \n1                        NaN           NaN   \n2                        NaN           NaN   \n3                        NaN           NaN   \n4                        NaN           NaN   \n...                      ...           ...   \n2755                     NaN           NaN   \n2756                     NaN           NaN   \n2757                     NaN           NaN   \n2758                     NaN           NaN   \n2759                     NaN           NaN   \n\n                                          Article Title  \\\n0     Polymer derived SiC environmental barrier coat...   \n1     Preparation and characterization of aluminum o...   \n2     Electrical and mechanical properties of poly(d...   \n3     Green solvent-based sol-gel synthesis of monti...   \n4     Modelling of microstructural evolution in mult...   \n...                                                 ...   \n2755  EUS Needle Identification Comparison and Evalu...   \n2756  Effects of Different Plasma Nitrided Layers on...   \n2757  Exploration of the low thermal conductivities ...   \n2758  Getting Caught Sugar Coating'': The Behavioral...   \n2759  Structural, electro-optical, and mechanical pr...   \n\n                                           Source Title  ...  \\\n0                                CERAMICS INTERNATIONAL  ...   \n1                                   APPLIED NANOSCIENCE  ...   \n2                          JOURNAL OF MATERIALS SCIENCE  ...   \n3             JOURNAL OF SOL-GEL SCIENCE AND TECHNOLOGY  ...   \n4                          JOURNAL OF MATERIALS SCIENCE  ...   \n...                                                 ...  ...   \n2755                         GASTROINTESTINAL ENDOSCOPY  ...   \n2756  MATERIALS RESEARCH-IBERO-AMERICAN JOURNAL OF M...  ...   \n2757            JOURNAL OF THE EUROPEAN CERAMIC SOCIETY  ...   \n2758     JOURNAL OF EMERGING TECHNOLOGIES IN ACCOUNTING  ...   \n2759                             CERAMICS INTERNATIONAL  ...   \n\n                                Web of Science Index  \\\n0     Science Citation Index Expanded (SCI-EXPANDED)   \n1     Science Citation Index Expanded (SCI-EXPANDED)   \n2     Science Citation Index Expanded (SCI-EXPANDED)   \n3     Science Citation Index Expanded (SCI-EXPANDED)   \n4     Science Citation Index Expanded (SCI-EXPANDED)   \n...                                              ...   \n2755  Science Citation Index Expanded (SCI-EXPANDED)   \n2756  Science Citation Index Expanded (SCI-EXPANDED)   \n2757  Science Citation Index Expanded (SCI-EXPANDED)   \n2758          Emerging Sources Citation Index (ESCI)   \n2759  Science Citation Index Expanded (SCI-EXPANDED)   \n\n                           Research Areas IDS Number   Pubmed Id  \\\n0                       Materials Science      FA0WT         NaN   \n1     Science & Technology - Other Topics      FQ7BO         NaN   \n2                       Materials Science      FA2XY         NaN   \n3                       Materials Science      FH7CZ         NaN   \n4                       Materials Science      FB8LX  32025049.0   \n...                                   ...        ...         ...   \n2755        Gastroenterology & Hepatology      DU5DY  26873530.0   \n2756                    Materials Science      DZ1UI         NaN   \n2757                    Materials Science      DN1EC         NaN   \n2758                 Business & Economics      FA6AG         NaN   \n2759                    Materials Science      DR7LT         NaN   \n\n                    Open Access Designations  Highly Cited Status  \\\n0                                        NaN                  NaN   \n1                                     hybrid                  NaN   \n2                                        NaN                  NaN   \n3                                        NaN                  NaN   \n4                    hybrid, Green Published                  NaN   \n...                                      ...                  ...   \n2755         Green Accepted, Green Submitted                  NaN   \n2756  Green Submitted, Green Published, gold                  NaN   \n2757                                     NaN                  NaN   \n2758                                     NaN                  NaN   \n2759                                     NaN                  NaN   \n\n      Hot Paper Status  Date of Export   UT (Unique WOS ID)  \\\n0                  NaN      2025-04-23  WOS:000405158100087   \n1                  NaN      2025-04-23  WOS:000418518000014   \n2                  NaN      2025-04-23  WOS:000405306300041   \n3                  NaN      2025-04-23  WOS:000411341300011   \n4                  NaN      2025-04-23  WOS:000406391600038   \n...                ...             ...                  ...   \n2755               NaN      2025-04-23  WOS:000382233600006   \n2756               NaN      2025-04-23  WOS:000385626000031   \n2757               NaN      2025-04-23  WOS:000376808100021   \n2758               NaN      2025-04-23  WOS:000405525100011   \n2759               NaN      2025-04-23  WOS:000380081900121   \n\n     Web of Science Record  \n0                        0  \n1                        0  \n2                        0  \n3                        0  \n4                        0  \n...                    ...  \n2755                     0  \n2756                     0  \n2757                     0  \n2758                     0  \n2759                     0  \n\n[2760 rows x 72 columns]",
            "text/html": "<div>\n<style scoped>\n    .dataframe tbody tr th:only-of-type {\n        vertical-align: middle;\n    }\n\n    .dataframe tbody tr th {\n        vertical-align: top;\n    }\n\n    .dataframe thead th {\n        text-align: right;\n    }\n</style>\n<table border=\"1\" class=\"dataframe\">\n  <thead>\n    <tr style=\"text-align: right;\">\n      <th></th>\n      <th>Publication Type</th>\n      <th>Authors</th>\n      <th>Book Authors</th>\n      <th>Book Editors</th>\n      <th>Book Group Authors</th>\n      <th>Author Full Names</th>\n      <th>Book Author Full Names</th>\n      <th>Group Authors</th>\n      <th>Article Title</th>\n      <th>Source Title</th>\n      <th>...</th>\n      <th>Web of Science Index</th>\n      <th>Research Areas</th>\n      <th>IDS Number</th>\n      <th>Pubmed Id</th>\n      <th>Open Access Designations</th>\n      <th>Highly Cited Status</th>\n      <th>Hot Paper Status</th>\n      <th>Date of Export</th>\n      <th>UT (Unique WOS ID)</th>\n      <th>Web of Science Record</th>\n    </tr>\n  </thead>\n  <tbody>\n    <tr>\n      <th>0</th>\n      <td>J</td>\n      <td>Hernández-Rodríguez, P; López-Honorato, E</td>\n      <td>NaN</td>\n      <td>NaN</td>\n      <td>NaN</td>\n      <td>Hernandez-Rodriguez, Pedro; Lopez-Honorato, Eddie</td>\n      <td>NaN</td>\n      <td>NaN</td>\n      <td>Polymer derived SiC environmental barrier coat...</td>\n      <td>CERAMICS INTERNATIONAL</td>\n      <td>...</td>\n      <td>Science Citation Index Expanded (SCI-EXPANDED)</td>\n      <td>Materials Science</td>\n      <td>FA0WT</td>\n      <td>NaN</td>\n      <td>NaN</td>\n      <td>NaN</td>\n      <td>NaN</td>\n      <td>2025-04-23</td>\n      <td>WOS:000405158100087</td>\n      <td>0</td>\n    </tr>\n    <tr>\n      <th>1</th>\n      <td>J</td>\n      <td>Ismail, RA; Zaidan, SA; Kadhim, RM</td>\n      <td>NaN</td>\n      <td>NaN</td>\n      <td>NaN</td>\n      <td>Ismail, Raid A.; Zaidan, Shihab A.; Kadhim, Ra...</td>\n      <td>NaN</td>\n      <td>NaN</td>\n      <td>Preparation and characterization of aluminum o...</td>\n      <td>APPLIED NANOSCIENCE</td>\n      <td>...</td>\n      <td>Science Citation Index Expanded (SCI-EXPANDED)</td>\n      <td>Science &amp; Technology - Other Topics</td>\n      <td>FQ7BO</td>\n      <td>NaN</td>\n      <td>hybrid</td>\n      <td>NaN</td>\n      <td>NaN</td>\n      <td>2025-04-23</td>\n      <td>WOS:000418518000014</td>\n      <td>0</td>\n    </tr>\n    <tr>\n      <th>2</th>\n      <td>J</td>\n      <td>Jia, ZF; Li, HQ; Zhao, Y; Frazer, L; Qian, BS;...</td>\n      <td>NaN</td>\n      <td>NaN</td>\n      <td>NaN</td>\n      <td>Jia, Zhengfeng; Li, Haoqi; Zhao, Yao; Frazer, ...</td>\n      <td>NaN</td>\n      <td>NaN</td>\n      <td>Electrical and mechanical properties of poly(d...</td>\n      <td>JOURNAL OF MATERIALS SCIENCE</td>\n      <td>...</td>\n      <td>Science Citation Index Expanded (SCI-EXPANDED)</td>\n      <td>Materials Science</td>\n      <td>FA2XY</td>\n      <td>NaN</td>\n      <td>NaN</td>\n      <td>NaN</td>\n      <td>NaN</td>\n      <td>2025-04-23</td>\n      <td>WOS:000405306300041</td>\n      <td>0</td>\n    </tr>\n    <tr>\n      <th>3</th>\n      <td>J</td>\n      <td>Kalantari, E; Naghib, SM; Naimi-Jamal, MR; Moz...</td>\n      <td>NaN</td>\n      <td>NaN</td>\n      <td>NaN</td>\n      <td>Kalantari, Erfan; Naghib, Seyed Morteza; Naimi...</td>\n      <td>NaN</td>\n      <td>NaN</td>\n      <td>Green solvent-based sol-gel synthesis of monti...</td>\n      <td>JOURNAL OF SOL-GEL SCIENCE AND TECHNOLOGY</td>\n      <td>...</td>\n      <td>Science Citation Index Expanded (SCI-EXPANDED)</td>\n      <td>Materials Science</td>\n      <td>FH7CZ</td>\n      <td>NaN</td>\n      <td>NaN</td>\n      <td>NaN</td>\n      <td>NaN</td>\n      <td>2025-04-23</td>\n      <td>WOS:000411341300011</td>\n      <td>0</td>\n    </tr>\n    <tr>\n      <th>4</th>\n      <td>J</td>\n      <td>Karunaratne, MSA; Jepson, MAE; Simms, NJ; Nich...</td>\n      <td>NaN</td>\n      <td>NaN</td>\n      <td>NaN</td>\n      <td>Karunaratne, M. S. A.; Jepson, M. A. E.; Simms...</td>\n      <td>NaN</td>\n      <td>NaN</td>\n      <td>Modelling of microstructural evolution in mult...</td>\n      <td>JOURNAL OF MATERIALS SCIENCE</td>\n      <td>...</td>\n      <td>Science Citation Index Expanded (SCI-EXPANDED)</td>\n      <td>Materials Science</td>\n      <td>FB8LX</td>\n      <td>32025049.0</td>\n      <td>hybrid, Green Published</td>\n      <td>NaN</td>\n      <td>NaN</td>\n      <td>2025-04-23</td>\n      <td>WOS:000406391600038</td>\n      <td>0</td>\n    </tr>\n    <tr>\n      <th>...</th>\n      <td>...</td>\n      <td>...</td>\n      <td>...</td>\n      <td>...</td>\n      <td>...</td>\n      <td>...</td>\n      <td>...</td>\n      <td>...</td>\n      <td>...</td>\n      <td>...</td>\n      <td>...</td>\n      <td>...</td>\n      <td>...</td>\n      <td>...</td>\n      <td>...</td>\n      <td>...</td>\n      <td>...</td>\n      <td>...</td>\n      <td>...</td>\n      <td>...</td>\n      <td>...</td>\n    </tr>\n    <tr>\n      <th>2755</th>\n      <td>J</td>\n      <td>Tang, SJ; Vilmann, AS; Saftoiu, A; Wang, WM; S...</td>\n      <td>NaN</td>\n      <td>NaN</td>\n      <td>NaN</td>\n      <td>Tang, Shou-jiang; Vilmann, Andreas S.; Saftoiu...</td>\n      <td>NaN</td>\n      <td>NaN</td>\n      <td>EUS Needle Identification Comparison and Evalu...</td>\n      <td>GASTROINTESTINAL ENDOSCOPY</td>\n      <td>...</td>\n      <td>Science Citation Index Expanded (SCI-EXPANDED)</td>\n      <td>Gastroenterology &amp; Hepatology</td>\n      <td>DU5DY</td>\n      <td>26873530.0</td>\n      <td>Green Accepted, Green Submitted</td>\n      <td>NaN</td>\n      <td>NaN</td>\n      <td>2025-04-23</td>\n      <td>WOS:000382233600006</td>\n      <td>0</td>\n    </tr>\n    <tr>\n      <th>2756</th>\n      <td>J</td>\n      <td>Shioga, PHT; Binder, C; Hammes, G; Klein, AN; ...</td>\n      <td>NaN</td>\n      <td>NaN</td>\n      <td>NaN</td>\n      <td>Teshima Shioga, Pedro Henrique; Binder, Cristi...</td>\n      <td>NaN</td>\n      <td>NaN</td>\n      <td>Effects of Different Plasma Nitrided Layers on...</td>\n      <td>MATERIALS RESEARCH-IBERO-AMERICAN JOURNAL OF M...</td>\n      <td>...</td>\n      <td>Science Citation Index Expanded (SCI-EXPANDED)</td>\n      <td>Materials Science</td>\n      <td>DZ1UI</td>\n      <td>NaN</td>\n      <td>Green Submitted, Green Published, gold</td>\n      <td>NaN</td>\n      <td>NaN</td>\n      <td>2025-04-23</td>\n      <td>WOS:000385626000031</td>\n      <td>0</td>\n    </tr>\n    <tr>\n      <th>2757</th>\n      <td>J</td>\n      <td>Tian, ZL; Zheng, LY; Li, ZJ; Li, JL; Wang, JY</td>\n      <td>NaN</td>\n      <td>NaN</td>\n      <td>NaN</td>\n      <td>Tian, Zhilin; Zheng, Liya; Li, Zhaojin; Li, Ji...</td>\n      <td>NaN</td>\n      <td>NaN</td>\n      <td>Exploration of the low thermal conductivities ...</td>\n      <td>JOURNAL OF THE EUROPEAN CERAMIC SOCIETY</td>\n      <td>...</td>\n      <td>Science Citation Index Expanded (SCI-EXPANDED)</td>\n      <td>Materials Science</td>\n      <td>DN1EC</td>\n      <td>NaN</td>\n      <td>NaN</td>\n      <td>NaN</td>\n      <td>NaN</td>\n      <td>2025-04-23</td>\n      <td>WOS:000376808100021</td>\n      <td>0</td>\n    </tr>\n    <tr>\n      <th>2758</th>\n      <td>J</td>\n      <td>Triki, A; Arnold, V</td>\n      <td>NaN</td>\n      <td>NaN</td>\n      <td>NaN</td>\n      <td>Triki, Anis; Arnold, Vicky</td>\n      <td>NaN</td>\n      <td>NaN</td>\n      <td>Getting Caught Sugar Coating'': The Behavioral...</td>\n      <td>JOURNAL OF EMERGING TECHNOLOGIES IN ACCOUNTING</td>\n      <td>...</td>\n      <td>Emerging Sources Citation Index (ESCI)</td>\n      <td>Business &amp; Economics</td>\n      <td>FA6AG</td>\n      <td>NaN</td>\n      <td>NaN</td>\n      <td>NaN</td>\n      <td>NaN</td>\n      <td>2025-04-23</td>\n      <td>WOS:000405525100011</td>\n      <td>0</td>\n    </tr>\n    <tr>\n      <th>2759</th>\n      <td>J</td>\n      <td>Tsai, DC; Chang, ZC; Kuo, BH; Liu, YC; Chen, E...</td>\n      <td>NaN</td>\n      <td>NaN</td>\n      <td>NaN</td>\n      <td>Tsai, Du-Cheng; Chang, Zue-Chin; Kuo, Bing-Hau...</td>\n      <td>NaN</td>\n      <td>NaN</td>\n      <td>Structural, electro-optical, and mechanical pr...</td>\n      <td>CERAMICS INTERNATIONAL</td>\n      <td>...</td>\n      <td>Science Citation Index Expanded (SCI-EXPANDED)</td>\n      <td>Materials Science</td>\n      <td>DR7LT</td>\n      <td>NaN</td>\n      <td>NaN</td>\n      <td>NaN</td>\n      <td>NaN</td>\n      <td>2025-04-23</td>\n      <td>WOS:000380081900121</td>\n      <td>0</td>\n    </tr>\n  </tbody>\n</table>\n<p>2760 rows × 72 columns</p>\n</div>"
          },
          "metadata": {}
        }
      ],
      "outputs_reference": null,
      "content_dependencies": null
    },
    {
      "cell_type": "code",
      "metadata": {
        "source_hash": "d8301348",
        "execution_start": 1747670352934,
        "execution_millis": 1,
        "execution_context_id": "9cceadf7-7cc9-4659-90ce-317e61ff68b9",
        "deepnote_app_block_order": 13,
        "deepnote_app_block_visible": true,
        "deepnote_app_block_group_id": null,
        "deepnote_app_is_code_hidden": true,
        "deepnote_app_is_output_hidden": false,
        "cell_id": "f225f658eb3248618e4ad2efe1b81def",
        "deepnote_cell_type": "code"
      },
      "source": "agru = ds.groupby(['Language']).size()\nagru.plot.bar()",
      "block_group": "5551438ea16e44b0af0a694e70f13863",
      "execution_count": 65,
      "outputs": [
        {
          "output_type": "execute_result",
          "execution_count": 65,
          "data": {
            "text/plain": "<Axes: xlabel='Language'>"
          },
          "metadata": {}
        },
        {
          "data": {
            "text/plain": "<Figure size 640x480 with 1 Axes>",
            "image/png": "[encoded data removed]"
          },
          "metadata": {
            "image/png": {
              "width": 560,
              "height": 468
            }
          },
          "output_type": "display_data"
        }
      ],
      "outputs_reference": null,
      "content_dependencies": null
    },
    {
      "cell_type": "code",
      "metadata": {
        "source_hash": "932a1020",
        "execution_start": 1747670356398,
        "execution_context_id": "9cceadf7-7cc9-4659-90ce-317e61ff68b9",
        "deepnote_app_block_order": 14,
        "deepnote_app_block_visible": true,
        "deepnote_app_block_group_id": null,
        "deepnote_app_is_code_hidden": true,
        "deepnote_app_is_output_hidden": false,
        "cell_id": "b38dd975470d4aa5b2702aab1f48ba39",
        "deepnote_cell_type": "code"
      },
      "source": "agru = ds.groupby(['Publication Year']).size()\nagru.plot.bar()",
      "block_group": "175edfc286bd43258d6f8860b68472ea",
      "execution_count": 68,
      "outputs": [
        {
          "output_type": "execute_result",
          "execution_count": 68,
          "data": {
            "text/plain": "<Axes: xlabel='Publication Year'>"
          },
          "metadata": {}
        },
        {
          "data": {
            "text/plain": "<Figure size 640x480 with 1 Axes>",
            "image/png": "[encoded data removed]"
          },
          "metadata": {
            "image/png": {
              "width": 560,
              "height": 454
            }
          },
          "output_type": "display_data"
        }
      ],
      "outputs_reference": null,
      "content_dependencies": null
    },
    {
      "cell_type": "code",
      "metadata": {
        "source_hash": "5c7d6374",
        "execution_start": 1747670787494,
        "execution_millis": 3317200,
        "execution_context_id": "9cceadf7-7cc9-4659-90ce-317e61ff68b9",
        "deepnote_app_block_order": 15,
        "deepnote_app_block_visible": true,
        "deepnote_app_block_group_id": null,
        "deepnote_app_is_code_hidden": true,
        "deepnote_app_is_output_hidden": false,
        "cell_id": "22ddd7b47bb345f6b19efe8654b334b9",
        "deepnote_cell_type": "code"
      },
      "source": "import requests\nimport time\nimport pandas as pd\n\n# Carregando o DataFrame a partir do arquivo CSV que foi gerado anteriormente\ndf = pd.read_csv('artigos_filtrados1.csv')\n\n# Função para consultar a API do Unpaywall\ndef verificar_open_access(doi, email='alandelonsrocha@gmail.com'):\n    url = f\"https://api.unpaywall.org/v2/{doi}?email={email}\"\n    try:\n        response = requests.get(url)\n        if response.status_code == 200:\n            data = response.json()\n            return data.get(\"is_oa\"), data.get(\"oa_status\")  # True/False e tipo (gold, green, etc.)\n        else:\n            return None, None\n    except:\n        return None, None\n\n# Aplicar a função em cada linha\ndf['is_oa'] = None\ndf['oa_status'] = None\n\nfor idx, row in df.iterrows():\n    doi = row['DOI']\n    if pd.notnull(doi):\n        is_oa, oa_status = verificar_open_access(doi)\n        df.at[idx, 'is_oa'] = is_oa\n        df.at[idx, 'oa_status'] = oa_status\n        time.sleep(1)  # Respeitar limite de 1 request por segundo da API gratuita\n\n# Salvar o resultado\ndf.to_csv('resultado_com_oa38.csv', index=False)",
      "block_group": "badf79855f094a88b85fb14b21b6f287",
      "execution_count": 74,
      "outputs": [],
      "outputs_reference": null,
      "content_dependencies": null
    },
    {
      "cell_type": "code",
      "metadata": {
        "source_hash": "72dee8d6",
        "execution_start": 1747675745175,
        "execution_millis": 358,
        "deepnote_table_state": {
          "sortBy": [],
          "filters": [],
          "pageSize": 100,
          "pageIndex": 0,
          "columnOrder": [
            "Publication Type",
            "Authors",
            "Book Authors",
            "Book Editors",
            "Book Group Authors",
            "Author Full Names",
            "Book Author Full Names",
            "Group Authors",
            "Article Title",
            "Source Title",
            "Book Series Title",
            "Book Series Subtitle",
            "Language",
            "Document Type",
            "Conference Title",
            "Conference Date",
            "Conference Location",
            "Conference Sponsor",
            "Conference Host",
            "Author Keywords",
            "Keywords Plus",
            "Abstract",
            "Addresses",
            "Affiliations",
            "Reprint Addresses",
            "Email Addresses",
            "Researcher Ids",
            "ORCIDs",
            "Funding Orgs",
            "Funding Name Preferred",
            "Funding Text",
            "Cited References",
            "Cited Reference Count",
            "Times Cited, WoS Core",
            "Times Cited, All Databases",
            "180 Day Usage Count",
            "Since 2013 Usage Count",
            "Publisher",
            "Publisher City",
            "Publisher Address",
            "ISSN",
            "eISSN",
            "ISBN",
            "Journal Abbreviation",
            "Journal ISO Abbreviation",
            "Publication Date",
            "Publication Year",
            "Volume",
            "Issue",
            "Part Number",
            "Supplement",
            "Special Issue",
            "Meeting Abstract",
            "Start Page",
            "End Page",
            "Article Number",
            "DOI",
            "DOI Link",
            "Book DOI",
            "Early Access Date",
            "Number of Pages",
            "WoS Categories",
            "Web of Science Index",
            "Research Areas",
            "IDS Number",
            "Pubmed Id",
            "Open Access Designations",
            "Highly Cited Status",
            "Hot Paper Status",
            "Date of Export",
            "UT (Unique WOS ID)",
            "Web of Science Record",
            "is_oa",
            "oa_status"
          ],
          "hiddenColumnIds": [],
          "columnDisplayNames": [],
          "conditionalFilters": [],
          "cellFormattingRules": [],
          "wrappedTextColumnIds": []
        },
        "execution_context_id": "9cceadf7-7cc9-4659-90ce-317e61ff68b9",
        "deepnote_table_loading": false,
        "deepnote_app_block_order": 16,
        "deepnote_app_block_visible": true,
        "deepnote_app_block_group_id": null,
        "deepnote_app_is_code_hidden": true,
        "deepnote_app_is_output_hidden": false,
        "cell_id": "a48b8e81b1344311a122d6b15f835a6c",
        "deepnote_cell_type": "code"
      },
      "source": "res = pd.read_csv('resultado_com_oa38.csv')\nres.head()",
      "block_group": "f0de095e57844e81aed24fd0e809cffb",
      "execution_count": 77,
      "outputs": [
        {
          "output_type": "execute_result",
          "execution_count": 80,
          "data": {
            "application/vnd.deepnote.dataframe.v3+json": {
              "column_count": 74,
              "row_count": 5,
              "columns": [
                {
                  "name": "Publication Type",
                  "dtype": "object",
                  "stats": {
                    "unique_count": 1,
                    "nan_count": 0,
                    "categories": [
                      {
                        "name": "J",
                        "count": 5
                      }
                    ]
                  }
                },
                {
                  "name": "Authors",
                  "dtype": "object",
                  "stats": {
                    "unique_count": 5,
                    "nan_count": 0,
                    "categories": [
                      {
                        "name": "Hernández-Rodríguez, P; López-Honorato, E",
                        "count": 1
                      },
                      {
                        "name": "Ismail, RA; Zaidan, SA; Kadhim, RM",
                        "count": 1
                      },
                      {
                        "name": "3 others",
                        "count": 3
                      }
                    ]
                  }
                },
                {
                  "name": "Book Authors",
                  "dtype": "float64",
                  "stats": {
                    "unique_count": 0,
                    "nan_count": 5,
                    "min": null,
                    "max": null,
                    "histogram": [
                      {
                        "bin_start": 0,
                        "bin_end": 0.1,
                        "count": 0
                      },
                      {
                        "bin_start": 0.1,
                        "bin_end": 0.2,
                        "count": 0
                      },
                      {
                        "bin_start": 0.2,
                        "bin_end": 0.30000000000000004,
                        "count": 0
                      },
                      {
                        "bin_start": 0.30000000000000004,
                        "bin_end": 0.4,
                        "count": 0
                      },
                      {
                        "bin_start": 0.4,
                        "bin_end": 0.5,
                        "count": 0
                      },
                      {
                        "bin_start": 0.5,
                        "bin_end": 0.6000000000000001,
                        "count": 0
                      },
                      {
                        "bin_start": 0.6000000000000001,
                        "bin_end": 0.7000000000000001,
                        "count": 0
                      },
                      {
                        "bin_start": 0.7000000000000001,
                        "bin_end": 0.8,
                        "count": 0
                      },
                      {
                        "bin_start": 0.8,
                        "bin_end": 0.9,
                        "count": 0
                      },
                      {
                        "bin_start": 0.9,
                        "bin_end": 1,
                        "count": 0
                      }
                    ]
                  }
                },
                {
                  "name": "Book Editors",
                  "dtype": "float64",
                  "stats": {
                    "unique_count": 0,
                    "nan_count": 5,
                    "min": null,
                    "max": null,
                    "histogram": [
                      {
                        "bin_start": 0,
                        "bin_end": 0.1,
                        "count": 0
                      },
                      {
                        "bin_start": 0.1,
                        "bin_end": 0.2,
                        "count": 0
                      },
                      {
                        "bin_start": 0.2,
                        "bin_end": 0.30000000000000004,
                        "count": 0
                      },
                      {
                        "bin_start": 0.30000000000000004,
                        "bin_end": 0.4,
                        "count": 0
                      },
                      {
                        "bin_start": 0.4,
                        "bin_end": 0.5,
                        "count": 0
                      },
                      {
                        "bin_start": 0.5,
                        "bin_end": 0.6000000000000001,
                        "count": 0
                      },
                      {
                        "bin_start": 0.6000000000000001,
                        "bin_end": 0.7000000000000001,
                        "count": 0
                      },
                      {
                        "bin_start": 0.7000000000000001,
                        "bin_end": 0.8,
                        "count": 0
                      },
                      {
                        "bin_start": 0.8,
                        "bin_end": 0.9,
                        "count": 0
                      },
                      {
                        "bin_start": 0.9,
                        "bin_end": 1,
                        "count": 0
                      }
                    ]
                  }
                },
                {
                  "name": "Book Group Authors",
                  "dtype": "float64",
                  "stats": {
                    "unique_count": 0,
                    "nan_count": 5,
                    "min": null,
                    "max": null,
                    "histogram": [
                      {
                        "bin_start": 0,
                        "bin_end": 0.1,
                        "count": 0
                      },
                      {
                        "bin_start": 0.1,
                        "bin_end": 0.2,
                        "count": 0
                      },
                      {
                        "bin_start": 0.2,
                        "bin_end": 0.30000000000000004,
                        "count": 0
                      },
                      {
                        "bin_start": 0.30000000000000004,
                        "bin_end": 0.4,
                        "count": 0
                      },
                      {
                        "bin_start": 0.4,
                        "bin_end": 0.5,
                        "count": 0
                      },
                      {
                        "bin_start": 0.5,
                        "bin_end": 0.6000000000000001,
                        "count": 0
                      },
                      {
                        "bin_start": 0.6000000000000001,
                        "bin_end": 0.7000000000000001,
                        "count": 0
                      },
                      {
                        "bin_start": 0.7000000000000001,
                        "bin_end": 0.8,
                        "count": 0
                      },
                      {
                        "bin_start": 0.8,
                        "bin_end": 0.9,
                        "count": 0
                      },
                      {
                        "bin_start": 0.9,
                        "bin_end": 1,
                        "count": 0
                      }
                    ]
                  }
                },
                {
                  "name": "Author Full Names",
                  "dtype": "object",
                  "stats": {
                    "unique_count": 5,
                    "nan_count": 0,
                    "categories": [
                      {
                        "name": "Hernandez-Rodriguez, Pedro; Lopez-Honorato, Eddie",
                        "count": 1
                      },
                      {
                        "name": "Ismail, Raid A.; Zaidan, Shihab A.; Kadhim, Rafal M.",
                        "count": 1
                      },
                      {
                        "name": "3 others",
                        "count": 3
                      }
                    ]
                  }
                },
                {
                  "name": "Book Author Full Names",
                  "dtype": "float64",
                  "stats": {
                    "unique_count": 0,
                    "nan_count": 5,
                    "min": null,
                    "max": null,
                    "histogram": [
                      {
                        "bin_start": 0,
                        "bin_end": 0.1,
                        "count": 0
                      },
                      {
                        "bin_start": 0.1,
                        "bin_end": 0.2,
                        "count": 0
                      },
                      {
                        "bin_start": 0.2,
                        "bin_end": 0.30000000000000004,
                        "count": 0
                      },
                      {
                        "bin_start": 0.30000000000000004,
                        "bin_end": 0.4,
                        "count": 0
                      },
                      {
                        "bin_start": 0.4,
                        "bin_end": 0.5,
                        "count": 0
                      },
                      {
                        "bin_start": 0.5,
                        "bin_end": 0.6000000000000001,
                        "count": 0
                      },
                      {
                        "bin_start": 0.6000000000000001,
                        "bin_end": 0.7000000000000001,
                        "count": 0
                      },
                      {
                        "bin_start": 0.7000000000000001,
                        "bin_end": 0.8,
                        "count": 0
                      },
                      {
                        "bin_start": 0.8,
                        "bin_end": 0.9,
                        "count": 0
                      },
                      {
                        "bin_start": 0.9,
                        "bin_end": 1,
                        "count": 0
                      }
                    ]
                  }
                },
                {
                  "name": "Group Authors",
                  "dtype": "object",
                  "stats": {
                    "unique_count": 0,
                    "nan_count": 5,
                    "categories": [
                      {
                        "name": "Missing",
                        "count": 5
                      }
                    ]
                  }
                },
                {
                  "name": "Article Title",
                  "dtype": "object",
                  "stats": {
                    "unique_count": 5,
                    "nan_count": 0,
                    "categories": [
                      {
                        "name": "Polymer derived SiC environmental barrier coatings with superwetting properties",
                        "count": 1
                      },
                      {
                        "name": "Preparation and characterization of aluminum oxide nanoparticles by laser ablation in liquid as passivating and anti-reflection coating for silicon photodiodes",
                        "count": 1
                      },
                      {
                        "name": "3 others",
                        "count": 3
                      }
                    ]
                  }
                },
                {
                  "name": "Source Title",
                  "dtype": "object",
                  "stats": {
                    "unique_count": 4,
                    "nan_count": 0,
                    "categories": [
                      {
                        "name": "JOURNAL OF MATERIALS SCIENCE",
                        "count": 2
                      },
                      {
                        "name": "CERAMICS INTERNATIONAL",
                        "count": 1
                      },
                      {
                        "name": "2 others",
                        "count": 2
                      }
                    ]
                  }
                },
                {
                  "name": "Book Series Title",
                  "dtype": "float64",
                  "stats": {
                    "unique_count": 0,
                    "nan_count": 5,
                    "min": null,
                    "max": null,
                    "histogram": [
                      {
                        "bin_start": 0,
                        "bin_end": 0.1,
                        "count": 0
                      },
                      {
                        "bin_start": 0.1,
                        "bin_end": 0.2,
                        "count": 0
                      },
                      {
                        "bin_start": 0.2,
                        "bin_end": 0.30000000000000004,
                        "count": 0
                      },
                      {
                        "bin_start": 0.30000000000000004,
                        "bin_end": 0.4,
                        "count": 0
                      },
                      {
                        "bin_start": 0.4,
                        "bin_end": 0.5,
                        "count": 0
                      },
                      {
                        "bin_start": 0.5,
                        "bin_end": 0.6000000000000001,
                        "count": 0
                      },
                      {
                        "bin_start": 0.6000000000000001,
                        "bin_end": 0.7000000000000001,
                        "count": 0
                      },
                      {
                        "bin_start": 0.7000000000000001,
                        "bin_end": 0.8,
                        "count": 0
                      },
                      {
                        "bin_start": 0.8,
                        "bin_end": 0.9,
                        "count": 0
                      },
                      {
                        "bin_start": 0.9,
                        "bin_end": 1,
                        "count": 0
                      }
                    ]
                  }
                },
                {
                  "name": "Book Series Subtitle",
                  "dtype": "float64",
                  "stats": {
                    "unique_count": 0,
                    "nan_count": 5,
                    "min": null,
                    "max": null,
                    "histogram": [
                      {
                        "bin_start": 0,
                        "bin_end": 0.1,
                        "count": 0
                      },
                      {
                        "bin_start": 0.1,
                        "bin_end": 0.2,
                        "count": 0
                      },
                      {
                        "bin_start": 0.2,
                        "bin_end": 0.30000000000000004,
                        "count": 0
                      },
                      {
                        "bin_start": 0.30000000000000004,
                        "bin_end": 0.4,
                        "count": 0
                      },
                      {
                        "bin_start": 0.4,
                        "bin_end": 0.5,
                        "count": 0
                      },
                      {
                        "bin_start": 0.5,
                        "bin_end": 0.6000000000000001,
                        "count": 0
                      },
                      {
                        "bin_start": 0.6000000000000001,
                        "bin_end": 0.7000000000000001,
                        "count": 0
                      },
                      {
                        "bin_start": 0.7000000000000001,
                        "bin_end": 0.8,
                        "count": 0
                      },
                      {
                        "bin_start": 0.8,
                        "bin_end": 0.9,
                        "count": 0
                      },
                      {
                        "bin_start": 0.9,
                        "bin_end": 1,
                        "count": 0
                      }
                    ]
                  }
                },
                {
                  "name": "Language",
                  "dtype": "object",
                  "stats": {
                    "unique_count": 1,
                    "nan_count": 0,
                    "categories": [
                      {
                        "name": "English",
                        "count": 5
                      }
                    ]
                  }
                },
                {
                  "name": "Document Type",
                  "dtype": "object",
                  "stats": {
                    "unique_count": 1,
                    "nan_count": 0,
                    "categories": [
                      {
                        "name": "Article",
                        "count": 5
                      }
                    ]
                  }
                },
                {
                  "name": "Conference Title",
                  "dtype": "float64",
                  "stats": {
                    "unique_count": 0,
                    "nan_count": 5,
                    "min": null,
                    "max": null,
                    "histogram": [
                      {
                        "bin_start": 0,
                        "bin_end": 0.1,
                        "count": 0
                      },
                      {
                        "bin_start": 0.1,
                        "bin_end": 0.2,
                        "count": 0
                      },
                      {
                        "bin_start": 0.2,
                        "bin_end": 0.30000000000000004,
                        "count": 0
                      },
                      {
                        "bin_start": 0.30000000000000004,
                        "bin_end": 0.4,
                        "count": 0
                      },
                      {
                        "bin_start": 0.4,
                        "bin_end": 0.5,
                        "count": 0
                      },
                      {
                        "bin_start": 0.5,
                        "bin_end": 0.6000000000000001,
                        "count": 0
                      },
                      {
                        "bin_start": 0.6000000000000001,
                        "bin_end": 0.7000000000000001,
                        "count": 0
                      },
                      {
                        "bin_start": 0.7000000000000001,
                        "bin_end": 0.8,
                        "count": 0
                      },
                      {
                        "bin_start": 0.8,
                        "bin_end": 0.9,
                        "count": 0
                      },
                      {
                        "bin_start": 0.9,
                        "bin_end": 1,
                        "count": 0
                      }
                    ]
                  }
                },
                {
                  "name": "Conference Date",
                  "dtype": "float64",
                  "stats": {
                    "unique_count": 0,
                    "nan_count": 5,
                    "min": null,
                    "max": null,
                    "histogram": [
                      {
                        "bin_start": 0,
                        "bin_end": 0.1,
                        "count": 0
                      },
                      {
                        "bin_start": 0.1,
                        "bin_end": 0.2,
                        "count": 0
                      },
                      {
                        "bin_start": 0.2,
                        "bin_end": 0.30000000000000004,
                        "count": 0
                      },
                      {
                        "bin_start": 0.30000000000000004,
                        "bin_end": 0.4,
                        "count": 0
                      },
                      {
                        "bin_start": 0.4,
                        "bin_end": 0.5,
                        "count": 0
                      },
                      {
                        "bin_start": 0.5,
                        "bin_end": 0.6000000000000001,
                        "count": 0
                      },
                      {
                        "bin_start": 0.6000000000000001,
                        "bin_end": 0.7000000000000001,
                        "count": 0
                      },
                      {
                        "bin_start": 0.7000000000000001,
                        "bin_end": 0.8,
                        "count": 0
                      },
                      {
                        "bin_start": 0.8,
                        "bin_end": 0.9,
                        "count": 0
                      },
                      {
                        "bin_start": 0.9,
                        "bin_end": 1,
                        "count": 0
                      }
                    ]
                  }
                },
                {
                  "name": "Conference Location",
                  "dtype": "float64",
                  "stats": {
                    "unique_count": 0,
                    "nan_count": 5,
                    "min": null,
                    "max": null,
                    "histogram": [
                      {
                        "bin_start": 0,
                        "bin_end": 0.1,
                        "count": 0
                      },
                      {
                        "bin_start": 0.1,
                        "bin_end": 0.2,
                        "count": 0
                      },
                      {
                        "bin_start": 0.2,
                        "bin_end": 0.30000000000000004,
                        "count": 0
                      },
                      {
                        "bin_start": 0.30000000000000004,
                        "bin_end": 0.4,
                        "count": 0
                      },
                      {
                        "bin_start": 0.4,
                        "bin_end": 0.5,
                        "count": 0
                      },
                      {
                        "bin_start": 0.5,
                        "bin_end": 0.6000000000000001,
                        "count": 0
                      },
                      {
                        "bin_start": 0.6000000000000001,
                        "bin_end": 0.7000000000000001,
                        "count": 0
                      },
                      {
                        "bin_start": 0.7000000000000001,
                        "bin_end": 0.8,
                        "count": 0
                      },
                      {
                        "bin_start": 0.8,
                        "bin_end": 0.9,
                        "count": 0
                      },
                      {
                        "bin_start": 0.9,
                        "bin_end": 1,
                        "count": 0
                      }
                    ]
                  }
                },
                {
                  "name": "Conference Sponsor",
                  "dtype": "float64",
                  "stats": {
                    "unique_count": 0,
                    "nan_count": 5,
                    "min": null,
                    "max": null,
                    "histogram": [
                      {
                        "bin_start": 0,
                        "bin_end": 0.1,
                        "count": 0
                      },
                      {
                        "bin_start": 0.1,
                        "bin_end": 0.2,
                        "count": 0
                      },
                      {
                        "bin_start": 0.2,
                        "bin_end": 0.30000000000000004,
                        "count": 0
                      },
                      {
                        "bin_start": 0.30000000000000004,
                        "bin_end": 0.4,
                        "count": 0
                      },
                      {
                        "bin_start": 0.4,
                        "bin_end": 0.5,
                        "count": 0
                      },
                      {
                        "bin_start": 0.5,
                        "bin_end": 0.6000000000000001,
                        "count": 0
                      },
                      {
                        "bin_start": 0.6000000000000001,
                        "bin_end": 0.7000000000000001,
                        "count": 0
                      },
                      {
                        "bin_start": 0.7000000000000001,
                        "bin_end": 0.8,
                        "count": 0
                      },
                      {
                        "bin_start": 0.8,
                        "bin_end": 0.9,
                        "count": 0
                      },
                      {
                        "bin_start": 0.9,
                        "bin_end": 1,
                        "count": 0
                      }
                    ]
                  }
                },
                {
                  "name": "Conference Host",
                  "dtype": "float64",
                  "stats": {
                    "unique_count": 0,
                    "nan_count": 5,
                    "min": null,
                    "max": null,
                    "histogram": [
                      {
                        "bin_start": 0,
                        "bin_end": 0.1,
                        "count": 0
                      },
                      {
                        "bin_start": 0.1,
                        "bin_end": 0.2,
                        "count": 0
                      },
                      {
                        "bin_start": 0.2,
                        "bin_end": 0.30000000000000004,
                        "count": 0
                      },
                      {
                        "bin_start": 0.30000000000000004,
                        "bin_end": 0.4,
                        "count": 0
                      },
                      {
                        "bin_start": 0.4,
                        "bin_end": 0.5,
                        "count": 0
                      },
                      {
                        "bin_start": 0.5,
                        "bin_end": 0.6000000000000001,
                        "count": 0
                      },
                      {
                        "bin_start": 0.6000000000000001,
                        "bin_end": 0.7000000000000001,
                        "count": 0
                      },
                      {
                        "bin_start": 0.7000000000000001,
                        "bin_end": 0.8,
                        "count": 0
                      },
                      {
                        "bin_start": 0.8,
                        "bin_end": 0.9,
                        "count": 0
                      },
                      {
                        "bin_start": 0.9,
                        "bin_end": 1,
                        "count": 0
                      }
                    ]
                  }
                },
                {
                  "name": "Author Keywords",
                  "dtype": "object",
                  "stats": {
                    "unique_count": 3,
                    "nan_count": 2,
                    "categories": [
                      {
                        "name": "Polycarbosilane; Silicon carbide; Coating; Filler materials; Ceramic precursor; Hydrophobic surface",
                        "count": 1
                      },
                      {
                        "name": "2 others",
                        "count": 2
                      },
                      {
                        "name": "Missing",
                        "count": 2
                      }
                    ]
                  }
                },
                {
                  "name": "Keywords Plus",
                  "dtype": "object",
                  "stats": {
                    "unique_count": 5,
                    "nan_count": 0,
                    "categories": [
                      {
                        "name": "SILICON-CARBIDE; CARBOTHERMAL REDUCTION; MECHANICAL-PROPERTIES; POLYCARBOSILANE; PYROLYSIS; CORROSION; SURFACES; FILMS; TEMPERATURE; FABRICATION",
                        "count": 1
                      },
                      {
                        "name": "THIN-FILMS; OPTICAL-PROPERTIES; SOLAR-CELLS; GAMMA-AL2O3; SIZE",
                        "count": 1
                      },
                      {
                        "name": "3 others",
                        "count": 3
                      }
                    ]
                  }
                },
                {
                  "name": "Abstract",
                  "dtype": "object",
                  "stats": {
                    "unique_count": 5,
                    "nan_count": 0,
                    "categories": [
                      {
                        "name": "Surfaces with superwetting capabilities can be used for corrosion protection, self-cleaning and bio-fouling protection amongst other applications. In this work, we present a method to produce a SiC coating with an almost superhydrophobic behavior exhibiting water contact angles of 145 +/- 3 degrees. Ceramic coatings were produced by the pyrolysis of polycarbosilane as a preceramic precursor of SiC. Aluminum and carbon powders were used as active and passive fillers to compensate for the volume shrinkage of polycarbosilane during pyrolysis. The effects of particle size (Al particles ranging from 0.8 to 10 mu m) and concentration 10-30% wt.) C and Al of both fillers were studied to produce defect-free ceramic coatings. We have observed that the fillers used not only affected the microstructure but also the surface roughness. We show that the addition of carbon fillers can increase the water contact angle of the ceramic from 42 degrees up to 141 degrees. The combination of carbon and aluminum fillers resulted in water contact angles up to 145 degrees.",
                        "count": 1
                      },
                      {
                        "name": "In this study, we have prepared aluminum oxide (Al2O3 nanoparticles) NPs with size ranging from 50 to 90 nm by laser ablation of aluminum target in ethanol. The effect of laser fluence on the structural, morphological and optical properties of Al2O3 was demonstrated and discussed. X-ray diffraction XRD results confirm that the synthesized Al2O3 NPs are crystalline in nature. The sample prepared at 3.5 J/cm(2)/pulse exhibits single phase of gamma-Al2O3, while the XRD patterns of the nanoparticles synthesized at 5.3 and 7.5 J/cm(2)/pulse show the co-existence of the alpha-Al2O3 and gamma-Al2O3 phases. Nanostructured Al2O3 films have been used as anti-reflecting coating and surface passivation layer to improve the photoresponse characteristics of silicon photodiode. The experimental data showed that the optical energy gap decreases from 5.3 to 5 eV as the laser fluence increases from 3.5 to 7.3 J/cm(2). The lowest optical reflectivity was found for silicon photodiode deposited with a single layer of Al2O3 prepared at 3.5 J/cm(2)/pulse. The effect of laser fluence on the refractive index and extinction coefficient of the nanostructured Al2O3 film was studied. The photosensitivity of the silicon photodiode increased from 0.4 to 1.4 AW(-1) at 800 nm after depositing Al2O3 prepared at 3.5 J/cm(2)/pulse, followed by rapid thermal annealing at 400 degrees C for 60 s.",
                        "count": 1
                      },
                      {
                        "name": "3 others",
                        "count": 3
                      }
                    ]
                  }
                },
                {
                  "name": "Addresses",
                  "dtype": "object",
                  "stats": {
                    "unique_count": 5,
                    "nan_count": 0,
                    "categories": [
                      {
                        "name": "[Hernandez-Rodriguez, Pedro; Lopez-Honorato, Eddie] CINVESTAV, IPN, Ctr Invest & Estudios Avanzados, Unidad Saltillo, Ave Ind Met 1062, Ramos Arizpe 25900, Coahuila, Mexico",
                        "count": 1
                      },
                      {
                        "name": "[Ismail, Raid A.; Zaidan, Shihab A.; Kadhim, Rafal M.] Univ Technol Baghdad, Dept Appl Sci, Baghdad, Iraq",
                        "count": 1
                      },
                      {
                        "name": "3 others",
                        "count": 3
                      }
                    ]
                  }
                },
                {
                  "name": "Affiliations",
                  "dtype": "object",
                  "stats": {
                    "unique_count": 5,
                    "nan_count": 0,
                    "categories": [
                      {
                        "name": "Instituto Politecnico Nacional - Mexico; CINVESTAV - Centro de Investigacion y de Estudios Avanzados del Instituto Politecnico Nacional",
                        "count": 1
                      },
                      {
                        "name": "University of Technology- Iraq",
                        "count": 1
                      },
                      {
                        "name": "3 others",
                        "count": 3
                      }
                    ]
                  }
                },
                {
                  "name": "Reprint Addresses",
                  "dtype": "object",
                  "stats": {
                    "unique_count": 5,
                    "nan_count": 0,
                    "categories": [
                      {
                        "name": "López-Honorato, E (corresponding author), CINVESTAV, IPN, Ctr Invest & Estudios Avanzados, Unidad Saltillo, Ave Ind Met 1062, Ramos Arizpe 25900, Coahuila, Mexico.",
                        "count": 1
                      },
                      {
                        "name": "Ismail, RA (corresponding author), Univ Technol Baghdad, Dept Appl Sci, Baghdad, Iraq.",
                        "count": 1
                      },
                      {
                        "name": "3 others",
                        "count": 3
                      }
                    ]
                  }
                },
                {
                  "name": "Email Addresses",
                  "dtype": "object",
                  "stats": {
                    "unique_count": 5,
                    "nan_count": 0,
                    "categories": [
                      {
                        "name": "eddie.lopez@cinvestav.edu.mx",
                        "count": 1
                      },
                      {
                        "name": "raidismail@yahoo.com",
                        "count": 1
                      },
                      {
                        "name": "3 others",
                        "count": 3
                      }
                    ]
                  }
                },
                {
                  "name": "Researcher Ids",
                  "dtype": "object",
                  "stats": {
                    "unique_count": 5,
                    "nan_count": 0,
                    "categories": [
                      {
                        "name": "Honorato, Eddie/AAK-4311-2020",
                        "count": 1
                      },
                      {
                        "name": "A.ismail, Raid/AAB-3569-2021; Zaidan, Shihab/ABB-2085-2021",
                        "count": 1
                      },
                      {
                        "name": "3 others",
                        "count": 3
                      }
                    ]
                  }
                },
                {
                  "name": "ORCIDs",
                  "dtype": "object",
                  "stats": {
                    "unique_count": 5,
                    "nan_count": 0,
                    "categories": [
                      {
                        "name": "Lopez-Honorato, Eddie/0000-0001-7948-798X",
                        "count": 1
                      },
                      {
                        "name": "zaidan, shihab/0000-0002-1864-9719",
                        "count": 1
                      },
                      {
                        "name": "3 others",
                        "count": 3
                      }
                    ]
                  }
                },
                {
                  "name": "Funding Orgs",
                  "dtype": "object",
                  "stats": {
                    "unique_count": 4,
                    "nan_count": 1,
                    "categories": [
                      {
                        "name": "CONACYT-Mexico",
                        "count": 1
                      },
                      {
                        "name": "3 others",
                        "count": 3
                      },
                      {
                        "name": "Missing",
                        "count": 1
                      }
                    ]
                  }
                },
                {
                  "name": "Funding Name Preferred",
                  "dtype": "object",
                  "stats": {
                    "unique_count": 4,
                    "nan_count": 1,
                    "categories": [
                      {
                        "name": "CONACYT-Mexico(Consejo Nacional de Ciencia y Tecnologia (CONACyT))",
                        "count": 1
                      },
                      {
                        "name": "3 others",
                        "count": 3
                      },
                      {
                        "name": "Missing",
                        "count": 1
                      }
                    ]
                  }
                },
                {
                  "name": "Funding Text",
                  "dtype": "object",
                  "stats": {
                    "unique_count": 4,
                    "nan_count": 1,
                    "categories": [
                      {
                        "name": "The authors would like to acknowledge CONACYT-Mexico for a Ph.D. Grant awarded to PHR. Authors would also like to thank the National Laboratory of Graphene Materials for the measurements of surface roughness.",
                        "count": 1
                      },
                      {
                        "name": "3 others",
                        "count": 3
                      },
                      {
                        "name": "Missing",
                        "count": 1
                      }
                    ]
                  }
                },
                {
                  "name": "Cited References",
                  "dtype": "float64",
                  "stats": {
                    "unique_count": 0,
                    "nan_count": 5,
                    "min": null,
                    "max": null,
                    "histogram": [
                      {
                        "bin_start": 0,
                        "bin_end": 0.1,
                        "count": 0
                      },
                      {
                        "bin_start": 0.1,
                        "bin_end": 0.2,
                        "count": 0
                      },
                      {
                        "bin_start": 0.2,
                        "bin_end": 0.30000000000000004,
                        "count": 0
                      },
                      {
                        "bin_start": 0.30000000000000004,
                        "bin_end": 0.4,
                        "count": 0
                      },
                      {
                        "bin_start": 0.4,
                        "bin_end": 0.5,
                        "count": 0
                      },
                      {
                        "bin_start": 0.5,
                        "bin_end": 0.6000000000000001,
                        "count": 0
                      },
                      {
                        "bin_start": 0.6000000000000001,
                        "bin_end": 0.7000000000000001,
                        "count": 0
                      },
                      {
                        "bin_start": 0.7000000000000001,
                        "bin_end": 0.8,
                        "count": 0
                      },
                      {
                        "bin_start": 0.8,
                        "bin_end": 0.9,
                        "count": 0
                      },
                      {
                        "bin_start": 0.9,
                        "bin_end": 1,
                        "count": 0
                      }
                    ]
                  }
                },
                {
                  "name": "Cited Reference Count",
                  "dtype": "int64",
                  "stats": {
                    "unique_count": 5,
                    "nan_count": 0,
                    "min": "26",
                    "max": "39",
                    "histogram": [
                      {
                        "bin_start": 26,
                        "bin_end": 27.3,
                        "count": 1
                      },
                      {
                        "bin_start": 27.3,
                        "bin_end": 28.6,
                        "count": 0
                      },
                      {
                        "bin_start": 28.6,
                        "bin_end": 29.9,
                        "count": 0
                      },
                      {
                        "bin_start": 29.9,
                        "bin_end": 31.2,
                        "count": 1
                      },
                      {
                        "bin_start": 31.2,
                        "bin_end": 32.5,
                        "count": 0
                      },
                      {
                        "bin_start": 32.5,
                        "bin_end": 33.8,
                        "count": 1
                      },
                      {
                        "bin_start": 33.8,
                        "bin_end": 35.1,
                        "count": 1
                      },
                      {
                        "bin_start": 35.1,
                        "bin_end": 36.4,
                        "count": 0
                      },
                      {
                        "bin_start": 36.4,
                        "bin_end": 37.7,
                        "count": 0
                      },
                      {
                        "bin_start": 37.7,
                        "bin_end": 39,
                        "count": 1
                      }
                    ]
                  }
                },
                {
                  "name": "Times Cited, WoS Core",
                  "dtype": "int64",
                  "stats": {
                    "unique_count": 5,
                    "nan_count": 0,
                    "min": "3",
                    "max": "60",
                    "histogram": [
                      {
                        "bin_start": 3,
                        "bin_end": 8.7,
                        "count": 1
                      },
                      {
                        "bin_start": 8.7,
                        "bin_end": 14.4,
                        "count": 0
                      },
                      {
                        "bin_start": 14.4,
                        "bin_end": 20.1,
                        "count": 1
                      },
                      {
                        "bin_start": 20.1,
                        "bin_end": 25.8,
                        "count": 0
                      },
                      {
                        "bin_start": 25.8,
                        "bin_end": 31.5,
                        "count": 1
                      },
                      {
                        "bin_start": 31.5,
                        "bin_end": 37.2,
                        "count": 0
                      },
                      {
                        "bin_start": 37.2,
                        "bin_end": 42.9,
                        "count": 0
                      },
                      {
                        "bin_start": 42.9,
                        "bin_end": 48.6,
                        "count": 0
                      },
                      {
                        "bin_start": 48.6,
                        "bin_end": 54.300000000000004,
                        "count": 1
                      },
                      {
                        "bin_start": 54.300000000000004,
                        "bin_end": 60,
                        "count": 1
                      }
                    ]
                  }
                },
                {
                  "name": "Times Cited, All Databases",
                  "dtype": "int64",
                  "stats": {
                    "unique_count": 5,
                    "nan_count": 0,
                    "min": "3",
                    "max": "61",
                    "histogram": [
                      {
                        "bin_start": 3,
                        "bin_end": 8.8,
                        "count": 1
                      },
                      {
                        "bin_start": 8.8,
                        "bin_end": 14.6,
                        "count": 0
                      },
                      {
                        "bin_start": 14.6,
                        "bin_end": 20.4,
                        "count": 0
                      },
                      {
                        "bin_start": 20.4,
                        "bin_end": 26.2,
                        "count": 1
                      },
                      {
                        "bin_start": 26.2,
                        "bin_end": 32,
                        "count": 1
                      },
                      {
                        "bin_start": 32,
                        "bin_end": 37.8,
                        "count": 0
                      },
                      {
                        "bin_start": 37.8,
                        "bin_end": 43.6,
                        "count": 0
                      },
                      {
                        "bin_start": 43.6,
                        "bin_end": 49.4,
                        "count": 0
                      },
                      {
                        "bin_start": 49.4,
                        "bin_end": 55.199999999999996,
                        "count": 0
                      },
                      {
                        "bin_start": 55.199999999999996,
                        "bin_end": 61,
                        "count": 2
                      }
                    ]
                  }
                },
                {
                  "name": "180 Day Usage Count",
                  "dtype": "int64",
                  "stats": {
                    "unique_count": 2,
                    "nan_count": 0,
                    "min": "0",
                    "max": "1",
                    "histogram": [
                      {
                        "bin_start": 0,
                        "bin_end": 0.1,
                        "count": 2
                      },
                      {
                        "bin_start": 0.1,
                        "bin_end": 0.2,
                        "count": 0
                      },
                      {
                        "bin_start": 0.2,
                        "bin_end": 0.30000000000000004,
                        "count": 0
                      },
                      {
                        "bin_start": 0.30000000000000004,
                        "bin_end": 0.4,
                        "count": 0
                      },
                      {
                        "bin_start": 0.4,
                        "bin_end": 0.5,
                        "count": 0
                      },
                      {
                        "bin_start": 0.5,
                        "bin_end": 0.6000000000000001,
                        "count": 0
                      },
                      {
                        "bin_start": 0.6000000000000001,
                        "bin_end": 0.7000000000000001,
                        "count": 0
                      },
                      {
                        "bin_start": 0.7000000000000001,
                        "bin_end": 0.8,
                        "count": 0
                      },
                      {
                        "bin_start": 0.8,
                        "bin_end": 0.9,
                        "count": 0
                      },
                      {
                        "bin_start": 0.9,
                        "bin_end": 1,
                        "count": 3
                      }
                    ]
                  }
                },
                {
                  "name": "Since 2013 Usage Count",
                  "dtype": "int64",
                  "stats": {
                    "unique_count": 5,
                    "nan_count": 0,
                    "min": "15",
                    "max": "134",
                    "histogram": [
                      {
                        "bin_start": 15,
                        "bin_end": 26.9,
                        "count": 3
                      },
                      {
                        "bin_start": 26.9,
                        "bin_end": 38.8,
                        "count": 0
                      },
                      {
                        "bin_start": 38.8,
                        "bin_end": 50.7,
                        "count": 0
                      },
                      {
                        "bin_start": 50.7,
                        "bin_end": 62.6,
                        "count": 0
                      },
                      {
                        "bin_start": 62.6,
                        "bin_end": 74.5,
                        "count": 0
                      },
                      {
                        "bin_start": 74.5,
                        "bin_end": 86.4,
                        "count": 1
                      },
                      {
                        "bin_start": 86.4,
                        "bin_end": 98.3,
                        "count": 0
                      },
                      {
                        "bin_start": 98.3,
                        "bin_end": 110.2,
                        "count": 0
                      },
                      {
                        "bin_start": 110.2,
                        "bin_end": 122.10000000000001,
                        "count": 0
                      },
                      {
                        "bin_start": 122.10000000000001,
                        "bin_end": 134,
                        "count": 1
                      }
                    ]
                  }
                },
                {
                  "name": "Publisher",
                  "dtype": "object",
                  "stats": {
                    "unique_count": 3,
                    "nan_count": 0,
                    "categories": [
                      {
                        "name": "SPRINGER",
                        "count": 3
                      },
                      {
                        "name": "ELSEVIER SCI LTD",
                        "count": 1
                      },
                      {
                        "name": "SPRINGER HEIDELBERG",
                        "count": 1
                      }
                    ]
                  }
                },
                {
                  "name": "Publisher City",
                  "dtype": "object",
                  "stats": {
                    "unique_count": 4,
                    "nan_count": 0,
                    "categories": [
                      {
                        "name": "NEW YORK",
                        "count": 2
                      },
                      {
                        "name": "OXFORD",
                        "count": 1
                      },
                      {
                        "name": "2 others",
                        "count": 2
                      }
                    ]
                  }
                },
                {
                  "name": "Publisher Address",
                  "dtype": "object",
                  "stats": {
                    "unique_count": 5,
                    "nan_count": 0,
                    "categories": [
                      {
                        "name": "THE BOULEVARD, LANGFORD LANE, KIDLINGTON, OXFORD OX5 1GB, OXON, ENGLAND",
                        "count": 1
                      },
                      {
                        "name": "TIERGARTENSTRASSE 17, D-69121 HEIDELBERG, GERMANY",
                        "count": 1
                      },
                      {
                        "name": "3 others",
                        "count": 3
                      }
                    ]
                  }
                },
                {
                  "name": "ISSN",
                  "dtype": "object",
                  "stats": {
                    "unique_count": 4,
                    "nan_count": 0,
                    "categories": [
                      {
                        "name": "0022-2461",
                        "count": 2
                      },
                      {
                        "name": "0272-8842",
                        "count": 1
                      },
                      {
                        "name": "2 others",
                        "count": 2
                      }
                    ]
                  }
                },
                {
                  "name": "eISSN",
                  "dtype": "object",
                  "stats": {
                    "unique_count": 4,
                    "nan_count": 0,
                    "categories": [
                      {
                        "name": "1573-4803",
                        "count": 2
                      },
                      {
                        "name": "1873-3956",
                        "count": 1
                      },
                      {
                        "name": "2 others",
                        "count": 2
                      }
                    ]
                  }
                },
                {
                  "name": "ISBN",
                  "dtype": "float64",
                  "stats": {
                    "unique_count": 0,
                    "nan_count": 5,
                    "min": null,
                    "max": null,
                    "histogram": [
                      {
                        "bin_start": 0,
                        "bin_end": 0.1,
                        "count": 0
                      },
                      {
                        "bin_start": 0.1,
                        "bin_end": 0.2,
                        "count": 0
                      },
                      {
                        "bin_start": 0.2,
                        "bin_end": 0.30000000000000004,
                        "count": 0
                      },
                      {
                        "bin_start": 0.30000000000000004,
                        "bin_end": 0.4,
                        "count": 0
                      },
                      {
                        "bin_start": 0.4,
                        "bin_end": 0.5,
                        "count": 0
                      },
                      {
                        "bin_start": 0.5,
                        "bin_end": 0.6000000000000001,
                        "count": 0
                      },
                      {
                        "bin_start": 0.6000000000000001,
                        "bin_end": 0.7000000000000001,
                        "count": 0
                      },
                      {
                        "bin_start": 0.7000000000000001,
                        "bin_end": 0.8,
                        "count": 0
                      },
                      {
                        "bin_start": 0.8,
                        "bin_end": 0.9,
                        "count": 0
                      },
                      {
                        "bin_start": 0.9,
                        "bin_end": 1,
                        "count": 0
                      }
                    ]
                  }
                },
                {
                  "name": "Journal Abbreviation",
                  "dtype": "object",
                  "stats": {
                    "unique_count": 4,
                    "nan_count": 0,
                    "categories": [
                      {
                        "name": "J MATER SCI",
                        "count": 2
                      },
                      {
                        "name": "CERAM INT",
                        "count": 1
                      },
                      {
                        "name": "2 others",
                        "count": 2
                      }
                    ]
                  }
                },
                {
                  "name": "Journal ISO Abbreviation",
                  "dtype": "object",
                  "stats": {
                    "unique_count": 4,
                    "nan_count": 0,
                    "categories": [
                      {
                        "name": "J. Mater. Sci.",
                        "count": 2
                      },
                      {
                        "name": "Ceram. Int.",
                        "count": 1
                      },
                      {
                        "name": "2 others",
                        "count": 2
                      }
                    ]
                  }
                },
                {
                  "name": "Publication Date",
                  "dtype": "object",
                  "stats": {
                    "unique_count": 2,
                    "nan_count": 0,
                    "categories": [
                      {
                        "name": "OCT",
                        "count": 4
                      },
                      {
                        "name": "OCT 1",
                        "count": 1
                      }
                    ]
                  }
                },
                {
                  "name": "Publication Year",
                  "dtype": "int64",
                  "stats": {
                    "unique_count": 1,
                    "nan_count": 0,
                    "min": "2017",
                    "max": "2017",
                    "histogram": [
                      {
                        "bin_start": 2016.5,
                        "bin_end": 2016.6,
                        "count": 0
                      },
                      {
                        "bin_start": 2016.6,
                        "bin_end": 2016.7,
                        "count": 0
                      },
                      {
                        "bin_start": 2016.7,
                        "bin_end": 2016.8,
                        "count": 0
                      },
                      {
                        "bin_start": 2016.8,
                        "bin_end": 2016.9,
                        "count": 0
                      },
                      {
                        "bin_start": 2016.9,
                        "bin_end": 2017,
                        "count": 0
                      },
                      {
                        "bin_start": 2017,
                        "bin_end": 2017.1,
                        "count": 5
                      },
                      {
                        "bin_start": 2017.1,
                        "bin_end": 2017.2,
                        "count": 0
                      },
                      {
                        "bin_start": 2017.2,
                        "bin_end": 2017.3,
                        "count": 0
                      },
                      {
                        "bin_start": 2017.3,
                        "bin_end": 2017.4,
                        "count": 0
                      },
                      {
                        "bin_start": 2017.4,
                        "bin_end": 2017.5,
                        "count": 0
                      }
                    ]
                  }
                },
                {
                  "name": "Volume",
                  "dtype": "float64",
                  "stats": {
                    "unique_count": 4,
                    "nan_count": 0,
                    "min": "7.0",
                    "max": "84.0",
                    "histogram": [
                      {
                        "bin_start": 7,
                        "bin_end": 14.7,
                        "count": 1
                      },
                      {
                        "bin_start": 14.7,
                        "bin_end": 22.4,
                        "count": 0
                      },
                      {
                        "bin_start": 22.4,
                        "bin_end": 30.1,
                        "count": 0
                      },
                      {
                        "bin_start": 30.1,
                        "bin_end": 37.8,
                        "count": 0
                      },
                      {
                        "bin_start": 37.8,
                        "bin_end": 45.5,
                        "count": 1
                      },
                      {
                        "bin_start": 45.5,
                        "bin_end": 53.2,
                        "count": 2
                      },
                      {
                        "bin_start": 53.2,
                        "bin_end": 60.9,
                        "count": 0
                      },
                      {
                        "bin_start": 60.9,
                        "bin_end": 68.6,
                        "count": 0
                      },
                      {
                        "bin_start": 68.6,
                        "bin_end": 76.3,
                        "count": 0
                      },
                      {
                        "bin_start": 76.3,
                        "bin_end": 84,
                        "count": 1
                      }
                    ]
                  }
                },
                {
                  "name": "Issue",
                  "dtype": "object",
                  "stats": {
                    "unique_count": 5,
                    "nan_count": 0,
                    "categories": [
                      {
                        "name": "14",
                        "count": 1
                      },
                      {
                        "name": "7",
                        "count": 1
                      },
                      {
                        "name": "3 others",
                        "count": 3
                      }
                    ]
                  }
                },
                {
                  "name": "Part Number",
                  "dtype": "object",
                  "stats": {
                    "unique_count": 0,
                    "nan_count": 5,
                    "categories": [
                      {
                        "name": "Missing",
                        "count": 5
                      }
                    ]
                  }
                },
                {
                  "name": "Supplement",
                  "dtype": "float64",
                  "stats": {
                    "unique_count": 0,
                    "nan_count": 5,
                    "min": null,
                    "max": null,
                    "histogram": [
                      {
                        "bin_start": 0,
                        "bin_end": 0.1,
                        "count": 0
                      },
                      {
                        "bin_start": 0.1,
                        "bin_end": 0.2,
                        "count": 0
                      },
                      {
                        "bin_start": 0.2,
                        "bin_end": 0.30000000000000004,
                        "count": 0
                      },
                      {
                        "bin_start": 0.30000000000000004,
                        "bin_end": 0.4,
                        "count": 0
                      },
                      {
                        "bin_start": 0.4,
                        "bin_end": 0.5,
                        "count": 0
                      },
                      {
                        "bin_start": 0.5,
                        "bin_end": 0.6000000000000001,
                        "count": 0
                      },
                      {
                        "bin_start": 0.6000000000000001,
                        "bin_end": 0.7000000000000001,
                        "count": 0
                      },
                      {
                        "bin_start": 0.7000000000000001,
                        "bin_end": 0.8,
                        "count": 0
                      },
                      {
                        "bin_start": 0.8,
                        "bin_end": 0.9,
                        "count": 0
                      },
                      {
                        "bin_start": 0.9,
                        "bin_end": 1,
                        "count": 0
                      }
                    ]
                  }
                },
                {
                  "name": "Special Issue",
                  "dtype": "object",
                  "stats": {
                    "unique_count": 0,
                    "nan_count": 5,
                    "categories": [
                      {
                        "name": "Missing",
                        "count": 5
                      }
                    ]
                  }
                },
                {
                  "name": "Meeting Abstract",
                  "dtype": "float64",
                  "stats": {
                    "unique_count": 0,
                    "nan_count": 5,
                    "min": null,
                    "max": null,
                    "histogram": [
                      {
                        "bin_start": 0,
                        "bin_end": 0.1,
                        "count": 0
                      },
                      {
                        "bin_start": 0.1,
                        "bin_end": 0.2,
                        "count": 0
                      },
                      {
                        "bin_start": 0.2,
                        "bin_end": 0.30000000000000004,
                        "count": 0
                      },
                      {
                        "bin_start": 0.30000000000000004,
                        "bin_end": 0.4,
                        "count": 0
                      },
                      {
                        "bin_start": 0.4,
                        "bin_end": 0.5,
                        "count": 0
                      },
                      {
                        "bin_start": 0.5,
                        "bin_end": 0.6000000000000001,
                        "count": 0
                      },
                      {
                        "bin_start": 0.6000000000000001,
                        "bin_end": 0.7000000000000001,
                        "count": 0
                      },
                      {
                        "bin_start": 0.7000000000000001,
                        "bin_end": 0.8,
                        "count": 0
                      },
                      {
                        "bin_start": 0.8,
                        "bin_end": 0.9,
                        "count": 0
                      },
                      {
                        "bin_start": 0.9,
                        "bin_end": 1,
                        "count": 0
                      }
                    ]
                  }
                },
                {
                  "name": "Start Page",
                  "dtype": "object",
                  "stats": {
                    "unique_count": 5,
                    "nan_count": 0,
                    "categories": [
                      {
                        "name": "11289.0",
                        "count": 1
                      },
                      {
                        "name": "477.0",
                        "count": 1
                      },
                      {
                        "name": "3 others",
                        "count": 3
                      }
                    ]
                  }
                },
                {
                  "name": "End Page",
                  "dtype": "object",
                  "stats": {
                    "unique_count": 5,
                    "nan_count": 0,
                    "categories": [
                      {
                        "name": "11295",
                        "count": 1
                      },
                      {
                        "name": "487",
                        "count": 1
                      },
                      {
                        "name": "3 others",
                        "count": 3
                      }
                    ]
                  }
                },
                {
                  "name": "Article Number",
                  "dtype": "object",
                  "stats": {
                    "unique_count": 0,
                    "nan_count": 5,
                    "categories": [
                      {
                        "name": "Missing",
                        "count": 5
                      }
                    ]
                  }
                },
                {
                  "name": "DOI",
                  "dtype": "object",
                  "stats": {
                    "unique_count": 5,
                    "nan_count": 0,
                    "categories": [
                      {
                        "name": "10.1016/j.ceramint.2017.05.326",
                        "count": 1
                      },
                      {
                        "name": "10.1007/s13204-017-0580-0",
                        "count": 1
                      },
                      {
                        "name": "3 others",
                        "count": 3
                      }
                    ]
                  }
                },
                {
                  "name": "DOI Link",
                  "dtype": "float64",
                  "stats": {
                    "unique_count": 1,
                    "nan_count": 0,
                    "min": "0.0",
                    "max": "0.0",
                    "histogram": [
                      {
                        "bin_start": -0.5,
                        "bin_end": -0.4,
                        "count": 0
                      },
                      {
                        "bin_start": -0.4,
                        "bin_end": -0.3,
                        "count": 0
                      },
                      {
                        "bin_start": -0.3,
                        "bin_end": -0.19999999999999996,
                        "count": 0
                      },
                      {
                        "bin_start": -0.19999999999999996,
                        "bin_end": -0.09999999999999998,
                        "count": 0
                      },
                      {
                        "bin_start": -0.09999999999999998,
                        "bin_end": 0,
                        "count": 0
                      },
                      {
                        "bin_start": 0,
                        "bin_end": 0.10000000000000009,
                        "count": 5
                      },
                      {
                        "bin_start": 0.10000000000000009,
                        "bin_end": 0.20000000000000007,
                        "count": 0
                      },
                      {
                        "bin_start": 0.20000000000000007,
                        "bin_end": 0.30000000000000004,
                        "count": 0
                      },
                      {
                        "bin_start": 0.30000000000000004,
                        "bin_end": 0.4,
                        "count": 0
                      },
                      {
                        "bin_start": 0.4,
                        "bin_end": 0.5,
                        "count": 0
                      }
                    ]
                  }
                },
                {
                  "name": "Book DOI",
                  "dtype": "float64",
                  "stats": {
                    "unique_count": 0,
                    "nan_count": 5,
                    "min": null,
                    "max": null,
                    "histogram": [
                      {
                        "bin_start": 0,
                        "bin_end": 0.1,
                        "count": 0
                      },
                      {
                        "bin_start": 0.1,
                        "bin_end": 0.2,
                        "count": 0
                      },
                      {
                        "bin_start": 0.2,
                        "bin_end": 0.30000000000000004,
                        "count": 0
                      },
                      {
                        "bin_start": 0.30000000000000004,
                        "bin_end": 0.4,
                        "count": 0
                      },
                      {
                        "bin_start": 0.4,
                        "bin_end": 0.5,
                        "count": 0
                      },
                      {
                        "bin_start": 0.5,
                        "bin_end": 0.6000000000000001,
                        "count": 0
                      },
                      {
                        "bin_start": 0.6000000000000001,
                        "bin_end": 0.7000000000000001,
                        "count": 0
                      },
                      {
                        "bin_start": 0.7000000000000001,
                        "bin_end": 0.8,
                        "count": 0
                      },
                      {
                        "bin_start": 0.8,
                        "bin_end": 0.9,
                        "count": 0
                      },
                      {
                        "bin_start": 0.9,
                        "bin_end": 1,
                        "count": 0
                      }
                    ]
                  }
                },
                {
                  "name": "Early Access Date",
                  "dtype": "float64",
                  "stats": {
                    "unique_count": 0,
                    "nan_count": 5,
                    "min": null,
                    "max": null,
                    "histogram": [
                      {
                        "bin_start": 0,
                        "bin_end": 0.1,
                        "count": 0
                      },
                      {
                        "bin_start": 0.1,
                        "bin_end": 0.2,
                        "count": 0
                      },
                      {
                        "bin_start": 0.2,
                        "bin_end": 0.30000000000000004,
                        "count": 0
                      },
                      {
                        "bin_start": 0.30000000000000004,
                        "bin_end": 0.4,
                        "count": 0
                      },
                      {
                        "bin_start": 0.4,
                        "bin_end": 0.5,
                        "count": 0
                      },
                      {
                        "bin_start": 0.5,
                        "bin_end": 0.6000000000000001,
                        "count": 0
                      },
                      {
                        "bin_start": 0.6000000000000001,
                        "bin_end": 0.7000000000000001,
                        "count": 0
                      },
                      {
                        "bin_start": 0.7000000000000001,
                        "bin_end": 0.8,
                        "count": 0
                      },
                      {
                        "bin_start": 0.8,
                        "bin_end": 0.9,
                        "count": 0
                      },
                      {
                        "bin_start": 0.9,
                        "bin_end": 1,
                        "count": 0
                      }
                    ]
                  }
                },
                {
                  "name": "Number of Pages",
                  "dtype": "int64",
                  "stats": {
                    "unique_count": 5,
                    "nan_count": 0,
                    "min": "7",
                    "max": "16",
                    "histogram": [
                      {
                        "bin_start": 7,
                        "bin_end": 7.9,
                        "count": 1
                      },
                      {
                        "bin_start": 7.9,
                        "bin_end": 8.8,
                        "count": 0
                      },
                      {
                        "bin_start": 8.8,
                        "bin_end": 9.7,
                        "count": 1
                      },
                      {
                        "bin_start": 9.7,
                        "bin_end": 10.6,
                        "count": 1
                      },
                      {
                        "bin_start": 10.6,
                        "bin_end": 11.5,
                        "count": 1
                      },
                      {
                        "bin_start": 11.5,
                        "bin_end": 12.4,
                        "count": 0
                      },
                      {
                        "bin_start": 12.4,
                        "bin_end": 13.3,
                        "count": 0
                      },
                      {
                        "bin_start": 13.3,
                        "bin_end": 14.2,
                        "count": 0
                      },
                      {
                        "bin_start": 14.2,
                        "bin_end": 15.1,
                        "count": 0
                      },
                      {
                        "bin_start": 15.1,
                        "bin_end": 16,
                        "count": 1
                      }
                    ]
                  }
                },
                {
                  "name": "WoS Categories",
                  "dtype": "object",
                  "stats": {
                    "unique_count": 3,
                    "nan_count": 0,
                    "categories": [
                      {
                        "name": "Materials Science, Ceramics",
                        "count": 2
                      },
                      {
                        "name": "Materials Science, Multidisciplinary",
                        "count": 2
                      },
                      {
                        "name": "Nanoscience & Nanotechnology",
                        "count": 1
                      }
                    ]
                  }
                },
                {
                  "name": "Web of Science Index",
                  "dtype": "object",
                  "stats": {
                    "unique_count": 1,
                    "nan_count": 0,
                    "categories": [
                      {
                        "name": "Science Citation Index Expanded (SCI-EXPANDED)",
                        "count": 5
                      }
                    ]
                  }
                },
                {
                  "name": "Research Areas",
                  "dtype": "object",
                  "stats": {
                    "unique_count": 2,
                    "nan_count": 0,
                    "categories": [
                      {
                        "name": "Materials Science",
                        "count": 4
                      },
                      {
                        "name": "Science & Technology - Other Topics",
                        "count": 1
                      }
                    ]
                  }
                },
                {
                  "name": "IDS Number",
                  "dtype": "object",
                  "stats": {
                    "unique_count": 5,
                    "nan_count": 0,
                    "categories": [
                      {
                        "name": "FA0WT",
                        "count": 1
                      },
                      {
                        "name": "FQ7BO",
                        "count": 1
                      },
                      {
                        "name": "3 others",
                        "count": 3
                      }
                    ]
                  }
                },
                {
                  "name": "Pubmed Id",
                  "dtype": "float64",
                  "stats": {
                    "unique_count": 1,
                    "nan_count": 4,
                    "min": "32025049.0",
                    "max": "32025049.0",
                    "histogram": [
                      {
                        "bin_start": 32025048.5,
                        "bin_end": 32025048.6,
                        "count": 0
                      },
                      {
                        "bin_start": 32025048.6,
                        "bin_end": 32025048.7,
                        "count": 0
                      },
                      {
                        "bin_start": 32025048.7,
                        "bin_end": 32025048.8,
                        "count": 0
                      },
                      {
                        "bin_start": 32025048.8,
                        "bin_end": 32025048.9,
                        "count": 0
                      },
                      {
                        "bin_start": 32025048.9,
                        "bin_end": 32025049,
                        "count": 0
                      },
                      {
                        "bin_start": 32025049,
                        "bin_end": 32025049.1,
                        "count": 1
                      },
                      {
                        "bin_start": 32025049.1,
                        "bin_end": 32025049.2,
                        "count": 0
                      },
                      {
                        "bin_start": 32025049.2,
                        "bin_end": 32025049.3,
                        "count": 0
                      },
                      {
                        "bin_start": 32025049.3,
                        "bin_end": 32025049.4,
                        "count": 0
                      },
                      {
                        "bin_start": 32025049.4,
                        "bin_end": 32025049.5,
                        "count": 0
                      }
                    ]
                  }
                },
                {
                  "name": "Open Access Designations",
                  "dtype": "object",
                  "stats": {
                    "unique_count": 2,
                    "nan_count": 3,
                    "categories": [
                      {
                        "name": "hybrid",
                        "count": 1
                      },
                      {
                        "name": "hybrid, Green Published",
                        "count": 1
                      },
                      {
                        "name": "Missing",
                        "count": 3
                      }
                    ]
                  }
                },
                {
                  "name": "Highly Cited Status",
                  "dtype": "float64",
                  "stats": {
                    "unique_count": 0,
                    "nan_count": 5,
                    "min": null,
                    "max": null,
                    "histogram": [
                      {
                        "bin_start": 0,
                        "bin_end": 0.1,
                        "count": 0
                      },
                      {
                        "bin_start": 0.1,
                        "bin_end": 0.2,
                        "count": 0
                      },
                      {
                        "bin_start": 0.2,
                        "bin_end": 0.30000000000000004,
                        "count": 0
                      },
                      {
                        "bin_start": 0.30000000000000004,
                        "bin_end": 0.4,
                        "count": 0
                      },
                      {
                        "bin_start": 0.4,
                        "bin_end": 0.5,
                        "count": 0
                      },
                      {
                        "bin_start": 0.5,
                        "bin_end": 0.6000000000000001,
                        "count": 0
                      },
                      {
                        "bin_start": 0.6000000000000001,
                        "bin_end": 0.7000000000000001,
                        "count": 0
                      },
                      {
                        "bin_start": 0.7000000000000001,
                        "bin_end": 0.8,
                        "count": 0
                      },
                      {
                        "bin_start": 0.8,
                        "bin_end": 0.9,
                        "count": 0
                      },
                      {
                        "bin_start": 0.9,
                        "bin_end": 1,
                        "count": 0
                      }
                    ]
                  }
                },
                {
                  "name": "Hot Paper Status",
                  "dtype": "float64",
                  "stats": {
                    "unique_count": 0,
                    "nan_count": 5,
                    "min": null,
                    "max": null,
                    "histogram": [
                      {
                        "bin_start": 0,
                        "bin_end": 0.1,
                        "count": 0
                      },
                      {
                        "bin_start": 0.1,
                        "bin_end": 0.2,
                        "count": 0
                      },
                      {
                        "bin_start": 0.2,
                        "bin_end": 0.30000000000000004,
                        "count": 0
                      },
                      {
                        "bin_start": 0.30000000000000004,
                        "bin_end": 0.4,
                        "count": 0
                      },
                      {
                        "bin_start": 0.4,
                        "bin_end": 0.5,
                        "count": 0
                      },
                      {
                        "bin_start": 0.5,
                        "bin_end": 0.6000000000000001,
                        "count": 0
                      },
                      {
                        "bin_start": 0.6000000000000001,
                        "bin_end": 0.7000000000000001,
                        "count": 0
                      },
                      {
                        "bin_start": 0.7000000000000001,
                        "bin_end": 0.8,
                        "count": 0
                      },
                      {
                        "bin_start": 0.8,
                        "bin_end": 0.9,
                        "count": 0
                      },
                      {
                        "bin_start": 0.9,
                        "bin_end": 1,
                        "count": 0
                      }
                    ]
                  }
                },
                {
                  "name": "Date of Export",
                  "dtype": "object",
                  "stats": {
                    "unique_count": 1,
                    "nan_count": 0,
                    "categories": [
                      {
                        "name": "2025-04-23",
                        "count": 5
                      }
                    ]
                  }
                },
                {
                  "name": "UT (Unique WOS ID)",
                  "dtype": "object",
                  "stats": {
                    "unique_count": 5,
                    "nan_count": 0,
                    "categories": [
                      {
                        "name": "WOS:000405158100087",
                        "count": 1
                      },
                      {
                        "name": "WOS:000418518000014",
                        "count": 1
                      },
                      {
                        "name": "3 others",
                        "count": 3
                      }
                    ]
                  }
                },
                {
                  "name": "Web of Science Record",
                  "dtype": "int64",
                  "stats": {
                    "unique_count": 1,
                    "nan_count": 0,
                    "min": "0",
                    "max": "0",
                    "histogram": [
                      {
                        "bin_start": -0.5,
                        "bin_end": -0.4,
                        "count": 0
                      },
                      {
                        "bin_start": -0.4,
                        "bin_end": -0.3,
                        "count": 0
                      },
                      {
                        "bin_start": -0.3,
                        "bin_end": -0.19999999999999996,
                        "count": 0
                      },
                      {
                        "bin_start": -0.19999999999999996,
                        "bin_end": -0.09999999999999998,
                        "count": 0
                      },
                      {
                        "bin_start": -0.09999999999999998,
                        "bin_end": 0,
                        "count": 0
                      },
                      {
                        "bin_start": 0,
                        "bin_end": 0.10000000000000009,
                        "count": 5
                      },
                      {
                        "bin_start": 0.10000000000000009,
                        "bin_end": 0.20000000000000007,
                        "count": 0
                      },
                      {
                        "bin_start": 0.20000000000000007,
                        "bin_end": 0.30000000000000004,
                        "count": 0
                      },
                      {
                        "bin_start": 0.30000000000000004,
                        "bin_end": 0.4,
                        "count": 0
                      },
                      {
                        "bin_start": 0.4,
                        "bin_end": 0.5,
                        "count": 0
                      }
                    ]
                  }
                },
                {
                  "name": "is_oa",
                  "dtype": "object",
                  "stats": {
                    "unique_count": 2,
                    "nan_count": 0,
                    "categories": [
                      {
                        "name": "False",
                        "count": 3
                      },
                      {
                        "name": "True",
                        "count": 2
                      }
                    ]
                  }
                },
                {
                  "name": "oa_status",
                  "dtype": "object",
                  "stats": {
                    "unique_count": 2,
                    "nan_count": 0,
                    "categories": [
                      {
                        "name": "closed",
                        "count": 3
                      },
                      {
                        "name": "hybrid",
                        "count": 2
                      }
                    ]
                  }
                },
                {
                  "name": "_deepnote_index_column",
                  "dtype": "int64"
                }
              ],
              "rows": [
                {
                  "Publication Type": "J",
                  "Authors": "Hernández-Rodríguez, P; López-Honorato, E",
                  "Book Authors": "nan",
                  "Book Editors": "nan",
                  "Book Group Authors": "nan",
                  "Author Full Names": "Hernandez-Rodriguez, Pedro; Lopez-Honorato, Eddie",
                  "Book Author Full Names": "nan",
                  "Group Authors": "nan",
                  "Article Title": "Polymer derived SiC environmental barrier coatings with superwetting properties",
                  "Source Title": "CERAMICS INTERNATIONAL",
                  "Book Series Title": "nan",
                  "Book Series Subtitle": "nan",
                  "Language": "English",
                  "Document Type": "Article",
                  "Conference Title": "nan",
                  "Conference Date": "nan",
                  "Conference Location": "nan",
                  "Conference Sponsor": "nan",
                  "Conference Host": "nan",
                  "Author Keywords": "Polycarbosilane; Silicon carbide; Coating; Filler materials; Ceramic precursor; Hydrophobic surface",
                  "Keywords Plus": "SILICON-CARBIDE; CARBOTHERMAL REDUCTION; MECHANICAL-PROPERTIES; POLYCARBOSILANE; PYROLYSIS; CORROSION; SURFACES; FILMS; TEMPERATURE; FABRICATION",
                  "Abstract": "Surfaces with superwetting capabilities can be used for corrosion protection, self-cleaning and bio-fouling protection amongst other applications. In this work, we present a method to produce a SiC coating with an almost superhydrophobic behavior exhibiting water contact angles of 145 +/- 3 degrees. Ceramic coatings were produced by the pyrolysis of polycarbosilane as a preceramic precursor of SiC. Aluminum and carbon powders were used as active and passive fillers to compensate for the volume shrinkage of polycarbosilane during pyrolysis. The effects of particle size (Al particles ranging from 0.8 to 10 mu m) and concentration 10-30% wt.) C and Al of both fillers were studied to produce defect-free ceramic coatings. We have observed that the fillers used not only affected the microstructure but also the surface roughness. We show that the addition of carbon fillers can increase the water contact angle of the ceramic from 42 degrees up to 141 degrees. The combination of carbon and alu…",
                  "Addresses": "[Hernandez-Rodriguez, Pedro; Lopez-Honorato, Eddie] CINVESTAV, IPN, Ctr Invest & Estudios Avanzados, Unidad Saltillo, Ave Ind Met 1062, Ramos Arizpe 25900, Coahuila, Mexico",
                  "Affiliations": "Instituto Politecnico Nacional - Mexico; CINVESTAV - Centro de Investigacion y de Estudios Avanzados del Instituto Politecnico Nacional",
                  "Reprint Addresses": "López-Honorato, E (corresponding author), CINVESTAV, IPN, Ctr Invest & Estudios Avanzados, Unidad Saltillo, Ave Ind Met 1062, Ramos Arizpe 25900, Coahuila, Mexico.",
                  "Email Addresses": "eddie.lopez@cinvestav.edu.mx",
                  "Researcher Ids": "Honorato, Eddie/AAK-4311-2020",
                  "ORCIDs": "Lopez-Honorato, Eddie/0000-0001-7948-798X",
                  "Funding Orgs": "CONACYT-Mexico",
                  "Funding Name Preferred": "CONACYT-Mexico(Consejo Nacional de Ciencia y Tecnologia (CONACyT))",
                  "Funding Text": "The authors would like to acknowledge CONACYT-Mexico for a Ph.D. Grant awarded to PHR. Authors would also like to thank the National Laboratory of Graphene Materials for the measurements of surface roughness.",
                  "Cited References": "nan",
                  "Cited Reference Count": 31,
                  "Times Cited, WoS Core": 20,
                  "Times Cited, All Databases": 26,
                  "180 Day Usage Count": 1,
                  "Since 2013 Usage Count": 76,
                  "Publisher": "ELSEVIER SCI LTD",
                  "Publisher City": "OXFORD",
                  "Publisher Address": "THE BOULEVARD, LANGFORD LANE, KIDLINGTON, OXFORD OX5 1GB, OXON, ENGLAND",
                  "ISSN": "0272-8842",
                  "eISSN": "1873-3956",
                  "ISBN": "nan",
                  "Journal Abbreviation": "CERAM INT",
                  "Journal ISO Abbreviation": "Ceram. Int.",
                  "Publication Date": "OCT 1",
                  "Publication Year": 2017,
                  "Volume": 43,
                  "Issue": "14",
                  "Part Number": "nan",
                  "Supplement": "nan",
                  "Special Issue": "nan",
                  "Meeting Abstract": "nan",
                  "Start Page": "11289.0",
                  "End Page": "11295",
                  "Article Number": "nan",
                  "DOI": "10.1016/j.ceramint.2017.05.326",
                  "DOI Link": 0,
                  "Book DOI": "nan",
                  "Early Access Date": "nan",
                  "Number of Pages": 7,
                  "WoS Categories": "Materials Science, Ceramics",
                  "Web of Science Index": "Science Citation Index Expanded (SCI-EXPANDED)",
                  "Research Areas": "Materials Science",
                  "IDS Number": "FA0WT",
                  "Pubmed Id": "nan",
                  "Open Access Designations": "nan",
                  "Highly Cited Status": "nan",
                  "Hot Paper Status": "nan",
                  "Date of Export": "2025-04-23",
                  "UT (Unique WOS ID)": "WOS:000405158100087",
                  "Web of Science Record": 0,
                  "is_oa": "False",
                  "oa_status": "closed",
                  "_deepnote_index_column": 0
                },
                {
                  "Publication Type": "J",
                  "Authors": "Ismail, RA; Zaidan, SA; Kadhim, RM",
                  "Book Authors": "nan",
                  "Book Editors": "nan",
                  "Book Group Authors": "nan",
                  "Author Full Names": "Ismail, Raid A.; Zaidan, Shihab A.; Kadhim, Rafal M.",
                  "Book Author Full Names": "nan",
                  "Group Authors": "nan",
                  "Article Title": "Preparation and characterization of aluminum oxide nanoparticles by laser ablation in liquid as passivating and anti-reflection coating for silicon photodiodes",
                  "Source Title": "APPLIED NANOSCIENCE",
                  "Book Series Title": "nan",
                  "Book Series Subtitle": "nan",
                  "Language": "English",
                  "Document Type": "Article",
                  "Conference Title": "nan",
                  "Conference Date": "nan",
                  "Conference Location": "nan",
                  "Conference Sponsor": "nan",
                  "Conference Host": "nan",
                  "Author Keywords": "Al2O3; Nanoparticles; Laser ablation; Laser fluence; Ethanol; Silicon photodiode",
                  "Keywords Plus": "THIN-FILMS; OPTICAL-PROPERTIES; SOLAR-CELLS; GAMMA-AL2O3; SIZE",
                  "Abstract": "In this study, we have prepared aluminum oxide (Al2O3 nanoparticles) NPs with size ranging from 50 to 90 nm by laser ablation of aluminum target in ethanol. The effect of laser fluence on the structural, morphological and optical properties of Al2O3 was demonstrated and discussed. X-ray diffraction XRD results confirm that the synthesized Al2O3 NPs are crystalline in nature. The sample prepared at 3.5 J/cm(2)/pulse exhibits single phase of gamma-Al2O3, while the XRD patterns of the nanoparticles synthesized at 5.3 and 7.5 J/cm(2)/pulse show the co-existence of the alpha-Al2O3 and gamma-Al2O3 phases. Nanostructured Al2O3 films have been used as anti-reflecting coating and surface passivation layer to improve the photoresponse characteristics of silicon photodiode. The experimental data showed that the optical energy gap decreases from 5.3 to 5 eV as the laser fluence increases from 3.5 to 7.3 J/cm(2). The lowest optical reflectivity was found for silicon photodiode deposited with a sin…",
                  "Addresses": "[Ismail, Raid A.; Zaidan, Shihab A.; Kadhim, Rafal M.] Univ Technol Baghdad, Dept Appl Sci, Baghdad, Iraq",
                  "Affiliations": "University of Technology- Iraq",
                  "Reprint Addresses": "Ismail, RA (corresponding author), Univ Technol Baghdad, Dept Appl Sci, Baghdad, Iraq.",
                  "Email Addresses": "raidismail@yahoo.com",
                  "Researcher Ids": "A.ismail, Raid/AAB-3569-2021; Zaidan, Shihab/ABB-2085-2021",
                  "ORCIDs": "zaidan, shihab/0000-0002-1864-9719",
                  "Funding Orgs": "nan",
                  "Funding Name Preferred": "nan",
                  "Funding Text": "nan",
                  "Cited References": "nan",
                  "Cited Reference Count": 39,
                  "Times Cited, WoS Core": 60,
                  "Times Cited, All Databases": 61,
                  "180 Day Usage Count": 1,
                  "Since 2013 Usage Count": 17,
                  "Publisher": "SPRINGER HEIDELBERG",
                  "Publisher City": "HEIDELBERG",
                  "Publisher Address": "TIERGARTENSTRASSE 17, D-69121 HEIDELBERG, GERMANY",
                  "ISSN": "2190-5509",
                  "eISSN": "2190-5517",
                  "ISBN": "nan",
                  "Journal Abbreviation": "APPL NANOSCI",
                  "Journal ISO Abbreviation": "Appl. Nanosci.",
                  "Publication Date": "OCT",
                  "Publication Year": 2017,
                  "Volume": 7,
                  "Issue": "7",
                  "Part Number": "nan",
                  "Supplement": "nan",
                  "Special Issue": "nan",
                  "Meeting Abstract": "nan",
                  "Start Page": "477.0",
                  "End Page": "487",
                  "Article Number": "nan",
                  "DOI": "10.1007/s13204-017-0580-0",
                  "DOI Link": 0,
                  "Book DOI": "nan",
                  "Early Access Date": "nan",
                  "Number of Pages": 11,
                  "WoS Categories": "Nanoscience & Nanotechnology",
                  "Web of Science Index": "Science Citation Index Expanded (SCI-EXPANDED)",
                  "Research Areas": "Science & Technology - Other Topics",
                  "IDS Number": "FQ7BO",
                  "Pubmed Id": "nan",
                  "Open Access Designations": "hybrid",
                  "Highly Cited Status": "nan",
                  "Hot Paper Status": "nan",
                  "Date of Export": "2025-04-23",
                  "UT (Unique WOS ID)": "WOS:000418518000014",
                  "Web of Science Record": 0,
                  "is_oa": "True",
                  "oa_status": "hybrid",
                  "_deepnote_index_column": 1
                },
                {
                  "Publication Type": "J",
                  "Authors": "Jia, ZF; Li, HQ; Zhao, Y; Frazer, L; Qian, BS; Borguet, E; Ren, F; Dikin, DA",
                  "Book Authors": "nan",
                  "Book Editors": "nan",
                  "Book Group Authors": "nan",
                  "Author Full Names": "Jia, Zhengfeng; Li, Haoqi; Zhao, Yao; Frazer, Laszlo; Qian, Bosen; Borguet, Eric; Ren, Fei; Dikin, Dmitriy A.",
                  "Book Author Full Names": "nan",
                  "Group Authors": "nan",
                  "Article Title": "Electrical and mechanical properties of poly(dopamine)-modified copper/reduced graphene oxide composites",
                  "Source Title": "JOURNAL OF MATERIALS SCIENCE",
                  "Book Series Title": "nan",
                  "Book Series Subtitle": "nan",
                  "Language": "English",
                  "Document Type": "Article",
                  "Conference Title": "nan",
                  "Conference Date": "nan",
                  "Conference Location": "nan",
                  "Conference Sponsor": "nan",
                  "Conference Host": "nan",
                  "Author Keywords": "nan",
                  "Keywords Plus": "REDUCTION",
                  "Abstract": "Surface oxidation is frequently encountered in powder metallurgy of metals and alloys, and it leads to a reduction in their electrical conductivities. Therefore, it is highly desired to remove the naturally occurring oxide layer from the particles surface and to prevent its subsequent formation. A new approach was proposed in this study, where copper particles were mixed with graphene oxide (GO) sheets in an aqueous solution containing dopamine (DA) molecules. It was expected that polymerization of the DA molecules on the surface of the copper particle could promote both a reduction of surface oxide layer and the adhesion of GO sheets to the particles surface. The powder system was then washed, heattreated in inert atmosphere and compressed at room temperature to form compacts. Electron microscopy revealed nearly ideal dispersion of GO sheets within the copper matrix. X-ray photoelectron spectroscopy showed a shift from Cu2+ to Cu+ and metallic copper in the coated and heat-treated sa…",
                  "Addresses": "[Jia, Zhengfeng] Liaocheng Univ, Coll Mat Sci & Engn, Liaocheng 252059, Peoples R China; [Jia, Zhengfeng; Li, Haoqi; Zhao, Yao; Qian, Bosen; Ren, Fei; Dikin, Dmitriy A.] Temple Univ, Dept Mech Engn, Philadelphia, PA 19122 USA; [Jia, Zhengfeng] Chinese Acad Sci, Lanzhou Inst Chem Phys, State Key Lab Solid Lubricat, Lanzhou 73000, Peoples R China; [Frazer, Laszlo; Borguet, Eric] Temple Univ, Dept Chem, Philadelphia, PA 19122 USA",
                  "Affiliations": "Liaocheng University; Pennsylvania Commonwealth System of Higher Education (PCSHE); Temple University; Chinese Academy of Sciences; Lanzhou Institute of Chemical Physics, CAS; Pennsylvania Commonwealth System of Higher Education (PCSHE); Temple University",
                  "Reprint Addresses": "Ren, F; Dikin, DA (corresponding author), Temple Univ, Dept Mech Engn, Philadelphia, PA 19122 USA.",
                  "Email Addresses": "renfei@temple.edu; ddikin@temple.edu",
                  "Researcher Ids": "jia, zhengfeng/V-4643-2019; Zhao, Yao/GLT-2848-2022; Dikin, Dmitriy/B-4649-2014; Borguet, Eric/N-6056-2018; Ren, Fei/J-8120-2017",
                  "ORCIDs": "Zhao, Yao/0000-0001-8997-9670; Dikin, Dmitriy/0000-0001-8100-4502; Qian, Bosen/0000-0002-7366-7194; Jia, Zhengfeng/0000-0002-9109-9776; Frazer, Laszlo/0000-0003-3574-8003; Li, Haoqi/0000-0002-9943-329X; Borguet, Eric/0000-0003-0593-952X; Ren, Fei/0000-0002-8868-4536",
                  "Funding Orgs": "Project of Shandong Province Higher Educational Science and Technology Program of China [J15LA60]; Open Project of State Key Laboratory of Solid Lubrication, Lanzhou Institute of Chemical Physics, China [LSL-1504]; Temple University faculty startup fund; Office of Naval Research [N0014-12-1-0777]; College of Engineering; US Department of Energy, Office of Science, Basic Energy Sciences [DE-SC0012575]",
                  "Funding Name Preferred": "Project of Shandong Province Higher Educational Science and Technology Program of China; Open Project of State Key Laboratory of Solid Lubrication, Lanzhou Institute of Chemical Physics, China; Temple University faculty startup fund; Office of Naval Research(United States Department of DefenseUnited States NavyOffice of Naval Research); College of Engineering; US Department of Energy, Office of Science, Basic Energy Sciences(United States Department of Energy (DOE))",
                  "Funding Text": "ZFJ thanks the support of Project of Shandong Province Higher Educational Science and Technology Program of China (No. J15LA60) and Open Project of State Key Laboratory of Solid Lubrication, Lanzhou Institute of Chemical Physics, China (LSL-1504). FR would like to acknowledge financial support from the Temple University faculty startup fund. The SEM imaging was performed in the CoE-NIC facility at Temple University, which is based on DoD DURIP Award N0014-12-1-0777 from the Office of Naval Research and is sponsored by the College of Engineering. EB and LF acknowledge support as part of the Center for the Computational Design of Functional Layered Materials, an Energy Frontier Research Center funded by the US Department of Energy, Office of Science, Basic Energy Sciences under Award#DE-SC0012575.",
                  "Cited References": "nan",
                  "Cited Reference Count": 26,
                  "Times Cited, WoS Core": 53,
                  "Times Cited, All Databases": 56,
                  "180 Day Usage Count": 1,
                  "Since 2013 Usage Count": 134,
                  "Publisher": "SPRINGER",
                  "Publisher City": "NEW YORK",
                  "Publisher Address": "233 SPRING ST, NEW YORK, NY 10013 USA",
                  "ISSN": "0022-2461",
                  "eISSN": "1573-4803",
                  "ISBN": "nan",
                  "Journal Abbreviation": "J MATER SCI",
                  "Journal ISO Abbreviation": "J. Mater. Sci.",
                  "Publication Date": "OCT",
                  "Publication Year": 2017,
                  "Volume": 52,
                  "Issue": "19",
                  "Part Number": "nan",
                  "Supplement": "nan",
                  "Special Issue": "nan",
                  "Meeting Abstract": "nan",
                  "Start Page": "11620.0",
                  "End Page": "11629",
                  "Article Number": "nan",
                  "DOI": "10.1007/s10853-017-1307-z",
                  "DOI Link": 0,
                  "Book DOI": "nan",
                  "Early Access Date": "nan",
                  "Number of Pages": 10,
                  "WoS Categories": "Materials Science, Multidisciplinary",
                  "Web of Science Index": "Science Citation Index Expanded (SCI-EXPANDED)",
                  "Research Areas": "Materials Science",
                  "IDS Number": "FA2XY",
                  "Pubmed Id": "nan",
                  "Open Access Designations": "nan",
                  "Highly Cited Status": "nan",
                  "Hot Paper Status": "nan",
                  "Date of Export": "2025-04-23",
                  "UT (Unique WOS ID)": "WOS:000405306300041",
                  "Web of Science Record": 0,
                  "is_oa": "False",
                  "oa_status": "closed",
                  "_deepnote_index_column": 2
                },
                {
                  "Publication Type": "J",
                  "Authors": "Kalantari, E; Naghib, SM; Naimi-Jamal, MR; Mozafari, M",
                  "Book Authors": "nan",
                  "Book Editors": "nan",
                  "Book Group Authors": "nan",
                  "Author Full Names": "Kalantari, Erfan; Naghib, Seyed Morteza; Naimi-Jamal, M. Reza; Mozafari, Masoud",
                  "Book Author Full Names": "nan",
                  "Group Authors": "nan",
                  "Article Title": "Green solvent-based sol-gel synthesis of monticellite nanoparticles: a rapid and efficient approach",
                  "Source Title": "JOURNAL OF SOL-GEL SCIENCE AND TECHNOLOGY",
                  "Book Series Title": "nan",
                  "Book Series Subtitle": "nan",
                  "Language": "English",
                  "Document Type": "Article",
                  "Conference Title": "nan",
                  "Conference Date": "nan",
                  "Conference Location": "nan",
                  "Conference Sponsor": "nan",
                  "Conference Host": "nan",
                  "Author Keywords": "Monticellite nanoparticles; Sol-gel method; Ethanol; Chloride ions; Crystal structure",
                  "Keywords Plus": "BIOMEDICAL APPLICATIONS; POROUS CERAMICS; MAGNESIUM; GLASS; NANOCRYSTALS; HYDROXYAPATITE; AKERMANITE; ABILITY; SALTS; ZINC",
                  "Abstract": "In this research, high-pure monticellite ceramic (CaMgSiO4) nanoparticles were synthesized via a novel sol-gel method using ethanol and chloride ions for the acceleration of polycondensation process. The gel obtained from metal alkoxide and metal salts precursors dried at 100A degrees C; then, the dried-gel calcined at different temperatures to monitor the structural development of the final samples. The effect of various heat-treatment temperatures on the x-ray diffraction patterns, followed by the calculations from scherrer's equation, showed that the grain size of the synthesized samples at 1200A degrees C was around 28 nm. Based on dynamic light scattering spectroscopy, the size of most of the particles was similar to 85 nm. Williamson-Hall formula was also used to calculate the lattice strain of the samples. According to the results, by changing the heat-treatment temperature, lattice strain/stress, lattice parameters and grain size have meaningfully changed. The proposed synthes…",
                  "Addresses": "[Kalantari, Erfan; Naghib, Seyed Morteza] Iran Univ Sci & Technol, Sch New Technol, Nanotechnol Dept, Tehran, Iran; [Kalantari, Erfan; Naimi-Jamal, M. Reza] Iran Univ Sci & Technol, Dept Chem, Res Lab Green Organ Synth & Polymers, Tehran, Iran; [Mozafari, Masoud] Mat & Energy Res Ctr, Nanotechnol & Adv Mat Dept, Bioengn Res Grp, Tehran, Iran",
                  "Affiliations": "Iran University Science & Technology; Iran University Science & Technology; Materials & Energy Research Center (MERC)",
                  "Reprint Addresses": "Kalantari, E; Naghib, SM (corresponding author), Iran Univ Sci & Technol, Sch New Technol, Nanotechnol Dept, Tehran, Iran.;Kalantari, E (corresponding author), Iran Univ Sci & Technol, Dept Chem, Res Lab Green Organ Synth & Polymers, Tehran, Iran.",
                  "Email Addresses": "kalantari.erfan@yahoo.com; naghib@iust.ac.ir",
                  "Researcher Ids": "Naghib, Seyed/S-8817-2018; Kalantari, Erfan/N-7437-2018; Naimi-Jamal, Mohammad Reza/C-2914-2009; Mozafari, Masoud/I-3061-2013",
                  "ORCIDs": "Kalantari, Erfan/0000-0001-8553-8405; Naimi-Jamal, Mohammad Reza/0000-0002-8305-7234; Mozafari, Masoud/0000-0002-0232-352X; Naghib, Seyed Morteza/0000-0003-4612-030X",
                  "Funding Orgs": "Iran University of Science and Technology (Department of Nanotechnology and Chemistry)",
                  "Funding Name Preferred": "Iran University of Science and Technology (Department of Nanotechnology and Chemistry)",
                  "Funding Text": "This research was supported by Iran University of Science and Technology (Department of Nanotechnology and Chemistry). The authors would like to gratefully acknowledge Mr. Milad Khalili from Iran University of Science and Technology (IUST) for his contribution to this research.",
                  "Cited References": "nan",
                  "Cited Reference Count": 35,
                  "Times Cited, WoS Core": 27,
                  "Times Cited, All Databases": 27,
                  "180 Day Usage Count": 0,
                  "Since 2013 Usage Count": 15,
                  "Publisher": "SPRINGER",
                  "Publisher City": "DORDRECHT",
                  "Publisher Address": "VAN GODEWIJCKSTRAAT 30, 3311 GZ DORDRECHT, NETHERLANDS",
                  "ISSN": "0928-0707",
                  "eISSN": "1573-4846",
                  "ISBN": "nan",
                  "Journal Abbreviation": "J SOL-GEL SCI TECHN",
                  "Journal ISO Abbreviation": "J. Sol-Gel Sci. Technol.",
                  "Publication Date": "OCT",
                  "Publication Year": 2017,
                  "Volume": 84,
                  "Issue": "1",
                  "Part Number": "nan",
                  "Supplement": "nan",
                  "Special Issue": "nan",
                  "Meeting Abstract": "nan",
                  "Start Page": "87.0",
                  "End Page": "95",
                  "Article Number": "nan",
                  "DOI": "10.1007/s10971-017-4461-5",
                  "DOI Link": 0,
                  "Book DOI": "nan",
                  "Early Access Date": "nan",
                  "Number of Pages": 9,
                  "WoS Categories": "Materials Science, Ceramics",
                  "Web of Science Index": "Science Citation Index Expanded (SCI-EXPANDED)",
                  "Research Areas": "Materials Science",
                  "IDS Number": "FH7CZ",
                  "Pubmed Id": "nan",
                  "Open Access Designations": "nan",
                  "Highly Cited Status": "nan",
                  "Hot Paper Status": "nan",
                  "Date of Export": "2025-04-23",
                  "UT (Unique WOS ID)": "WOS:000411341300011",
                  "Web of Science Record": 0,
                  "is_oa": "False",
                  "oa_status": "closed",
                  "_deepnote_index_column": 3
                },
                {
                  "Publication Type": "J",
                  "Authors": "Karunaratne, MSA; Jepson, MAE; Simms, NJ; Nicholls, JR; Thomson, RC",
                  "Book Authors": "nan",
                  "Book Editors": "nan",
                  "Book Group Authors": "nan",
                  "Author Full Names": "Karunaratne, M. S. A.; Jepson, M. A. E.; Simms, N. J.; Nicholls, J. R.; Thomson, R. C.",
                  "Book Author Full Names": "nan",
                  "Group Authors": "nan",
                  "Article Title": "Modelling of microstructural evolution in multi-layered overlay coatings",
                  "Source Title": "JOURNAL OF MATERIALS SCIENCE",
                  "Book Series Title": "nan",
                  "Book Series Subtitle": "nan",
                  "Language": "English",
                  "Document Type": "Article",
                  "Conference Title": "nan",
                  "Conference Date": "nan",
                  "Conference Location": "nan",
                  "Conference Sponsor": "nan",
                  "Conference Host": "nan",
                  "Author Keywords": "nan",
                  "Keywords Plus": "NI; DIFFUSION; INTERDIFFUSION; NICKEL; PHASE; PERFORMANCE; CHROMIUM; RE; TI",
                  "Abstract": "Functionally graded, multi-layered coatings are designed to provide corrosion protection over a range of operating conditions typically found in industrial gas turbines. A model incorporating diffusion, equilibrium thermodynamics and oxidation has been developed to simulate the microstructural evolution within a multi-layered coating system. The phase and concentration profiles predicted by the model have been compared with an experimental multi-layered system containing an Al-rich outer layer, a Cr-enriched middle layer and an MCrAlY-type inner layer deposited on a superalloy substrate. The concentration distribution and many microstructural features observed experimentally can be predicted by the model. The model is expected to be useful for assessing the microstructural evolution of multilayer coated systems which can be potentially used on industrial gas turbine aerofoils.",
                  "Addresses": "[Karunaratne, M. S. A.; Jepson, M. A. E.; Thomson, R. C.] Loughborough Univ, Dept Mat, Loughborough LE11 3TU, Leics, England; [Simms, N. J.; Nicholls, J. R.] Cranfield Univ, Power Engn Ctr, Cranfield MK43 0AL, Beds, England",
                  "Affiliations": "Loughborough University; Cranfield University",
                  "Reprint Addresses": "Karunaratne, MSA (corresponding author), Loughborough Univ, Dept Mat, Loughborough LE11 3TU, Leics, England.",
                  "Email Addresses": "M.Karunaratne@lboro.ac.uk",
                  "Researcher Ids": "Jepson, Mark/G-5252-2013; Simms, Nigel/P-9637-2015; Thomson, Rachel/B-4217-2011; Karunaratne, Mudith/J-2280-2017",
                  "ORCIDs": "Karunaratne, Mudith/0000-0003-4646-5316; Nicholls, John/0000-0002-0295-2609",
                  "Funding Orgs": "Supergen initiative [GR/S86334/01, EP/F029748]; EPSRC [EP/F029748/1] Funding Source: UKRI",
                  "Funding Name Preferred": "Supergen initiative; EPSRC(UK Research & Innovation (UKRI)Engineering & Physical Sciences Research Council (EPSRC))",
                  "Funding Text": "We would like to acknowledge the support of the Energy Programme, which is a Research Councils UK cross council initiative led by EPSRC and contributed to by ESRC, NERC, BBSRC and STFC, and specifically the Supergen initiative (Grants GR/S86334/01 and EP/F029748) and the following companies: Alstom Power Ltd., Corus, E.ON, National Physical Laboratory, QinetiQ, Rolls-Royce plc, RWE npower, Sermatech Ltd. and Siemens Industrial Turbomachinery Ltd. for their valuable contributions to the project. The authors would also like to thank the Loughborough Materials Characterisation Centre for provision of the facilities used for the experimental analysis of the samples.",
                  "Cited References": "nan",
                  "Cited Reference Count": 33,
                  "Times Cited, WoS Core": 3,
                  "Times Cited, All Databases": 3,
                  "180 Day Usage Count": 0,
                  "Since 2013 Usage Count": 18,
                  "Publisher": "SPRINGER",
                  "Publisher City": "NEW YORK",
                  "Publisher Address": "ONE NEW YORK PLAZA, SUITE 4600, NEW YORK, NY, UNITED STATES",
                  "ISSN": "0022-2461",
                  "eISSN": "1573-4803",
                  "ISBN": "nan",
                  "Journal Abbreviation": "J MATER SCI",
                  "Journal ISO Abbreviation": "J. Mater. Sci.",
                  "Publication Date": "OCT",
                  "Publication Year": 2017,
                  "Volume": 52,
                  "Issue": "20",
                  "Part Number": "nan",
                  "Supplement": "nan",
                  "Special Issue": "nan",
                  "Meeting Abstract": "nan",
                  "Start Page": "12279.0",
                  "End Page": "12294",
                  "Article Number": "nan",
                  "DOI": "10.1007/s10853-017-1365-2",
                  "DOI Link": 0,
                  "Book DOI": "nan",
                  "Early Access Date": "nan",
                  "Number of Pages": 16,
                  "WoS Categories": "Materials Science, Multidisciplinary",
                  "Web of Science Index": "Science Citation Index Expanded (SCI-EXPANDED)",
                  "Research Areas": "Materials Science",
                  "IDS Number": "FB8LX",
                  "Pubmed Id": 32025049,
                  "Open Access Designations": "hybrid, Green Published",
                  "Highly Cited Status": "nan",
                  "Hot Paper Status": "nan",
                  "Date of Export": "2025-04-23",
                  "UT (Unique WOS ID)": "WOS:000406391600038",
                  "Web of Science Record": 0,
                  "is_oa": "True",
                  "oa_status": "hybrid",
                  "_deepnote_index_column": 4
                }
              ],
              "type": "dataframe"
            },
            "text/plain": "  Publication Type                                            Authors  \\\n0                J          Hernández-Rodríguez, P; López-Honorato, E   \n1                J                 Ismail, RA; Zaidan, SA; Kadhim, RM   \n2                J  Jia, ZF; Li, HQ; Zhao, Y; Frazer, L; Qian, BS;...   \n3                J  Kalantari, E; Naghib, SM; Naimi-Jamal, MR; Moz...   \n4                J  Karunaratne, MSA; Jepson, MAE; Simms, NJ; Nich...   \n\n   Book Authors  Book Editors  Book Group Authors  \\\n0           NaN           NaN                 NaN   \n1           NaN           NaN                 NaN   \n2           NaN           NaN                 NaN   \n3           NaN           NaN                 NaN   \n4           NaN           NaN                 NaN   \n\n                                   Author Full Names  Book Author Full Names  \\\n0  Hernandez-Rodriguez, Pedro; Lopez-Honorato, Eddie                     NaN   \n1  Ismail, Raid A.; Zaidan, Shihab A.; Kadhim, Ra...                     NaN   \n2  Jia, Zhengfeng; Li, Haoqi; Zhao, Yao; Frazer, ...                     NaN   \n3  Kalantari, Erfan; Naghib, Seyed Morteza; Naimi...                     NaN   \n4  Karunaratne, M. S. A.; Jepson, M. A. E.; Simms...                     NaN   \n\n  Group Authors                                      Article Title  \\\n0           NaN  Polymer derived SiC environmental barrier coat...   \n1           NaN  Preparation and characterization of aluminum o...   \n2           NaN  Electrical and mechanical properties of poly(d...   \n3           NaN  Green solvent-based sol-gel synthesis of monti...   \n4           NaN  Modelling of microstructural evolution in mult...   \n\n                                Source Title  ...  IDS Number   Pubmed Id  \\\n0                     CERAMICS INTERNATIONAL  ...       FA0WT         NaN   \n1                        APPLIED NANOSCIENCE  ...       FQ7BO         NaN   \n2               JOURNAL OF MATERIALS SCIENCE  ...       FA2XY         NaN   \n3  JOURNAL OF SOL-GEL SCIENCE AND TECHNOLOGY  ...       FH7CZ         NaN   \n4               JOURNAL OF MATERIALS SCIENCE  ...       FB8LX  32025049.0   \n\n  Open Access Designations Highly Cited Status  Hot Paper Status  \\\n0                      NaN                 NaN               NaN   \n1                   hybrid                 NaN               NaN   \n2                      NaN                 NaN               NaN   \n3                      NaN                 NaN               NaN   \n4  hybrid, Green Published                 NaN               NaN   \n\n   Date of Export   UT (Unique WOS ID)  Web of Science Record  is_oa oa_status  \n0      2025-04-23  WOS:000405158100087                      0  False    closed  \n1      2025-04-23  WOS:000418518000014                      0   True    hybrid  \n2      2025-04-23  WOS:000405306300041                      0  False    closed  \n3      2025-04-23  WOS:000411341300011                      0  False    closed  \n4      2025-04-23  WOS:000406391600038                      0   True    hybrid  \n\n[5 rows x 74 columns]",
            "text/html": "<div>\n<style scoped>\n    .dataframe tbody tr th:only-of-type {\n        vertical-align: middle;\n    }\n\n    .dataframe tbody tr th {\n        vertical-align: top;\n    }\n\n    .dataframe thead th {\n        text-align: right;\n    }\n</style>\n<table border=\"1\" class=\"dataframe\">\n  <thead>\n    <tr style=\"text-align: right;\">\n      <th></th>\n      <th>Publication Type</th>\n      <th>Authors</th>\n      <th>Book Authors</th>\n      <th>Book Editors</th>\n      <th>Book Group Authors</th>\n      <th>Author Full Names</th>\n      <th>Book Author Full Names</th>\n      <th>Group Authors</th>\n      <th>Article Title</th>\n      <th>Source Title</th>\n      <th>...</th>\n      <th>IDS Number</th>\n      <th>Pubmed Id</th>\n      <th>Open Access Designations</th>\n      <th>Highly Cited Status</th>\n      <th>Hot Paper Status</th>\n      <th>Date of Export</th>\n      <th>UT (Unique WOS ID)</th>\n      <th>Web of Science Record</th>\n      <th>is_oa</th>\n      <th>oa_status</th>\n    </tr>\n  </thead>\n  <tbody>\n    <tr>\n      <th>0</th>\n      <td>J</td>\n      <td>Hernández-Rodríguez, P; López-Honorato, E</td>\n      <td>NaN</td>\n      <td>NaN</td>\n      <td>NaN</td>\n      <td>Hernandez-Rodriguez, Pedro; Lopez-Honorato, Eddie</td>\n      <td>NaN</td>\n      <td>NaN</td>\n      <td>Polymer derived SiC environmental barrier coat...</td>\n      <td>CERAMICS INTERNATIONAL</td>\n      <td>...</td>\n      <td>FA0WT</td>\n      <td>NaN</td>\n      <td>NaN</td>\n      <td>NaN</td>\n      <td>NaN</td>\n      <td>2025-04-23</td>\n      <td>WOS:000405158100087</td>\n      <td>0</td>\n      <td>False</td>\n      <td>closed</td>\n    </tr>\n    <tr>\n      <th>1</th>\n      <td>J</td>\n      <td>Ismail, RA; Zaidan, SA; Kadhim, RM</td>\n      <td>NaN</td>\n      <td>NaN</td>\n      <td>NaN</td>\n      <td>Ismail, Raid A.; Zaidan, Shihab A.; Kadhim, Ra...</td>\n      <td>NaN</td>\n      <td>NaN</td>\n      <td>Preparation and characterization of aluminum o...</td>\n      <td>APPLIED NANOSCIENCE</td>\n      <td>...</td>\n      <td>FQ7BO</td>\n      <td>NaN</td>\n      <td>hybrid</td>\n      <td>NaN</td>\n      <td>NaN</td>\n      <td>2025-04-23</td>\n      <td>WOS:000418518000014</td>\n      <td>0</td>\n      <td>True</td>\n      <td>hybrid</td>\n    </tr>\n    <tr>\n      <th>2</th>\n      <td>J</td>\n      <td>Jia, ZF; Li, HQ; Zhao, Y; Frazer, L; Qian, BS;...</td>\n      <td>NaN</td>\n      <td>NaN</td>\n      <td>NaN</td>\n      <td>Jia, Zhengfeng; Li, Haoqi; Zhao, Yao; Frazer, ...</td>\n      <td>NaN</td>\n      <td>NaN</td>\n      <td>Electrical and mechanical properties of poly(d...</td>\n      <td>JOURNAL OF MATERIALS SCIENCE</td>\n      <td>...</td>\n      <td>FA2XY</td>\n      <td>NaN</td>\n      <td>NaN</td>\n      <td>NaN</td>\n      <td>NaN</td>\n      <td>2025-04-23</td>\n      <td>WOS:000405306300041</td>\n      <td>0</td>\n      <td>False</td>\n      <td>closed</td>\n    </tr>\n    <tr>\n      <th>3</th>\n      <td>J</td>\n      <td>Kalantari, E; Naghib, SM; Naimi-Jamal, MR; Moz...</td>\n      <td>NaN</td>\n      <td>NaN</td>\n      <td>NaN</td>\n      <td>Kalantari, Erfan; Naghib, Seyed Morteza; Naimi...</td>\n      <td>NaN</td>\n      <td>NaN</td>\n      <td>Green solvent-based sol-gel synthesis of monti...</td>\n      <td>JOURNAL OF SOL-GEL SCIENCE AND TECHNOLOGY</td>\n      <td>...</td>\n      <td>FH7CZ</td>\n      <td>NaN</td>\n      <td>NaN</td>\n      <td>NaN</td>\n      <td>NaN</td>\n      <td>2025-04-23</td>\n      <td>WOS:000411341300011</td>\n      <td>0</td>\n      <td>False</td>\n      <td>closed</td>\n    </tr>\n    <tr>\n      <th>4</th>\n      <td>J</td>\n      <td>Karunaratne, MSA; Jepson, MAE; Simms, NJ; Nich...</td>\n      <td>NaN</td>\n      <td>NaN</td>\n      <td>NaN</td>\n      <td>Karunaratne, M. S. A.; Jepson, M. A. E.; Simms...</td>\n      <td>NaN</td>\n      <td>NaN</td>\n      <td>Modelling of microstructural evolution in mult...</td>\n      <td>JOURNAL OF MATERIALS SCIENCE</td>\n      <td>...</td>\n      <td>FB8LX</td>\n      <td>32025049.0</td>\n      <td>hybrid, Green Published</td>\n      <td>NaN</td>\n      <td>NaN</td>\n      <td>2025-04-23</td>\n      <td>WOS:000406391600038</td>\n      <td>0</td>\n      <td>True</td>\n      <td>hybrid</td>\n    </tr>\n  </tbody>\n</table>\n<p>5 rows × 74 columns</p>\n</div>"
          },
          "metadata": {}
        }
      ],
      "outputs_reference": null,
      "content_dependencies": null
    },
    {
      "cell_type": "code",
      "metadata": {
        "source_hash": "4f48889b",
        "execution_start": 1747675777628,
        "execution_millis": 14,
        "execution_context_id": "9cceadf7-7cc9-4659-90ce-317e61ff68b9",
        "deepnote_app_block_order": 17,
        "deepnote_app_block_visible": true,
        "deepnote_app_block_group_id": null,
        "deepnote_app_is_code_hidden": true,
        "deepnote_app_is_output_hidden": false,
        "cell_id": "740f886e262f4413a37ea58e4cf4c0a4",
        "deepnote_cell_type": "code"
      },
      "source": "agru = res.groupby([\"oa_status\"]).size()\nagru.plot.bar()",
      "block_group": "8a618bcfd1894c8f84b2d0ed24e49c38",
      "execution_count": 83,
      "outputs": [
        {
          "output_type": "execute_result",
          "execution_count": 83,
          "data": {
            "text/plain": "<Axes: xlabel='oa_status'>"
          },
          "metadata": {}
        },
        {
          "data": {
            "text/plain": "<Figure size 640x480 with 1 Axes>",
            "image/png": "[encoded data removed]"
          },
          "metadata": {
            "image/png": {
              "width": 560,
              "height": 466
            }
          },
          "output_type": "display_data"
        }
      ],
      "outputs_reference": null,
      "content_dependencies": null
    },
    {
      "cell_type": "markdown",
      "source": "<a style='text-decoration:none;line-height:16px;display:flex;color:#5B5B62;padding:10px;justify-content:end;' href='https://deepnote.com?utm_source=created-in-deepnote-cell&projectId=d35fdc8b-8543-45dc-ae25-3ba609dd01b9' target=\"_blank\">\n<img alt='Created in deepnote.com' style='display:inline;max-height:16px;margin:0px;margin-right:7.5px;' src='data:image/svg+xml;base64,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' > </img>\nCreated in <span style='font-weight:600;margin-left:4px;'>Deepnote</span></a>",
      "metadata": {
        "created_in_deepnote_cell": true,
        "deepnote_cell_type": "markdown"
      }
    }
  ],
  "nbformat": 4,
  "nbformat_minor": 0,
  "metadata": {
    "deepnote_persisted_session": {
      "createdAt": "2025-05-19T19:57:29.622Z"
    },
    "deepnote_notebook_id": "6d802b38eb894bfaaf46e0614801507b"
  }
}