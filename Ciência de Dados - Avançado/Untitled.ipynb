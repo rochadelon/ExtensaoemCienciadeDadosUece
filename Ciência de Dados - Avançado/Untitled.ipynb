{
 "cells": [
  {
   "cell_type": "markdown",
   "id": "add351b0-4b5b-4e4d-b1b0-4ddabb4cbe72",
   "metadata": {},
   "source": [
    "## Oficina 2: Sistema de classificação de imagens"
   ]
  },
  {
   "cell_type": "markdown",
   "id": "940830ab-355d-4602-998e-e7a82c1f8fc3",
   "metadata": {},
   "source": [
    "Você foi contratado para criar um sistema que realiza a classificação de imagens de frutas para uma empresa de e-commerce. O objetivo é que, ao enviar uma imagem, o sistema identifique se a fruta é uma maçã, uma banana ou uma laranja. Sabendo que você possui um banco de imagens já categorizado, explique quais tipos de redes neurais você utilizaria para resolver esse problema, como seria o processo de implementação utilizando Python e quais etapas principais precisam ser seguidas para treinar o modelo.\n",
    "Padrão de Resposta para a Atividade:\n",
    "Indicação clara do tipo de rede neural usada e justificativa do porquê de ser a escolha mais adequada;\n",
    "Descrição do processo de pré-processamento das imagens;\n",
    "Apresentação do modelo de rede neural em Python, com uma breve explicação de cada camada;\n",
    "Compilação e treinamento do modelo, mencionando a função de perda e o otimizador usados;\n",
    "Processo de avaliação e validação do modelo;\n",
    "Conclusão explicando como o modelo resolverá o problema proposto."
   ]
  },
  {
   "cell_type": "code",
   "execution_count": null,
   "id": "cab7ba85-4f7d-4cec-ae5e-10744baf56fd",
   "metadata": {},
   "outputs": [],
   "source": []
  }
 ],
 "metadata": {
  "kernelspec": {
   "display_name": "Python 3 (ipykernel)",
   "language": "python",
   "name": "python3"
  },
  "language_info": {
   "codemirror_mode": {
    "name": "ipython",
    "version": 3
   },
   "file_extension": ".py",
   "mimetype": "text/x-python",
   "name": "python",
   "nbconvert_exporter": "python",
   "pygments_lexer": "ipython3",
   "version": "3.12.1"
  }
 },
 "nbformat": 4,
 "nbformat_minor": 5
}
