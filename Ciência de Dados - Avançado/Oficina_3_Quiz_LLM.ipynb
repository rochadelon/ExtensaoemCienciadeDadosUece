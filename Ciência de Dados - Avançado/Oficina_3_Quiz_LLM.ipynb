{
 "cells": [
  {
   "cell_type": "markdown",
   "metadata": {},
   "source": [
    "---\n",
    "- **Capacita Brasil - C-Jovem - Jan/2025**\n",
    "- **Uece - Ciência de Dados**\n",
    "- **Alan Delon Sousa Rocha**\n",
    "---"
   ]
  },
  {
   "cell_type": "markdown",
   "metadata": {},
   "source": [
    "#### Imagine que você é o líder de um grupo de alunos da escola que está organizando um festival. O festival será sobre temas diversos, como música, filmes, esportes e muitos outros. Para atrair mais pessoas ao evento, vocês querem criar uma campanha com perguntas e respostas rápidas, que sejam interessantes e divertidas, para os participantes do festival. Porém, vocês precisam de ajuda para criar essas perguntas e encontrar informações rápidas sobre temas variados.\n",
    "\n",
    "#### Você precisa gerar perguntas interessantes sobre diferentes temas para usar em um quiz interativo no festival. As perguntas devem ser simples, curiosas e podem cobrir temas variados como ciência, história, cultura pop, esportes e muito mais.\n",
    "\n",
    "#### Usando um LLM (Large Language Model), um tipo de programa de inteligência artificial, você deve gerar 10 perguntas e respostas interessantes sobre temas variados para o quiz do festival. O foco é perceber como a IA pode ser usada para facilitar o processo de criação de conteúdo e para entender como ela pode responder a perguntas sobre temas do mundo real.\n",
    "\n",
    "- **Definir temas:** Escolha três temas que vocês gostariam de abordar no quiz (ex.: música, história, esportes).\n",
    "\n",
    "- **Geração de perguntas:** Usando o ChatGPT, Gemini ou qualquer outra plataforma de inteligência artificial (IA) generativa, gere 3 perguntas para cada tema escolhido. O objetivo é que as perguntas sejam interessantes e fáceis de entender para o público que irá participar do festival.\n",
    "\n",
    "- **Verificar as respostas:** Após gerar as perguntas, peça que a ferramenta forneça as respostas para cada uma delas. Verifique se as respostas fazem sentido e estão corretas.\n",
    "\n",
    "- **Escolher as melhores perguntas:** Depois de gerar as perguntas e respostas, escolham as 10 melhores que serão usadas no quiz do festival e envie."
   ]
  },
  {
   "cell_type": "markdown",
   "metadata": {},
   "source": [
    "## **Temas: Música, cinema e tecnologia.**"
   ]
  },
  {
   "cell_type": "markdown",
   "metadata": {},
   "source": [
    "## **Prompt**"
   ]
  },
  {
   "cell_type": "markdown",
   "metadata": {},
   "source": [
    "Assuma o papel de um criador de perguntas para um quiz interativo, você deve criar 10 perguntas para cada das um dos temas: Música, cinema e tecnologia : , as perguntas devem ser simples, curiosas, interessantes e fáceis de entender, gere somente as perguntas."
   ]
  },
  {
   "cell_type": "markdown",
   "metadata": {},
   "source": [
    "## **Resposta Grok 3:**"
   ]
  },
  {
   "cell_type": "markdown",
   "metadata": {},
   "source": [
    "Aqui estão 10 perguntas para cada um dos temas solicitados: **Música**, **Cinema** e **Tecnologia**. As perguntas são simples, curiosas, interessantes e fáceis de entender, perfeitas para um quiz interativo.\n",
    "\n",
    "---\n",
    "\n",
    "### **Perguntas sobre Música**\n",
    "\n",
    "1. Quem é conhecido como o \"Rei do Pop\"?  \n",
    "2. Qual instrumento tem 88 teclas?  \n",
    "3. Quem compôs a música \"Bohemian Rhapsody\"?  \n",
    "4. Qual é o gênero musical originário da Jamaica?  \n",
    "5. Quem é a cantora com mais prêmios Grammy na história?  \n",
    "6. Qual é o nome do festival de música realizado anualmente em Indio, Califórnia?  \n",
    "7. Quem é conhecido como o \"Beatle mais quieto\"?  \n",
    "8. Qual é o nome do instrumento de cordas tocado com um arco?  \n",
    "9. Quem é a cantora brasileira conhecida como a \"Rainha do Rock\"?  \n",
    "10. Qual é o nome da música tema do filme \"Titanic\"?  \n",
    "\n",
    "---\n",
    "\n",
    "### **Perguntas sobre Cinema**\n",
    "\n",
    "1. Qual filme ganhou o Oscar de Melhor Filme em 1994?  \n",
    "2. Quem interpretou o papel de Darth Vader na trilogia original de Star Wars?  \n",
    "3. Qual é o nome do diretor de \"Pulp Fiction\"?  \n",
    "4. Quem é a atriz com mais indicações ao Oscar?  \n",
    "5. Qual é o nome do filme que conta a história de um navio que afunda após colidir com um iceberg?  \n",
    "6. Quem é conhecido como o \"Rei do Terror\" no cinema?  \n",
    "7. Qual é o nome do filme que retrata a vida de um boxeador chamado Rocky Balboa?  \n",
    "8. Quem interpretou o papel de Harry Potter na série de filmes?  \n",
    "9. Qual é o nome do filme que conta a história de um grupo de amigos que viajam no tempo em uma máquina do tempo?  \n",
    "10. Quem é a atriz que interpretou o papel de Katniss Everdeen na série \"Jogos Vorazes\"?  \n",
    "\n",
    "---\n",
    "\n",
    "### **Perguntas sobre Tecnologia**\n",
    "\n",
    "1. Quem é considerado o pai da computação?  \n",
    "2. Qual foi o primeiro site da internet?  \n",
    "3. Quem é o fundador da empresa Apple?  \n",
    "4. Qual é o nome do sistema operacional mais utilizado no mundo?  \n",
    "5. Quem inventou a World Wide Web?  \n",
    "6. Qual é o nome da empresa que criou o primeiro computador pessoal?  \n",
    "7. Quem é conhecido como o \"pai da internet\"?  \n",
    "8. Qual é o nome do primeiro computador eletrônico?  \n",
    "9. Quem é o fundador da empresa Microsoft?  \n",
    "10. Qual é o nome da tecnologia que permite a comunicação sem fio entre dispositivos?  \n",
    "\n",
    "---\n",
    "\n",
    "Essas perguntas foram criadas para serem diretas e envolventes, cobrindo fatos interessantes em cada tema. Elas são ideais para um quiz interativo e podem ser facilmente respondidas por participantes com diferentes níveis de conhecimento. Divirta-se com o quiz!"
   ]
  },
  {
   "cell_type": "markdown",
   "metadata": {},
   "source": [
    "### **Prompt:**"
   ]
  },
  {
   "cell_type": "markdown",
   "metadata": {},
   "source": [
    "Retorne as resposta somente das seguintes perguntas:\n",
    "- **Música**: 1, 5, 4, 8\n",
    "- **Cinema**: 1 ,3 ,5\n",
    "- **Tecnologia**: 1, 4, 3"
   ]
  },
  {
   "cell_type": "markdown",
   "metadata": {},
   "source": [
    "### **Reposta Grok 3**"
   ]
  },
  {
   "cell_type": "markdown",
   "metadata": {},
   "source": [
    "Aqui estão as respostas das perguntas especificadas, organizadas por categoria:\n",
    "\n",
    "#### Música\n",
    "1. Michael Jackson\n",
    "5. Beyoncé\n",
    "4. Reggae\n",
    "8. Violino\n",
    "\n",
    "#### Cinema\n",
    "1. Forrest Gump\n",
    "3. Quentin Tarantino\n",
    "5. Titanic\n",
    "\n",
    "### Tecnologia\n",
    "1. Alan Turing\n",
    "4. Windows\n",
    "3. Steve Jobs"
   ]
  }
 ],
 "metadata": {
  "kernelspec": {
   "display_name": "myenv",
   "language": "python",
   "name": "myenv"
  },
  "language_info": {
   "codemirror_mode": {
    "name": "ipython",
    "version": 3
   },
   "file_extension": ".py",
   "mimetype": "text/x-python",
   "name": "python",
   "nbconvert_exporter": "python",
   "pygments_lexer": "ipython3",
   "version": "3.12.3"
  }
 },
 "nbformat": 4,
 "nbformat_minor": 2
}
