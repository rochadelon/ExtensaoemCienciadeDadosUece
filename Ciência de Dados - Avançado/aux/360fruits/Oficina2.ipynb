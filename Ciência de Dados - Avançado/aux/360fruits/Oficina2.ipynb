{
 "cells": [
  {
   "cell_type": "markdown",
   "id": "940830ab-355d-4602-998e-e7a82c1f8fc3",
   "metadata": {},
   "source": [
    "Você foi contratado para criar um sistema que realiza a classificação de imagens de frutas para uma empresa de e-commerce. O objetivo é que, ao enviar uma imagem, o sistema identifique se a fruta é uma maçã, uma banana ou uma laranja. Sabendo que você possui um banco de imagens já categorizado, explique quais tipos de redes neurais você utilizaria para resolver esse problema, como seria o processo de implementação utilizando Python e quais etapas principais precisam ser seguidas para treinar o modelo.\n",
    "Padrão de Resposta para a Atividade:\n",
    "\n",
    "- Indicação clara do tipo de rede neural usada e justificativa do porquê de ser a escolha mais adequada;\n",
    "- Descrição do processo de pré-processamento das imagens;\n",
    "- Apresentação do modelo de rede neural em Python, com uma breve explicação de cada camada;\n",
    "- Compilação e treinamento do modelo, mencionando a função de perda e o otimizador usados;\n",
    "- Processo de avaliação e validação do modelo;\n",
    "- Conclusão explicando como o modelo resolverá o problema proposto."
   ]
  },
  {
   "cell_type": "markdown",
   "id": "add351b0-4b5b-4e4d-b1b0-4ddabb4cbe72",
   "metadata": {},
   "source": [
    "## Oficina 2: Sistema de classificação de imagens"
   ]
  },
  {
   "cell_type": "markdown",
   "id": "7bf85e0c",
   "metadata": {},
   "source": [
    "### 1. Introdução"
   ]
  },
  {
   "cell_type": "markdown",
   "id": "fba8a042",
   "metadata": {},
   "source": [
    "O objetivo do projeto é criar um sistema capaz de receber uma imagem de uma fruta e retornar a sua classificação como sendo uma maça, banana ou laranja, para isso é necessário criar um modelo de aprendizado supervisionado capaz de reconhecer caracteríticas das frutas pretendidas por meio de um banco de imagens pré-rotuladas."
   ]
  },
  {
   "cell_type": "markdown",
   "id": "c34629fc",
   "metadata": {},
   "source": [
    "### 1.1 Recursos "
   ]
  },
  {
   "cell_type": "markdown",
   "id": "2ff1d796",
   "metadata": {},
   "source": [
    "### Bibliotecas"
   ]
  },
  {
   "cell_type": "markdown",
   "id": "f1225073",
   "metadata": {},
   "source": [
    "\n",
    "- **Seaborn**, biblioteca em python foi utilizada para gerar gráfico de comparação da acurácia ao longo das epochs.\n",
    "- **Scikit-learn**, para clasular métricas de avaliação.\n",
    "  - confusion_matrix: Matriz de confusão para análise de desempenho.\n",
    "  - classification_report: Relatório com precisão, recall e F1-score.\n",
    "- **Tensor-flow**, para o carregamento e tratamento dos dados utilizados na modelagem e para a criação, treinamento e avaliação de modelo de classificação.\n",
    "- **Numpy**, para conversão de imagens em array multidimensionais.\n",
    "- **TensorFlow**, para construção e treinamento de modelos de deep learning.\n",
    "- **Keras** (tensorflow.keras), API de alto nível para redes neurais (integradas ao TensorFlow).\n",
    "  - Sequential: Modelo sequencial para empilhar camadas.\n",
    "  - layers: Camadas pré-definidas (ex: Conv2D, MaxPooling2D, Dense).\n",
    "  - ImageDataGenerator: Pré-processamento e aumento de dados para imagens."
   ]
  },
  {
   "cell_type": "code",
   "execution_count": 3,
   "id": "c449c3fd-c4c0-4234-87de-a91bdecd81aa",
   "metadata": {
    "executionCancelledAt": null,
    "executionTime": 8110,
    "lastExecutedAt": 1739916307577,
    "lastExecutedByKernel": "85546375-364e-4744-8927-8a644effb49e",
    "lastScheduledRunId": null,
    "lastSuccessfullyExecutedCode": "%pip install kagglehub\nimport pandas as pd\nimport os \nimport numpy as np\nimport matplotlib.pyplot as plt\nimport zipfile as zf\nimport tensorflow as tf\nfrom tensorflow import keras\nfrom tensorflow.keras import layers \nfrom tensorflow.keras.models import Sequential \nfrom tensorflow.keras.preprocessing.image import ImageDataGenerator\nimport kagglehub\nimport zipfile\n",
    "outputsMetadata": {
     "0": {
      "height": 395,
      "type": "stream"
     },
     "1": {
      "height": 80,
      "type": "stream"
     }
    }
   },
   "outputs": [
    {
     "name": "stderr",
     "output_type": "stream",
     "text": [
      "2025-02-22 01:22:21.565781: I external/local_xla/xla/tsl/cuda/cudart_stub.cc:32] Could not find cuda drivers on your machine, GPU will not be used.\n",
      "2025-02-22 01:22:21.784475: I external/local_xla/xla/tsl/cuda/cudart_stub.cc:32] Could not find cuda drivers on your machine, GPU will not be used.\n",
      "2025-02-22 01:22:21.883276: E external/local_xla/xla/stream_executor/cuda/cuda_fft.cc:477] Unable to register cuFFT factory: Attempting to register factory for plugin cuFFT when one has already been registered\n",
      "WARNING: All log messages before absl::InitializeLog() is called are written to STDERR\n",
      "E0000 00:00:1740187342.030836    3528 cuda_dnn.cc:8310] Unable to register cuDNN factory: Attempting to register factory for plugin cuDNN when one has already been registered\n",
      "E0000 00:00:1740187342.067374    3528 cuda_blas.cc:1418] Unable to register cuBLAS factory: Attempting to register factory for plugin cuBLAS when one has already been registered\n",
      "2025-02-22 01:22:22.377095: I tensorflow/core/platform/cpu_feature_guard.cc:210] This TensorFlow binary is optimized to use available CPU instructions in performance-critical operations.\n",
      "To enable the following instructions: AVX2 FMA, in other operations, rebuild TensorFlow with the appropriate compiler flags.\n"
     ]
    }
   ],
   "source": [
    "import pandas as pd\n",
    "import seaborn as sns\n",
    "import sklearn as sk \n",
    "import numpy as np\n",
    "import tensorflow as tf\n",
    "import zipfile\n",
    "import os\n",
    "import matplotlib.pyplot as plt\n",
    "import cv2\n",
    "import numpy as np\n",
    "from PIL import Image\n",
    "from tensorflow import keras\n",
    "from tensorflow.keras import layers \n",
    "from tensorflow.keras.models import Sequential \n",
    "from tensorflow.keras.preprocessing.image import ImageDataGenerator\n",
    "from sklearn.metrics import confusion_matrix, classification_report\n",
    "from sklearn.model_selection import train_test_split\n",
    "import os\n",
    "\n"
   ]
  },
  {
   "cell_type": "markdown",
   "id": "0b7aa62a",
   "metadata": {},
   "source": [
    "## 2. Compreensão dos Dados"
   ]
  },
  {
   "cell_type": "markdown",
   "id": "3f4b2d70",
   "metadata": {},
   "source": [
    "A fonte de dados utilizado foi o dataset público disponível no Kaggle chamado [Fruits 360 Dataset (100x100)](https://www.kaggle.com/datasets/moltean/fruits/data?select=fruits-360_dataset_100x100), que contém divers imagens de frutas categorizados. Esse dataset foi escolhido, dentre outros semelhantes, pela enorme quantidade, qualidade e variedade de imagens, o que é ideal para o treinamento de um modelo de clssificação de imagens em que o algortimo precisa ter a oportunidade de entrar em contato com o máximo de características distintas do mesmo rótulo para conseguir generalizar bem com dados reais.\n",
    "\n",
    "As imagens estão armazenadas em dois diretórios principais \"teste\" e \"treinamento\", em cada um dos diretórios as imagens estão dispostas nos subdiretórios  \"Apple\", \"Banana\" e \"Orange\" \n",
    "\n",
    "| Tipo de Imagem | Quantidade |     \n",
    "|----------------|------------|\n",
    "| Treinamento    | 10190      |\n",
    "| Teste          | 3403       |\n",
    "---\n",
    "| Fruta   | Treinamento e Teste | Validação  |\n",
    "|---------|-------------|-------|\n",
    "| Apple   | 7579        | 2525  |\n",
    "| Orange  | 1181        | 394   |\n",
    "| Banana  | 1430        | 484   |\n",
    "\n"
   ]
  },
  {
   "cell_type": "code",
   "execution_count": 4,
   "id": "4887fc4d-4568-48d6-8ac8-179c63811c10",
   "metadata": {
    "executionCancelledAt": null,
    "executionTime": 54,
    "lastExecutedAt": 1739916556564,
    "lastExecutedByKernel": "85546375-364e-4744-8927-8a644effb49e",
    "lastScheduledRunId": null,
    "lastSuccessfullyExecutedCode": "test_path = (\"360fruits/treinamento\")\ntrain_path = (\"360fruits/teste\")"
   },
   "outputs": [],
   "source": [
    "# O caminho para os diretórios de treinamento e teste são armazenados nas seguintes variáveis:\n",
    "val_path = (\"/workspaces/Uece-C-Jovem/Ciência de Dados - Avançado/aux/360fruits/treinamento\")\n",
    "train_path = (\"/workspaces/Uece-C-Jovem/Ciência de Dados - Avançado/aux/360fruits/teste\")"
   ]
  },
  {
   "cell_type": "code",
   "execution_count": 6,
   "id": "222952e8",
   "metadata": {},
   "outputs": [
    {
     "name": "stdout",
     "output_type": "stream",
     "text": [
      "Quantidade de imagem para Treinamento e Teste: 10190\n",
      "Quantidade de imagens para Validação: 3403\n",
      "Quantidade de imagens para Treinamento por fruta:\n",
      "Apple: 7579 images\n",
      "Orange: 1181 images\n",
      "Banana: 1430 images\n",
      "Quantidade de imagens para Validação por fruta:\n",
      "Apple: 2525 images\n",
      "Orange: 394 images\n",
      "Banana: 484 images\n"
     ]
    }
   ],
   "source": [
    "def count_images_in_directory(directory):\n",
    "    count = 0\n",
    "    for root, dirs, files in os.walk(directory):\n",
    "        count += len(files)\n",
    "    return count\n",
    "\n",
    "train_count = count_images_in_directory(train_path)\n",
    "test_count = count_images_in_directory(val_path)\n",
    "\n",
    "print(f\"Quantidade de imagem para Treinamento e Teste: {train_count}\")\n",
    "print(f\"Quantidade de imagens para Validação: {test_count}\")\n",
    "\n",
    "# Calculate and display metrics for each subdirectory\n",
    "def calculate_metrics(directory):\n",
    "    metrics = {}\n",
    "    for subdir in os.listdir(directory):\n",
    "        subdir_path = os.path.join(directory, subdir)\n",
    "        if os.path.isdir(subdir_path):\n",
    "            metrics[subdir] = count_images_in_directory(subdir_path)\n",
    "    return metrics\n",
    "\n",
    "train_metrics = calculate_metrics(train_path)\n",
    "test_metrics = calculate_metrics(val_path)\n",
    "\n",
    "print(\"Quantidade de imagens para Treinamento por fruta:\")\n",
    "for fruit, count in train_metrics.items():\n",
    "    print(f\"{fruit}: {count} images\")\n",
    "\n",
    "print(\"Quantidade de imagens para Validação por fruta:\")\n",
    "for fruit, count in test_metrics.items():\n",
    "    print(f\"{fruit}: {count} images\")\n"
   ]
  },
  {
   "cell_type": "code",
   "execution_count": null,
   "id": "d2e0ada3",
   "metadata": {
    "executionCancelledAt": null,
    "executionTime": 726,
    "lastExecutedAt": 1739916566886,
    "lastExecutedByKernel": "85546375-364e-4744-8927-8a644effb49e",
    "lastScheduledRunId": null,
    "lastSuccessfullyExecutedCode": "\nplt.figure(figsize=(10, 10))\n\nfor images, labels in data_train.take(1):\n    for i in range(3):\n       plt.subplot(3,3, i + 1)\n       plt.imshow(images[i].numpy().astype(\"uint8\"))\n       plt.title(data_train.class_names[labels[i]])\n\n    \n",
    "outputsMetadata": {
     "0": {
      "height": 38,
      "type": "stream"
     }
    }
   },
   "outputs": [
    {
     "ename": "AttributeError",
     "evalue": "'dict' object has no attribute 'unbatch'",
     "output_type": "error",
     "traceback": [
      "\u001b[0;31m---------------------------------------------------------------------------\u001b[0m",
      "\u001b[0;31mAttributeError\u001b[0m                            Traceback (most recent call last)",
      "Cell \u001b[0;32mIn[9], line 4\u001b[0m\n\u001b[1;32m      1\u001b[0m sampled_images \u001b[38;5;241m=\u001b[39m {}\n\u001b[1;32m      3\u001b[0m \u001b[38;5;66;03m# 'unbatch' permite iterar por instância individualmente\u001b[39;00m\n\u001b[0;32m----> 4\u001b[0m \u001b[38;5;28;01mfor\u001b[39;00m image, label \u001b[38;5;129;01min\u001b[39;00m \u001b[43mtrain_metrics\u001b[49m\u001b[38;5;241;43m.\u001b[39;49m\u001b[43munbatch\u001b[49m():\n\u001b[1;32m      5\u001b[0m     label_int \u001b[38;5;241m=\u001b[39m \u001b[38;5;28mint\u001b[39m(label\u001b[38;5;241m.\u001b[39mnumpy())\n\u001b[1;32m      6\u001b[0m     \u001b[38;5;28;01mif\u001b[39;00m label_int \u001b[38;5;129;01mnot\u001b[39;00m \u001b[38;5;129;01min\u001b[39;00m sampled_images:\n",
      "\u001b[0;31mAttributeError\u001b[0m: 'dict' object has no attribute 'unbatch'"
     ]
    }
   ],
   "source": [
    "sampled_images = {}\n",
    "\n",
    "# 'unbatch' permite iterar por instância individualmente\n",
    "for image, label in train_path.unbatch():\n",
    "    label_int = int(label.numpy())\n",
    "    if label_int not in sampled_images:\n",
    "        sampled_images[label_int] = image\n",
    "    if len(sampled_images) == len(class_names):\n",
    "        break\n",
    "\n",
    "plt.figure(figsize=(10, 10))\n",
    "for i, label in enumerate(sorted(sampled_images.keys())):\n",
    "    plt.subplot(1, len(sampled_images), i + 1)\n",
    "    plt.imshow(sampled_images[label].numpy().astype(\"uint8\"))\n",
    "    plt.title(class_names[label])\n",
    "plt.show()\n",
    "        "
   ]
  },
  {
   "cell_type": "markdown",
   "id": "3e803bcb",
   "metadata": {},
   "source": [
    "### 3. Preparação de dados"
   ]
  },
  {
   "cell_type": "code",
   "execution_count": 61,
   "id": "0dc61abc",
   "metadata": {
    "executionCancelledAt": null,
    "executionTime": 48,
    "lastExecutedAt": 1739916556612,
    "lastExecutedByKernel": "85546375-364e-4744-8927-8a644effb49e",
    "lastScheduledRunId": null,
    "lastSuccessfullyExecutedCode": "img_widht = 100\nimg_height = 100\n\n"
   },
   "outputs": [],
   "source": [
    "# A dimensão das imagens é definida para 100 de altura e 100 de largura nas seguintes variáveis:\n",
    "img_widht = 100\n",
    "img_height = 100\n"
   ]
  },
  {
   "cell_type": "markdown",
   "id": "541c7ec4",
   "metadata": {},
   "source": [
    "**O dicionário dataset_params define parâmetro que será utilizados no carregamento das imagens no ambiente tf.kera:**\n",
    "\n",
    "- **labels:** \"inferred\" significa que as labels serão inferidas dos nomes das pastas\n",
    "- **label_mode:** \"int\" indica que as labels serão números inteiros\n",
    "- **image_size:** Define o tamanho das imagens (largura e altura)\n",
    "- **color_mode:** \"rgb\" especifica imagens coloridas com 3 canais\n",
    "- **batch_size:** Define 32 imagens por lote\n",
    "- **shuffle:** Embaralha os dados durante o treinamento\n",
    "\n",
    "**'experimental.AUTOTUNE':** Foi utilizado o resurso 'experimental.AUTOTUNE' que é uma constante do TensorFlow que otimiza automaticamente o pipeline de dados garantindo mais eficiencia e "
   ]
  },
  {
   "cell_type": "code",
   "execution_count": null,
   "id": "1b7578be",
   "metadata": {
    "executionCancelledAt": null,
    "executionTime": 9547,
    "lastExecutedAt": 1739916566159,
    "lastExecutedByKernel": "85546375-364e-4744-8927-8a644effb49e",
    "lastScheduledRunId": null,
    "lastSuccessfullyExecutedCode": "\ndata_train = tf.keras.preprocessing.image_dataset_from_directory(\n    train_path,\n    labels=\"inferred\",\n    label_mode=\"int\",\n    image_size=(img_widht, img_height),\n    color_mode=\"rgb\",\n    batch_size=32,\n)\n\ndata_test = tf.keras.preprocessing.image_dataset_from_directory(\n    test_path,\n    labels=\"inferred\",\n    label_mode=\"int\",\n    image_size=(img_widht, img_height),\n    color_mode=\"rgb\",\n    batch_size=32,\n)\n\n\n",
    "outputsMetadata": {
     "0": {
      "height": 59,
      "type": "stream"
     }
    }
   },
   "outputs": [
    {
     "name": "stdout",
     "output_type": "stream",
     "text": [
      "Found 10190 files belonging to 3 classes.\n",
      "Using 8152 files for training.\n",
      "Found 3403 files belonging to 3 classes.\n"
     ]
    }
   ],
   "source": [
    "\n",
    "dataset_params = {\n",
    "    \"labels\": \"inferred\",\n",
    "    \"label_mode\": \"int\",\n",
    "    \"image_size\": (img_widht, img_height),\n",
    "    \"color_mode\": \"rgb\",\n",
    "    \"batch_size\": 32,\n",
    "    \"shuffle\": True\n",
    "}\n",
    "\n"
   ]
  },
  {
   "cell_type": "markdown",
   "id": "bdcd1d2a",
   "metadata": {},
   "source": [
    "**As imagens são carregadas do diretório de treino e de teste usando os parâmetros definidos anteriormente. A fim do acompanhamen durante o treinamento, são reservados dos dados de treinamento 20% para fim de validação.**\n",
    "\n",
    "- **validation_split=0.2:** Separa 20% dos dados para validação\n",
    "- **subset=\"training\":** Indica que este é o conjunto de treino\n",
    "- **seed=123:** Garante reprodutibilidade no embaralhamento"
   ]
  },
  {
   "cell_type": "code",
   "execution_count": null,
   "id": "1ffe3d96",
   "metadata": {},
   "outputs": [],
   "source": [
    "\n",
    "data_train = tf.keras.preprocessing.image_dataset_from_directory(\n",
    "    train_path,\n",
    "    **dataset_params,\n",
    "    validation_split=0.2,\n",
    "    subset=\"training\",\n",
    "    seed=123\n",
    ")\n",
    "class_names = data_train.class_names\n",
    "\n",
    "data_test = tf.keras.preprocessing.image_dataset_from_directory(\n",
    "    test_path,\n",
    "    **dataset_params,  # Use ** to unpack the dictionary\n",
    "        # Override shuffle parameter for test data\n",
    ")"
   ]
  },
  {
   "cell_type": "code",
   "execution_count": null,
   "id": "5387dd8e-9494-400d-8dd8-7beeac1053a8",
   "metadata": {
    "executionCancelledAt": null,
    "executionTime": 67,
    "lastExecutedAt": 1739916566953,
    "lastExecutedByKernel": "85546375-364e-4744-8927-8a644effb49e",
    "lastScheduledRunId": null,
    "lastSuccessfullyExecutedCode": "from tensorflow.keras import layers, models\n\nmodel = models.Sequential([\n    layers.Conv2D(32, (3,3), activation='relu', input_shape=(100, 100, 3)),\n    layers.MaxPooling2D((2,2)),\n    layers.Conv2D(64, (3,3), activation='relu'),\n    layers.MaxPooling2D((2,2)),\n    layers.Flatten(),\n    layers.Dense(128, activation='relu'),\n    layers.Dense(40, activation='softmax')  # 10 classes\n])\n\nmodel.compile(optimizer='adam',\n              loss='sparse_categorical_crossentropy',\n              metrics=['accuracy'])"
   },
   "outputs": [
    {
     "name": "stderr",
     "output_type": "stream",
     "text": [
      "/home/codespace/.python/current/lib/python3.12/site-packages/keras/src/layers/convolutional/base_conv.py:107: UserWarning: Do not pass an `input_shape`/`input_dim` argument to a layer. When using Sequential models, prefer using an `Input(shape)` object as the first layer in the model instead.\n",
      "  super().__init__(activity_regularizer=activity_regularizer, **kwargs)\n"
     ]
    }
   ],
   "source": [
    "from tensorflow.keras import layers, models\n",
    "\n",
    "model = models.Sequential([\n",
    "    \n",
    "    layers.Conv2D(32, (3,3), activation='relu', input_shape=(100, 100, 3)), # Modelo\n",
    "    layers.MaxPooling2D((2,2)),\n",
    "    layers.Conv2D(64, (3,3), activation='relu'),\n",
    "    layers.MaxPooling2D((2,2)),\n",
    "    layers.Flatten(),\n",
    "    layers.Dense(128, activation='relu'),\n",
    "    layers.Dense(3, activation='softmax')  # 10 classes\n",
    "   \n",
    "])\n",
    "\n",
    "model.compile(optimizer='adam',\n",
    "              loss='sparse_categorical_crossentropy',\n",
    "              metrics=['accuracy'])"
   ]
  },
  {
   "cell_type": "code",
   "execution_count": null,
   "id": "112a5d87-b18b-4bd8-a232-e220cd7d6737",
   "metadata": {
    "executionCancelledAt": null,
    "executionTime": 1358035,
    "lastExecutedAt": 1739917924988,
    "lastExecutedByKernel": "85546375-364e-4744-8927-8a644effb49e",
    "lastScheduledRunId": null,
    "lastSuccessfullyExecutedCode": "history = model.fit(\n    data_train,  # Imagens de treinamento e rótulos de treinamento incluídos no tf.data.Dataset\n    epochs=10,    # Número de épocas\n    batch_size=64,  # Tamanho do lote\n    validation_data=data_test\n)",
    "outputsMetadata": {
     "0": {
      "height": 437,
      "type": "stream"
     },
     "1": {
      "height": 101,
      "type": "stream"
     }
    }
   },
   "outputs": [
    {
     "name": "stdout",
     "output_type": "stream",
     "text": [
      "Epoch 1/10\n"
     ]
    },
    {
     "name": "stderr",
     "output_type": "stream",
     "text": [
      "2025-02-21 12:41:01.637196: W external/local_xla/xla/tsl/framework/cpu_allocator_impl.cc:83] Allocation of 39337984 exceeds 10% of free system memory.\n",
      "2025-02-21 12:41:01.755222: W external/local_xla/xla/tsl/framework/cpu_allocator_impl.cc:83] Allocation of 25447680 exceeds 10% of free system memory.\n",
      "2025-02-21 12:41:01.802905: W external/local_xla/xla/tsl/framework/cpu_allocator_impl.cc:83] Allocation of 39337984 exceeds 10% of free system memory.\n"
     ]
    },
    {
     "name": "stdout",
     "output_type": "stream",
     "text": [
      "\u001b[1m  2/255\u001b[0m \u001b[37m━━━━━━━━━━━━━━━━━━━━\u001b[0m \u001b[1m36s\u001b[0m 142ms/step - accuracy: 0.6484 - loss: 233.3835"
     ]
    },
    {
     "name": "stderr",
     "output_type": "stream",
     "text": [
      "2025-02-21 12:41:01.860901: W external/local_xla/xla/tsl/framework/cpu_allocator_impl.cc:83] Allocation of 39337984 exceeds 10% of free system memory.\n",
      "2025-02-21 12:41:01.918016: W external/local_xla/xla/tsl/framework/cpu_allocator_impl.cc:83] Allocation of 25447680 exceeds 10% of free system memory.\n"
     ]
    },
    {
     "name": "stdout",
     "output_type": "stream",
     "text": [
      "\u001b[1m255/255\u001b[0m \u001b[32m━━━━━━━━━━━━━━━━━━━━\u001b[0m\u001b[37m\u001b[0m \u001b[1m39s\u001b[0m 148ms/step - accuracy: 0.8930 - loss: 51.6793 - val_accuracy: 0.9812 - val_loss: 0.0568\n",
      "Epoch 2/10\n",
      "\u001b[1m255/255\u001b[0m \u001b[32m━━━━━━━━━━━━━━━━━━━━\u001b[0m\u001b[37m\u001b[0m \u001b[1m39s\u001b[0m 151ms/step - accuracy: 1.0000 - loss: 1.1804e-04 - val_accuracy: 0.9909 - val_loss: 0.0214\n",
      "Epoch 3/10\n",
      "\u001b[1m255/255\u001b[0m \u001b[32m━━━━━━━━━━━━━━━━━━━━\u001b[0m\u001b[37m\u001b[0m \u001b[1m36s\u001b[0m 143ms/step - accuracy: 1.0000 - loss: 7.5382e-06 - val_accuracy: 0.9915 - val_loss: 0.0212\n",
      "Epoch 4/10\n",
      "\u001b[1m255/255\u001b[0m \u001b[32m━━━━━━━━━━━━━━━━━━━━\u001b[0m\u001b[37m\u001b[0m \u001b[1m38s\u001b[0m 149ms/step - accuracy: 1.0000 - loss: 3.0217e-06 - val_accuracy: 0.9915 - val_loss: 0.0197\n",
      "Epoch 5/10\n",
      "\u001b[1m255/255\u001b[0m \u001b[32m━━━━━━━━━━━━━━━━━━━━\u001b[0m\u001b[37m\u001b[0m \u001b[1m39s\u001b[0m 143ms/step - accuracy: 1.0000 - loss: 1.7774e-06 - val_accuracy: 0.9918 - val_loss: 0.0186\n",
      "Epoch 6/10\n",
      "\u001b[1m255/255\u001b[0m \u001b[32m━━━━━━━━━━━━━━━━━━━━\u001b[0m\u001b[37m\u001b[0m \u001b[1m36s\u001b[0m 141ms/step - accuracy: 1.0000 - loss: 1.1658e-06 - val_accuracy: 0.9921 - val_loss: 0.0179\n",
      "Epoch 7/10\n",
      "\u001b[1m255/255\u001b[0m \u001b[32m━━━━━━━━━━━━━━━━━━━━\u001b[0m\u001b[37m\u001b[0m \u001b[1m36s\u001b[0m 140ms/step - accuracy: 1.0000 - loss: 8.3136e-07 - val_accuracy: 0.9921 - val_loss: 0.0173\n",
      "Epoch 8/10\n",
      "\u001b[1m255/255\u001b[0m \u001b[32m━━━━━━━━━━━━━━━━━━━━\u001b[0m\u001b[37m\u001b[0m \u001b[1m36s\u001b[0m 141ms/step - accuracy: 1.0000 - loss: 6.2328e-07 - val_accuracy: 0.9921 - val_loss: 0.0170\n",
      "Epoch 9/10\n",
      "\u001b[1m255/255\u001b[0m \u001b[32m━━━━━━━━━━━━━━━━━━━━\u001b[0m\u001b[37m\u001b[0m \u001b[1m42s\u001b[0m 143ms/step - accuracy: 1.0000 - loss: 4.8134e-07 - val_accuracy: 0.9921 - val_loss: 0.0168\n",
      "Epoch 10/10\n",
      "\u001b[1m255/255\u001b[0m \u001b[32m━━━━━━━━━━━━━━━━━━━━\u001b[0m\u001b[37m\u001b[0m \u001b[1m36s\u001b[0m 143ms/step - accuracy: 1.0000 - loss: 3.7950e-07 - val_accuracy: 0.9921 - val_loss: 0.0167\n"
     ]
    }
   ],
   "source": [
    "history = model.fit(\n",
    "    data_train,  # Imagens de treinamento e rótulos de treinamento incluídos no tf.data.Dataset\n",
    "    epochs=10,    # Número de épocas\n",
    "    batch_size=64,  # Tamanho do lote\n",
    "    validation_data=data_test\n",
    ")"
   ]
  },
  {
   "cell_type": "code",
   "execution_count": null,
   "id": "014d298d-57e9-465f-9a5b-cc8dfcb723ea",
   "metadata": {
    "executionCancelledAt": null,
    "executionTime": 273,
    "lastExecutedAt": 1739917925262,
    "lastExecutedByKernel": "85546375-364e-4744-8927-8a644effb49e",
    "lastScheduledRunId": null,
    "lastSuccessfullyExecutedCode": "import matplotlib.pyplot as plt\n\n# Plotar acurácia\nplt.plot(history.history['accuracy'], label='Treinamento')\nplt.plot(history.history['val_accuracy'], label='Validação')\nplt.title('Acurácia')\nplt.xlabel('Épocas')\nplt.legend()\nplt.show()"
   },
   "outputs": [
    {
     "data": {
      "image/png": "[encoded data removed]",
      "text/plain": [
       "<Figure size 640x480 with 1 Axes>"
      ]
     },
     "metadata": {},
     "output_type": "display_data"
    }
   ],
   "source": [
    "import matplotlib.pyplot as plt\n",
    "\n",
    "plt.plot(history.history['accuracy'], label='Treinamento')\n",
    "plt.plot(history.history['val_accuracy'], label='Teste')\n",
    "plt.title('Acurácia')\n",
    "plt.xlabel('Épocas')\n",
    "plt.legend()\n",
    "plt.show()"
   ]
  },
  {
   "cell_type": "code",
   "execution_count": null,
   "id": "5cb47087",
   "metadata": {},
   "outputs": [],
   "source": [
    "imagem = \"/workspaces/Uece-C-Jovem/Ciência de Dados - Avançado/aux/360fruits/R.jpeg\"\n",
    "imagem = tf.keras.preprocessing.image.load_img(imagem , target_size=( img_widht , img_height))\n",
    "imagem_array = tf.keras.preprocessing.image.img_to_array(imagem)\n",
    "imagem_bat = tf.expand_dims(imagem_array, 0)"
   ]
  },
  {
   "cell_type": "code",
   "execution_count": null,
   "id": "9d99d052",
   "metadata": {},
   "outputs": [
    {
     "name": "stdout",
     "output_type": "stream",
     "text": [
      "\u001b[1m 25/107\u001b[0m \u001b[32m━━━━\u001b[0m\u001b[37m━━━━━━━━━━━━━━━━\u001b[0m \u001b[1m2s\u001b[0m 36ms/step"
     ]
    },
    {
     "name": "stdout",
     "output_type": "stream",
     "text": [
      "\u001b[1m107/107\u001b[0m \u001b[32m━━━━━━━━━━━━━━━━━━━━\u001b[0m\u001b[37m\u001b[0m \u001b[1m4s\u001b[0m 37ms/step\n"
     ]
    }
   ],
   "source": [
    "# Predict on the entire test dataset\n",
    "y_pred = model.predict(data_test)\n",
    "\n",
    "# Extract true labels from data_test\n",
    "true_labels = np.concatenate([y for x, y in data_test], axis=0)\n",
    "\n",
    "# Get the predicted labels\n",
    "predicted_labels = np.argmax(y_pred, axis=1)\n",
    "\n",
    "confusion_matrixm = sk.metrics.confusion_matrix(true_labels, predicted_labels)"
   ]
  },
  {
   "cell_type": "code",
   "execution_count": null,
   "id": "ec75a369",
   "metadata": {},
   "outputs": [
    {
     "name": "stdout",
     "output_type": "stream",
     "text": [
      "Acurácia final no teste: 1.0000\n",
      "\u001b[1m  5/107\u001b[0m \u001b[37m━━━━━━━━━━━━━━━━━━━━\u001b[0m \u001b[1m3s\u001b[0m 35ms/step"
     ]
    },
    {
     "name": "stdout",
     "output_type": "stream",
     "text": [
      "\u001b[1m107/107\u001b[0m \u001b[32m━━━━━━━━━━━━━━━━━━━━\u001b[0m\u001b[37m\u001b[0m \u001b[1m4s\u001b[0m 36ms/step\n",
      "\n",
      "Classification Report:\n",
      "              precision    recall  f1-score   support\n",
      "\n",
      "           0       0.99      1.00      0.99      2525\n",
      "           1       1.00      1.00      1.00       484\n",
      "           2       0.98      0.95      0.97       394\n",
      "\n",
      "    accuracy                           0.99      3403\n",
      "   macro avg       0.99      0.98      0.99      3403\n",
      "weighted avg       0.99      0.99      0.99      3403\n",
      "\n"
     ]
    },
    {
     "data": {
      "image/png": "[encoded data removed]",
      "text/plain": [
       "<Figure size 1000x800 with 2 Axes>"
      ]
     },
     "metadata": {},
     "output_type": "display_data"
    }
   ],
   "source": [
    "loss, accuracy = history.history['loss'], history.history['accuracy']\n",
    "print(f\"Acurácia final no teste: {accuracy[-1]:.4f}\")\n",
    "\n",
    "# Get predictions for the test dataset\n",
    "y_pred = model.predict(data_test)\n",
    "y_pred_classes = np.argmax(y_pred, axis=1)\n",
    "\n",
    "# Get true labels from the test dataset\n",
    "y_true = np.concatenate([y for x, y in data_test], axis=0)\n",
    "\n",
    "# Print classification report\n",
    "print(\"\\nClassification Report:\")\n",
    "print(classification_report(y_true, y_pred_classes))\n",
    "\n",
    "# Create and display confusion matrix\n",
    "cm = confusion_matrix(y_true, y_pred_classes)\n",
    "plt.figure(figsize=(10, 8))\n",
    "sns.heatmap(cm, annot=True, fmt=\"d\")\n",
    "plt.title(\"Confusion Matrix\")\n",
    "plt.ylabel(\"True Label\")\n",
    "plt.xlabel(\"Predicted Label\")\n",
    "plt.show()"
   ]
  },
  {
   "cell_type": "code",
   "execution_count": null,
   "id": "bd51c27f",
   "metadata": {},
   "outputs": [],
   "source": []
  }
 ],
 "metadata": {
  "editor": "DataLab",
  "kernelspec": {
   "display_name": "Python 3",
   "language": "python",
   "name": "python3"
  },
  "language_info": {
   "codemirror_mode": {
    "name": "ipython",
    "version": 3
   },
   "file_extension": ".py",
   "mimetype": "text/x-python",
   "name": "python",
   "nbconvert_exporter": "python",
   "pygments_lexer": "ipython3",
   "version": "3.12.1"
  }
 },
 "nbformat": 4,
 "nbformat_minor": 5
}
